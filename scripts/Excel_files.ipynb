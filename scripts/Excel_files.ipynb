{
 "cells": [
  {
   "cell_type": "code",
   "execution_count": 17,
   "metadata": {},
   "outputs": [],
   "source": [
    "import pandas as pd\n",
    "import xlrd\n",
    "import matplotlib.pyplot as plt\n",
    "import numpy as np\n",
    "import seaborn as sns\n",
    "from numpy import concatenate\n",
    "import math\n",
    "import re\n",
    "import os \n",
    "import glob\n",
    "\n",
    "from sklearn.model_selection import train_test_split\n",
    "from sklearn.metrics import mean_squared_error\n",
    "from sklearn.preprocessing import MinMaxScaler\n",
    "from sklearn.preprocessing import LabelEncoder\n",
    "from keras.models import Sequential\n",
    "from keras.layers import Dense\n",
    "from keras.layers import LSTM"
   ]
  },
  {
   "cell_type": "code",
   "execution_count": 18,
   "metadata": {},
   "outputs": [
    {
     "data": {
      "text/plain": [
       "'/Users/shrilakshmisbonageri/Desktop/UW/DIRECT/PROJECT/Data/CX2_16'"
      ]
     },
     "execution_count": 18,
     "metadata": {},
     "output_type": "execute_result"
    }
   ],
   "source": [
    "pwd\n"
   ]
  },
  {
   "cell_type": "code",
   "execution_count": 19,
   "metadata": {},
   "outputs": [
    {
     "data": {
      "text/plain": [
       "['CX2_16_9_6_11.xlsx',\n",
       " 'CX2_16_4_18_11.xlsx',\n",
       " 'CX2_16_2_15_11.xlsx',\n",
       " 'CX2_16_6_28_12.xlsx',\n",
       " 'CX2_16_8_29_11.xlsx',\n",
       " 'CX2_16_4_23_12.xlsx',\n",
       " 'CX2_16_6_13_11.xlsx',\n",
       " 'CX2_16_3_2_12.xlsx',\n",
       " 'CX2_16_1_30_12.xlsx',\n",
       " 'CX2_16_3_7_11.xlsx',\n",
       " 'CX2_16_7_12_12.xlsx',\n",
       " 'CX2_16_4_12_11.xlsx',\n",
       " 'CX2_16_7_21_11.xlsx',\n",
       " 'CX2_16_4_17_12.xlsx',\n",
       " 'CX2_16_10_18_11.xlsx',\n",
       " 'CX2_16_8_10_12.xlsx',\n",
       " 'CX2_16_5_23_11.xlsx',\n",
       " 'CX2_16_7_03_12.xlsx',\n",
       " 'CX2_16_6_10_11.xlsx',\n",
       " 'CX2_16_4_1_11.xlsx',\n",
       " 'CX2_16_9_16_11.xlsx',\n",
       " 'CX2_16_9_20_11.xlsx',\n",
       " 'CX2_16_8_19_11.xlsx',\n",
       " 'CX2_16_4_29_11.xlsx',\n",
       " 'CX2_16_10_4_11.xlsx',\n",
       " 'CX2_16_3_27_12.xlsx',\n",
       " 'CX2_16_6_19_12.xlsx',\n",
       " 'CX2_16_12_16_11.xlsx',\n",
       " 'CX2_16_2_25_11.xlsx',\n",
       " 'CX2_16_3_19_12.xlsx',\n",
       " 'CX2_16_6_7_11.xlsx',\n",
       " 'CX2_16_10_14_11.xlsx',\n",
       " 'CX2_16_4_5_12.xlsx',\n",
       " 'CX2_16_5_22_12.xlsx',\n",
       " 'CX2_16_6_01_12.xlsx',\n",
       " 'CX2_16_8_30_12.xlsx',\n",
       " 'CX2_16_8_20_12.xlsx',\n",
       " 'CX2_16_5_13_11.xlsx',\n",
       " 'CX2_16_3_21_11.xlsx',\n",
       " 'CX2_16_5_16_12.xlsx',\n",
       " 'CX2_16_7_23_12.xlsx',\n",
       " 'CX2_16_6_20_11.xlsx',\n",
       " 'CX2_16_2_6_12.xlsx',\n",
       " 'CX2_16_6_30_11.xlsx',\n",
       " 'CX2_16_9_10_12.xlsx',\n",
       " 'CX2_16_8_1_11.xlsx',\n",
       " 'CX2_16_7_11_11.xlsx',\n",
       " 'CX2_16_5_9_11.xlsx',\n",
       " 'CX2_16_10_28_11.xlsx',\n",
       " 'CX2_16_8_9_11.xlsx',\n",
       " 'CX2_16_5_07_12.xlsx']"
      ]
     },
     "execution_count": 19,
     "metadata": {},
     "output_type": "execute_result"
    }
   ],
   "source": [
    "path = '/Users/shrilakshmisbonageri/Desktop/UW/DIRECT/PROJECT/Data/CX2_16'\n",
    "files = os.listdir(path)\n",
    "excel_files = list(filter(lambda x: x[-5:]=='.xlsx' , files))\n",
    "excel_files"
   ]
  },
  {
   "cell_type": "code",
   "execution_count": 27,
   "metadata": {},
   "outputs": [
    {
     "name": "stderr",
     "output_type": "stream",
     "text": [
      "/Users/shrilakshmisbonageri/miniconda3/envs/keras/lib/python3.6/site-packages/ipykernel_launcher.py:16: SettingWithCopyWarning: \n",
      "A value is trying to be set on a copy of a slice from a DataFrame\n",
      "\n",
      "See the caveats in the documentation: http://pandas.pydata.org/pandas-docs/stable/indexing.html#indexing-view-versus-copy\n",
      "  app.launch_new_instance()\n",
      "/Users/shrilakshmisbonageri/miniconda3/envs/keras/lib/python3.6/site-packages/ipykernel_launcher.py:17: SettingWithCopyWarning: \n",
      "A value is trying to be set on a copy of a slice from a DataFrame\n",
      "\n",
      "See the caveats in the documentation: http://pandas.pydata.org/pandas-docs/stable/indexing.html#indexing-view-versus-copy\n",
      "/Users/shrilakshmisbonageri/miniconda3/envs/keras/lib/python3.6/site-packages/ipykernel_launcher.py:20: SettingWithCopyWarning: \n",
      "A value is trying to be set on a copy of a slice from a DataFrame\n",
      "\n",
      "See the caveats in the documentation: http://pandas.pydata.org/pandas-docs/stable/indexing.html#indexing-view-versus-copy\n",
      "/Users/shrilakshmisbonageri/miniconda3/envs/keras/lib/python3.6/site-packages/ipykernel_launcher.py:21: SettingWithCopyWarning: \n",
      "A value is trying to be set on a copy of a slice from a DataFrame\n",
      "\n",
      "See the caveats in the documentation: http://pandas.pydata.org/pandas-docs/stable/indexing.html#indexing-view-versus-copy\n"
     ]
    }
   ],
   "source": [
    "df = {}\n",
    "cycle_data = {}\n",
    "model_data = {}\n",
    "i = 0\n",
    "for excel_file in excel_files:\n",
    "    df[i] = pd.read_excel(excel_file,sheet_name='Channel_1-006')\n",
    "    # Grouping rows by the cycle index.\n",
    "    group = df[i].groupby(['Cycle_Index']).count()\n",
    "    group['Cumu_count'] = pd.Series(np.random.randn(len(group)), index=group.index)\n",
    "    group['Cumu_count'] = group['Data_Point'].cumsum()\n",
    "    # Adding two new pandas columns for charge and discharge in individual cycles.\n",
    "    df[i]['Charge'] = pd.Series(np.random.randn(len(df[i])), index=df[i].index)\n",
    "    df[i]['discharge'] = pd.Series(np.random.randn(len(df[i])), index=df[i].index)\n",
    "    cycle = []\n",
    "    cycle = group['Cumu_count']\n",
    "    df[i]['Charge'][0:cycle[1]] = df[i]['Charge_Capacity(Ah)'][0:cycle[1]]\n",
    "    df[i]['discharge'][0:cycle[1]] = df[i]['Discharge_Capacity(Ah)'][0:cycle[1]]\n",
    "    # Converting cumulative charge capacity data to individual cycle data.\n",
    "    for j in range(1,len(cycle)):\n",
    "        df[i]['Charge'][cycle[j]:cycle[j+1]] = df[i]['Charge_Capacity(Ah)'][cycle[j]:cycle[j+1]]-df[i]['Charge_Capacity(Ah)'][cycle[j]]\n",
    "        df[i]['discharge'][cycle[j]:cycle[j+1]] = df[i]['Discharge_Capacity(Ah)'][cycle[j]:cycle[j+1]]-df[i]['Discharge_Capacity(Ah)'][cycle[j]]\n",
    "    # Dropping additional columns \n",
    "    cycle_data[i] = df[i].drop(['Data_Point','Internal_Resistance(Ohm)','Step_Index','Step_Time(s)','Charge_Capacity(Ah)','Discharge_Capacity(Ah)','Charge_Energy(Wh)','Discharge_Energy(Wh)','dV/dt(V/s)','Is_FC_Data','AC_Impedance(Ohm)','ACI_Phase_Angle(Deg)'],axis=1)\n",
    "    cycle_data[i]['Capacity'] = pd.Series(np.random.randn(len(cycle_data[i])), index=cycle_data[i].index)\n",
    "    # Combining charge and discharge capacities to calculate net charge capacity of the battery.\n",
    "    cycle_data[i]['Capacity'] = cycle_data[i]['Charge'] - cycle_data[i]['discharge']\n",
    "    cycle_data[i].set_index('Date_Time',inplace=True)\n",
    "    model_data[i] = cycle_data[i].drop(['Charge','discharge','Test_Time(s)'],axis=1)\n",
    "    i = i + 1"
   ]
  },
  {
   "cell_type": "code",
   "execution_count": 28,
   "metadata": {},
   "outputs": [
    {
     "data": {
      "text/plain": [
       "dict_keys([0, 1, 2, 3, 4, 5, 6, 7, 8, 9, 10, 11, 12, 13, 14, 15, 16, 17, 18, 19, 20, 21, 22, 23, 24, 25, 26, 27, 28, 29, 30, 31, 32, 33, 34, 35, 36, 37, 38, 39, 40, 41, 42, 43, 44, 45, 46, 47, 48, 49, 50])"
      ]
     },
     "execution_count": 28,
     "metadata": {},
     "output_type": "execute_result"
    }
   ],
   "source": [
    "df.keys()"
   ]
  },
  {
   "cell_type": "code",
   "execution_count": 29,
   "metadata": {},
   "outputs": [
    {
     "data": {
      "text/plain": [
       "dict_keys([0, 1, 2, 3, 4, 5, 6, 7, 8, 9, 10, 11, 12, 13, 14, 15, 16, 17, 18, 19, 20, 21, 22, 23, 24, 25, 26, 27, 28, 29, 30, 31, 32, 33, 34, 35, 36, 37, 38, 39, 40, 41, 42, 43, 44, 45, 46, 47, 48, 49, 50])"
      ]
     },
     "execution_count": 29,
     "metadata": {},
     "output_type": "execute_result"
    }
   ],
   "source": [
    "cycle_data.keys()"
   ]
  },
  {
   "cell_type": "code",
   "execution_count": 30,
   "metadata": {},
   "outputs": [
    {
     "data": {
      "text/html": [
       "<div>\n",
       "<style scoped>\n",
       "    .dataframe tbody tr th:only-of-type {\n",
       "        vertical-align: middle;\n",
       "    }\n",
       "\n",
       "    .dataframe tbody tr th {\n",
       "        vertical-align: top;\n",
       "    }\n",
       "\n",
       "    .dataframe thead th {\n",
       "        text-align: right;\n",
       "    }\n",
       "</style>\n",
       "<table border=\"1\" class=\"dataframe\">\n",
       "  <thead>\n",
       "    <tr style=\"text-align: right;\">\n",
       "      <th></th>\n",
       "      <th>Test_Time(s)</th>\n",
       "      <th>Cycle_Index</th>\n",
       "      <th>Current(A)</th>\n",
       "      <th>Voltage(V)</th>\n",
       "      <th>Charge</th>\n",
       "      <th>discharge</th>\n",
       "      <th>Capacity</th>\n",
       "    </tr>\n",
       "    <tr>\n",
       "      <th>Date_Time</th>\n",
       "      <th></th>\n",
       "      <th></th>\n",
       "      <th></th>\n",
       "      <th></th>\n",
       "      <th></th>\n",
       "      <th></th>\n",
       "      <th></th>\n",
       "    </tr>\n",
       "  </thead>\n",
       "  <tbody>\n",
       "    <tr>\n",
       "      <th>2012-04-17 14:05:37</th>\n",
       "      <td>30.015020</td>\n",
       "      <td>1</td>\n",
       "      <td>0.000000</td>\n",
       "      <td>3.698377</td>\n",
       "      <td>0.000000</td>\n",
       "      <td>0.0</td>\n",
       "      <td>0.000000</td>\n",
       "    </tr>\n",
       "    <tr>\n",
       "      <th>2012-04-17 14:06:07</th>\n",
       "      <td>60.030139</td>\n",
       "      <td>1</td>\n",
       "      <td>0.000000</td>\n",
       "      <td>3.698539</td>\n",
       "      <td>0.000000</td>\n",
       "      <td>0.0</td>\n",
       "      <td>0.000000</td>\n",
       "    </tr>\n",
       "    <tr>\n",
       "      <th>2012-04-17 14:06:37</th>\n",
       "      <td>90.045129</td>\n",
       "      <td>1</td>\n",
       "      <td>0.000000</td>\n",
       "      <td>3.698539</td>\n",
       "      <td>0.000000</td>\n",
       "      <td>0.0</td>\n",
       "      <td>0.000000</td>\n",
       "    </tr>\n",
       "    <tr>\n",
       "      <th>2012-04-17 14:07:07</th>\n",
       "      <td>120.013246</td>\n",
       "      <td>1</td>\n",
       "      <td>0.000000</td>\n",
       "      <td>3.698539</td>\n",
       "      <td>0.000000</td>\n",
       "      <td>0.0</td>\n",
       "      <td>0.000000</td>\n",
       "    </tr>\n",
       "    <tr>\n",
       "      <th>2012-04-17 14:07:38</th>\n",
       "      <td>150.028628</td>\n",
       "      <td>1</td>\n",
       "      <td>0.674908</td>\n",
       "      <td>3.802700</td>\n",
       "      <td>0.005626</td>\n",
       "      <td>0.0</td>\n",
       "      <td>0.005626</td>\n",
       "    </tr>\n",
       "  </tbody>\n",
       "</table>\n",
       "</div>"
      ],
      "text/plain": [
       "                     Test_Time(s)  Cycle_Index  Current(A)  Voltage(V)  \\\n",
       "Date_Time                                                                \n",
       "2012-04-17 14:05:37     30.015020            1    0.000000    3.698377   \n",
       "2012-04-17 14:06:07     60.030139            1    0.000000    3.698539   \n",
       "2012-04-17 14:06:37     90.045129            1    0.000000    3.698539   \n",
       "2012-04-17 14:07:07    120.013246            1    0.000000    3.698539   \n",
       "2012-04-17 14:07:38    150.028628            1    0.674908    3.802700   \n",
       "\n",
       "                       Charge  discharge  Capacity  \n",
       "Date_Time                                           \n",
       "2012-04-17 14:05:37  0.000000        0.0  0.000000  \n",
       "2012-04-17 14:06:07  0.000000        0.0  0.000000  \n",
       "2012-04-17 14:06:37  0.000000        0.0  0.000000  \n",
       "2012-04-17 14:07:07  0.000000        0.0  0.000000  \n",
       "2012-04-17 14:07:38  0.005626        0.0  0.005626  "
      ]
     },
     "execution_count": 30,
     "metadata": {},
     "output_type": "execute_result"
    }
   ],
   "source": [
    "cycle_data[5].head()"
   ]
  },
  {
   "cell_type": "code",
   "execution_count": 35,
   "metadata": {},
   "outputs": [
    {
     "data": {
      "text/html": [
       "<div>\n",
       "<style scoped>\n",
       "    .dataframe tbody tr th:only-of-type {\n",
       "        vertical-align: middle;\n",
       "    }\n",
       "\n",
       "    .dataframe tbody tr th {\n",
       "        vertical-align: top;\n",
       "    }\n",
       "\n",
       "    .dataframe thead th {\n",
       "        text-align: right;\n",
       "    }\n",
       "</style>\n",
       "<table border=\"1\" class=\"dataframe\">\n",
       "  <thead>\n",
       "    <tr style=\"text-align: right;\">\n",
       "      <th></th>\n",
       "      <th>Cycle_Index</th>\n",
       "      <th>Current(A)</th>\n",
       "      <th>Voltage(V)</th>\n",
       "      <th>Capacity</th>\n",
       "    </tr>\n",
       "    <tr>\n",
       "      <th>Date_Time</th>\n",
       "      <th></th>\n",
       "      <th></th>\n",
       "      <th></th>\n",
       "      <th></th>\n",
       "    </tr>\n",
       "  </thead>\n",
       "  <tbody>\n",
       "    <tr>\n",
       "      <th>2012-04-20 14:08:33</th>\n",
       "      <td>19</td>\n",
       "      <td>-0.674877</td>\n",
       "      <td>3.758962</td>\n",
       "      <td>0.650505</td>\n",
       "    </tr>\n",
       "    <tr>\n",
       "      <th>2012-04-20 14:09:03</th>\n",
       "      <td>19</td>\n",
       "      <td>-0.674697</td>\n",
       "      <td>3.755236</td>\n",
       "      <td>0.644880</td>\n",
       "    </tr>\n",
       "    <tr>\n",
       "      <th>2012-04-20 14:09:33</th>\n",
       "      <td>19</td>\n",
       "      <td>-0.674697</td>\n",
       "      <td>3.751672</td>\n",
       "      <td>0.639255</td>\n",
       "    </tr>\n",
       "    <tr>\n",
       "      <th>2012-04-20 14:10:03</th>\n",
       "      <td>19</td>\n",
       "      <td>-0.674877</td>\n",
       "      <td>3.747947</td>\n",
       "      <td>0.633630</td>\n",
       "    </tr>\n",
       "    <tr>\n",
       "      <th>2012-04-20 14:10:33</th>\n",
       "      <td>19</td>\n",
       "      <td>-0.674877</td>\n",
       "      <td>3.744383</td>\n",
       "      <td>0.628005</td>\n",
       "    </tr>\n",
       "  </tbody>\n",
       "</table>\n",
       "</div>"
      ],
      "text/plain": [
       "                     Cycle_Index  Current(A)  Voltage(V)  Capacity\n",
       "Date_Time                                                         \n",
       "2012-04-20 14:08:33           19   -0.674877    3.758962  0.650505\n",
       "2012-04-20 14:09:03           19   -0.674697    3.755236  0.644880\n",
       "2012-04-20 14:09:33           19   -0.674697    3.751672  0.639255\n",
       "2012-04-20 14:10:03           19   -0.674877    3.747947  0.633630\n",
       "2012-04-20 14:10:33           19   -0.674877    3.744383  0.628005"
      ]
     },
     "execution_count": 35,
     "metadata": {},
     "output_type": "execute_result"
    }
   ],
   "source": [
    "model_data[5].tail()"
   ]
  },
  {
   "cell_type": "code",
   "execution_count": 50,
   "metadata": {},
   "outputs": [
    {
     "data": {
      "text/plain": [
       "[<matplotlib.lines.Line2D at 0x1a30a73e80>]"
      ]
     },
     "execution_count": 50,
     "metadata": {},
     "output_type": "execute_result"
    },
    {
     "data": {
      "image/png": "[encoded data removed]",
      "text/plain": [
       "<Figure size 432x288 with 1 Axes>"
      ]
     },
     "metadata": {
      "needs_background": "light"
     },
     "output_type": "display_data"
    }
   ],
   "source": [
    "plt.plot(cycle_data[45]['Test_Time(s)'],cycle_data[45]['Capacity'])\n"
   ]
  },
  {
   "cell_type": "code",
   "execution_count": null,
   "metadata": {},
   "outputs": [],
   "source": []
  }
 ],
 "metadata": {
  "kernelspec": {
   "display_name": "Python 3",
   "language": "python",
   "name": "python3"
  },
  "language_info": {
   "codemirror_mode": {
    "name": "ipython",
    "version": 3
   },
   "file_extension": ".py",
   "mimetype": "text/x-python",
   "name": "python",
   "nbconvert_exporter": "python",
   "pygments_lexer": "ipython3",
   "version": "3.6.8"
  }
 },
 "nbformat": 4,
 "nbformat_minor": 2
}
