{
 "cells": [
  {
   "cell_type": "markdown",
   "metadata": {},
   "source": [
    "## This file does some initial data exploration"
   ]
  },
  {
   "cell_type": "code",
   "execution_count": 1,
   "metadata": {},
   "outputs": [],
   "source": [
    "# Will delete everything in memory- be cautious\n",
    "#%reset"
   ]
  },
  {
   "cell_type": "code",
   "execution_count": 2,
   "metadata": {},
   "outputs": [],
   "source": [
    "import pandas as pd\n",
    "import numpy as np\n",
    "import datetime\n",
    "import os\n",
    "import re\n",
    "from os import listdir\n",
    "from os.path import isfile, join\n",
    "import matplotlib.pyplot as plt\n",
    "import seaborn as sns"
   ]
  },
  {
   "cell_type": "code",
   "execution_count": 3,
   "metadata": {},
   "outputs": [],
   "source": [
    "data_dir = '../data/'"
   ]
  },
  {
   "cell_type": "code",
   "execution_count": 4,
   "metadata": {},
   "outputs": [],
   "source": [
    "pl_12_14_dir = data_dir + 'PL 12,14'\n",
    "pl_17_18_dir = data_dir + 'PL 17,18'\n",
    "pl_19_24_dir = data_dir + 'PL 19,24'\n",
    "pl_21_23_dir = data_dir + 'Pl 21,23'"
   ]
  },
  {
   "cell_type": "code",
<<<<<<< HEAD
   "execution_count": null,
   "metadata": {},
   "outputs": [],
   "source": []
  },
  {
   "cell_type": "code",
   "execution_count": 4,
=======
   "execution_count": 5,
>>>>>>> upstream/master
   "metadata": {},
   "outputs": [],
   "source": [
    "pl_12_14_4 = pd.read_csv(pl_12_14_dir + '/PL12(4).csv')"
   ]
  },
  {
   "cell_type": "code",
   "execution_count": 6,
   "metadata": {},
   "outputs": [],
   "source": [
    "file_name_format = 'PL12(4).csv'"
   ]
  },
  {
   "cell_type": "code",
   "execution_count": 7,
   "metadata": {},
   "outputs": [],
   "source": [
    "exp_name = file_name_format[0:4]"
   ]
  },
  {
   "cell_type": "code",
   "execution_count": 8,
   "metadata": {},
   "outputs": [],
   "source": [
    "# get the list of files in the directory\n",
    "onlyfiles = [f for f in listdir(pl_12_14_dir) if isfile(join(pl_12_14_dir, f))]"
   ]
  },
  {
   "cell_type": "code",
   "execution_count": 9,
   "metadata": {},
   "outputs": [],
   "source": [
    "# Empty dictionary to hold all the dataframe for various files\n",
    "dict_pl12 = {}\n",
    "for i in range(len(onlyfiles)):\n",
    "    if exp_name in onlyfiles[i]:\n",
    "        # Extract the filenumber from the name\n",
    "        file_number = re.search(exp_name + '\\((.+?)\\).csv', onlyfiles[i]).group(1)\n",
    "        # Give a value of dataframe to each key\n",
    "        dict_pl12[int(file_number)] = pd.read_csv(pl_12_14_dir + \"/\" + onlyfiles[i])"
   ]
  },
  {
   "cell_type": "code",
   "execution_count": null,
   "metadata": {},
   "outputs": [],
   "source": []
  },
  {
   "cell_type": "code",
   "execution_count": null,
   "metadata": {},
   "outputs": [],
   "source": []
  },
  {
   "cell_type": "code",
   "execution_count": null,
   "metadata": {},
   "outputs": [],
   "source": []
  },
  {
   "cell_type": "code",
   "execution_count": 10,
   "metadata": {},
   "outputs": [],
   "source": [
    "dict_pl12_ordered = {}\n",
    "# Sort the dictionary based on keys\n",
    "for key in sorted(dict_pl12.keys()):\n",
    "    dict_pl12_ordered[key] = dict_pl12[key]"
   ]
  },
  {
   "cell_type": "code",
   "execution_count": 11,
   "metadata": {},
   "outputs": [
    {
     "data": {
      "text/plain": [
       "17"
      ]
     },
     "execution_count": 11,
     "metadata": {},
     "output_type": "execute_result"
    }
   ],
   "source": [
    "len(dict_pl12_ordered.keys())"
   ]
  },
  {
   "cell_type": "code",
   "execution_count": 12,
   "metadata": {},
   "outputs": [
    {
     "data": {
      "text/plain": [
       "[1]"
      ]
     },
     "execution_count": 12,
     "metadata": {},
     "output_type": "execute_result"
    }
   ],
   "source": [
    "list(set([1, 2, 3]) - set([2, 3]))"
   ]
  },
  {
   "cell_type": "code",
   "execution_count": 13,
   "metadata": {},
   "outputs": [],
   "source": [
    "wanted_keys = np.arange(4, len(dict_pl12_ordered.keys())+1)"
   ]
  },
  {
   "cell_type": "code",
   "execution_count": 14,
   "metadata": {},
   "outputs": [
    {
     "data": {
      "text/plain": [
       "array([ 4,  5,  6,  7,  8,  9, 10, 11, 12, 13, 14, 15, 16, 17])"
      ]
     },
     "execution_count": 14,
     "metadata": {},
     "output_type": "execute_result"
    }
   ],
   "source": [
    "wanted_keys"
   ]
  },
  {
   "cell_type": "code",
   "execution_count": 15,
   "metadata": {},
   "outputs": [],
   "source": [
    "# Remove the first three dataframes for characterization\n",
    "dict_pl12_ord_cycling_data = {k : dict_pl12_ordered[k] for k in wanted_keys}"
   ]
  },
  {
   "cell_type": "code",
   "execution_count": 16,
   "metadata": {},
   "outputs": [],
   "source": [
    "# Concatenate the dataframes to create the total dataframe\n",
    "#df_pl12 = pd.concat(dict_pl12_ord_cycling_data.values())\n",
    "df_pl12 = None\n",
    "for k in wanted_keys:\n",
    "    if df_pl12 is None:\n",
    "        df_next = dict_pl12_ord_cycling_data[k]\n",
    "        df_pl12 = pd.DataFrame(data=None, columns=df_next.columns)\n",
    "        # df_next['Cycle'] = df_next['Cycle'] + max(df_pl12['Cycle'])\n",
    "        df_pl12 = pd.concat([df_pl12, df_next])\n",
    "    else:\n",
    "        df_next = dict_pl12_ord_cycling_data[k]\n",
    "        df_next['Cycle'] = df_next['Cycle'] + max(df_pl12['Cycle'])\n",
    "        df_next['Time_sec'] = df_next['Time_sec'] + max(df_pl12['Time_sec'])\n",
    "        df_next['Charge_Ah'] = df_next['Charge_Ah'] + max(df_pl12['Charge_Ah'])\n",
    "        df_next['Discharge_Ah'] = df_next['Discharge_Ah'] + max(df_pl12['Discharge_Ah'])\n",
    "        df_pl12 = pd.concat([df_pl12, df_next])\n",
    "        "
   ]
  },
  {
   "cell_type": "code",
   "execution_count": 17,
   "metadata": {},
   "outputs": [
    {
     "data": {
      "text/plain": [
       "1017"
      ]
     },
     "execution_count": 17,
     "metadata": {},
     "output_type": "execute_result"
    }
   ],
   "source": [
    "max(df_pl12['Cycle'])"
   ]
  },
  {
   "cell_type": "code",
   "execution_count": 18,
   "metadata": {},
   "outputs": [
    {
     "data": {
      "text/html": [
       "<div>\n",
       "<style scoped>\n",
       "    .dataframe tbody tr th:only-of-type {\n",
       "        vertical-align: middle;\n",
       "    }\n",
       "\n",
       "    .dataframe tbody tr th {\n",
       "        vertical-align: top;\n",
       "    }\n",
       "\n",
       "    .dataframe thead th {\n",
       "        text-align: right;\n",
       "    }\n",
       "</style>\n",
       "<table border=\"1\" class=\"dataframe\">\n",
       "  <thead>\n",
       "    <tr style=\"text-align: right;\">\n",
       "      <th></th>\n",
       "      <th>Time_sec</th>\n",
       "      <th>Date_Time</th>\n",
       "      <th>Step</th>\n",
       "      <th>Cycle</th>\n",
       "      <th>Current_Amp</th>\n",
       "      <th>Voltage_Volt</th>\n",
       "      <th>Charge_Ah</th>\n",
       "      <th>Discharge_Ah</th>\n",
       "    </tr>\n",
       "  </thead>\n",
       "  <tbody>\n",
       "    <tr>\n",
       "      <th>0</th>\n",
       "      <td>10.000357</td>\n",
       "      <td>735819.421979</td>\n",
       "      <td>1</td>\n",
       "      <td>1</td>\n",
       "      <td>0.0</td>\n",
       "      <td>4.190699</td>\n",
       "      <td>0.0</td>\n",
       "      <td>0.0</td>\n",
       "    </tr>\n",
       "    <tr>\n",
       "      <th>1</th>\n",
       "      <td>20.000433</td>\n",
       "      <td>735819.422095</td>\n",
       "      <td>1</td>\n",
       "      <td>1</td>\n",
       "      <td>0.0</td>\n",
       "      <td>4.190699</td>\n",
       "      <td>0.0</td>\n",
       "      <td>0.0</td>\n",
       "    </tr>\n",
       "    <tr>\n",
       "      <th>2</th>\n",
       "      <td>30.016045</td>\n",
       "      <td>735819.422211</td>\n",
       "      <td>1</td>\n",
       "      <td>1</td>\n",
       "      <td>0.0</td>\n",
       "      <td>4.190861</td>\n",
       "      <td>0.0</td>\n",
       "      <td>0.0</td>\n",
       "    </tr>\n",
       "    <tr>\n",
       "      <th>3</th>\n",
       "      <td>40.031507</td>\n",
       "      <td>735819.422326</td>\n",
       "      <td>1</td>\n",
       "      <td>1</td>\n",
       "      <td>0.0</td>\n",
       "      <td>4.190537</td>\n",
       "      <td>0.0</td>\n",
       "      <td>0.0</td>\n",
       "    </tr>\n",
       "    <tr>\n",
       "      <th>4</th>\n",
       "      <td>50.047247</td>\n",
       "      <td>735819.422454</td>\n",
       "      <td>1</td>\n",
       "      <td>1</td>\n",
       "      <td>0.0</td>\n",
       "      <td>4.190861</td>\n",
       "      <td>0.0</td>\n",
       "      <td>0.0</td>\n",
       "    </tr>\n",
       "  </tbody>\n",
       "</table>\n",
       "</div>"
      ],
      "text/plain": [
       "    Time_sec      Date_Time Step Cycle  Current_Amp  Voltage_Volt  Charge_Ah  \\\n",
       "0  10.000357  735819.421979    1     1          0.0      4.190699        0.0   \n",
       "1  20.000433  735819.422095    1     1          0.0      4.190699        0.0   \n",
       "2  30.016045  735819.422211    1     1          0.0      4.190861        0.0   \n",
       "3  40.031507  735819.422326    1     1          0.0      4.190537        0.0   \n",
       "4  50.047247  735819.422454    1     1          0.0      4.190861        0.0   \n",
       "\n",
       "   Discharge_Ah  \n",
       "0           0.0  \n",
       "1           0.0  \n",
       "2           0.0  \n",
       "3           0.0  \n",
       "4           0.0  "
      ]
     },
     "execution_count": 18,
     "metadata": {},
     "output_type": "execute_result"
    }
   ],
   "source": [
    "df_pl12.head()"
   ]
  },
  {
   "cell_type": "code",
   "execution_count": 19,
   "metadata": {},
   "outputs": [],
   "source": [
    "# Reset the index and drop the old index\n",
    "df_pl12_indexed = df_pl12.reset_index(drop=True)"
   ]
  },
  {
   "cell_type": "code",
   "execution_count": 20,
   "metadata": {},
   "outputs": [],
   "source": [
    "# Convert the Date_Time from matlab datenum to human readable Date_Time\n",
    "df_pl12['Date_Time_new'] = df_pl12['Date_Time'].apply(lambda x: datetime.datetime.fromordinal(int(x)) + datetime.timedelta(days=x%1) - datetime.timedelta(days = 366)  )"
   ]
  },
  {
   "cell_type": "code",
   "execution_count": 21,
   "metadata": {},
   "outputs": [
    {
     "data": {
      "text/html": [
       "<div>\n",
       "<style scoped>\n",
       "    .dataframe tbody tr th:only-of-type {\n",
       "        vertical-align: middle;\n",
       "    }\n",
       "\n",
       "    .dataframe tbody tr th {\n",
       "        vertical-align: top;\n",
       "    }\n",
       "\n",
       "    .dataframe thead th {\n",
       "        text-align: right;\n",
       "    }\n",
       "</style>\n",
       "<table border=\"1\" class=\"dataframe\">\n",
       "  <thead>\n",
       "    <tr style=\"text-align: right;\">\n",
       "      <th></th>\n",
       "      <th>Time_sec</th>\n",
       "      <th>Date_Time</th>\n",
       "      <th>Step</th>\n",
       "      <th>Cycle</th>\n",
       "      <th>Current_Amp</th>\n",
       "      <th>Voltage_Volt</th>\n",
       "      <th>Charge_Ah</th>\n",
       "      <th>Discharge_Ah</th>\n",
       "      <th>Date_Time_new</th>\n",
       "    </tr>\n",
       "  </thead>\n",
       "  <tbody>\n",
       "    <tr>\n",
       "      <th>0</th>\n",
       "      <td>10.000357</td>\n",
       "      <td>735819.421979</td>\n",
       "      <td>1</td>\n",
       "      <td>1</td>\n",
       "      <td>0.0</td>\n",
       "      <td>4.190699</td>\n",
       "      <td>0.0</td>\n",
       "      <td>0.0</td>\n",
       "      <td>2014-08-08 10:07:39.000032</td>\n",
       "    </tr>\n",
       "    <tr>\n",
       "      <th>1</th>\n",
       "      <td>20.000433</td>\n",
       "      <td>735819.422095</td>\n",
       "      <td>1</td>\n",
       "      <td>1</td>\n",
       "      <td>0.0</td>\n",
       "      <td>4.190699</td>\n",
       "      <td>0.0</td>\n",
       "      <td>0.0</td>\n",
       "      <td>2014-08-08 10:07:48.999967</td>\n",
       "    </tr>\n",
       "    <tr>\n",
       "      <th>2</th>\n",
       "      <td>30.016045</td>\n",
       "      <td>735819.422211</td>\n",
       "      <td>1</td>\n",
       "      <td>1</td>\n",
       "      <td>0.0</td>\n",
       "      <td>4.190861</td>\n",
       "      <td>0.0</td>\n",
       "      <td>0.0</td>\n",
       "      <td>2014-08-08 10:07:58.999984</td>\n",
       "    </tr>\n",
       "    <tr>\n",
       "      <th>3</th>\n",
       "      <td>40.031507</td>\n",
       "      <td>735819.422326</td>\n",
       "      <td>1</td>\n",
       "      <td>1</td>\n",
       "      <td>0.0</td>\n",
       "      <td>4.190537</td>\n",
       "      <td>0.0</td>\n",
       "      <td>0.0</td>\n",
       "      <td>2014-08-08 10:08:09.000020</td>\n",
       "    </tr>\n",
       "    <tr>\n",
       "      <th>4</th>\n",
       "      <td>50.047247</td>\n",
       "      <td>735819.422454</td>\n",
       "      <td>1</td>\n",
       "      <td>1</td>\n",
       "      <td>0.0</td>\n",
       "      <td>4.190861</td>\n",
       "      <td>0.0</td>\n",
       "      <td>0.0</td>\n",
       "      <td>2014-08-08 10:08:20.000031</td>\n",
       "    </tr>\n",
       "  </tbody>\n",
       "</table>\n",
       "</div>"
      ],
      "text/plain": [
       "    Time_sec      Date_Time Step Cycle  Current_Amp  Voltage_Volt  Charge_Ah  \\\n",
       "0  10.000357  735819.421979    1     1          0.0      4.190699        0.0   \n",
       "1  20.000433  735819.422095    1     1          0.0      4.190699        0.0   \n",
       "2  30.016045  735819.422211    1     1          0.0      4.190861        0.0   \n",
       "3  40.031507  735819.422326    1     1          0.0      4.190537        0.0   \n",
       "4  50.047247  735819.422454    1     1          0.0      4.190861        0.0   \n",
       "\n",
       "   Discharge_Ah              Date_Time_new  \n",
       "0           0.0 2014-08-08 10:07:39.000032  \n",
       "1           0.0 2014-08-08 10:07:48.999967  \n",
       "2           0.0 2014-08-08 10:07:58.999984  \n",
       "3           0.0 2014-08-08 10:08:09.000020  \n",
       "4           0.0 2014-08-08 10:08:20.000031  "
      ]
     },
     "execution_count": 21,
     "metadata": {},
     "output_type": "execute_result"
    }
   ],
   "source": [
    "df_pl12.head()"
   ]
  },
  {
   "cell_type": "code",
   "execution_count": 22,
   "metadata": {},
   "outputs": [],
   "source": [
    "# Reset the index and drop the old index\n",
    "df_pl12_indexed = df_pl12.reset_index(drop=True)"
   ]
  },
  {
   "cell_type": "code",
   "execution_count": 23,
   "metadata": {},
   "outputs": [
    {
     "data": {
      "text/html": [
       "<div>\n",
       "<style scoped>\n",
       "    .dataframe tbody tr th:only-of-type {\n",
       "        vertical-align: middle;\n",
       "    }\n",
       "\n",
       "    .dataframe tbody tr th {\n",
       "        vertical-align: top;\n",
       "    }\n",
       "\n",
       "    .dataframe thead th {\n",
       "        text-align: right;\n",
       "    }\n",
       "</style>\n",
       "<table border=\"1\" class=\"dataframe\">\n",
       "  <thead>\n",
       "    <tr style=\"text-align: right;\">\n",
       "      <th></th>\n",
       "      <th>Time_sec</th>\n",
       "      <th>Date_Time</th>\n",
       "      <th>Step</th>\n",
       "      <th>Cycle</th>\n",
       "      <th>Current_Amp</th>\n",
       "      <th>Voltage_Volt</th>\n",
       "      <th>Charge_Ah</th>\n",
       "      <th>Discharge_Ah</th>\n",
       "      <th>Date_Time_new</th>\n",
       "    </tr>\n",
       "  </thead>\n",
       "  <tbody>\n",
       "    <tr>\n",
       "      <th>1784284</th>\n",
       "      <td>1.535516e+07</td>\n",
       "      <td>736177.947546</td>\n",
       "      <td>20</td>\n",
       "      <td>1017</td>\n",
       "      <td>0.0</td>\n",
       "      <td>4.193922</td>\n",
       "      <td>1065.513122</td>\n",
       "      <td>1055.442273</td>\n",
       "      <td>2015-08-01 22:44:27.999969</td>\n",
       "    </tr>\n",
       "    <tr>\n",
       "      <th>1784285</th>\n",
       "      <td>1.535517e+07</td>\n",
       "      <td>736177.947662</td>\n",
       "      <td>20</td>\n",
       "      <td>1017</td>\n",
       "      <td>0.0</td>\n",
       "      <td>4.194084</td>\n",
       "      <td>1065.513122</td>\n",
       "      <td>1055.442273</td>\n",
       "      <td>2015-08-01 22:44:37.999995</td>\n",
       "    </tr>\n",
       "    <tr>\n",
       "      <th>1784286</th>\n",
       "      <td>1.535518e+07</td>\n",
       "      <td>736177.947778</td>\n",
       "      <td>20</td>\n",
       "      <td>1017</td>\n",
       "      <td>0.0</td>\n",
       "      <td>4.194084</td>\n",
       "      <td>1065.513122</td>\n",
       "      <td>1055.442273</td>\n",
       "      <td>2015-08-01 22:44:48.000022</td>\n",
       "    </tr>\n",
       "    <tr>\n",
       "      <th>1784287</th>\n",
       "      <td>1.535519e+07</td>\n",
       "      <td>736177.947894</td>\n",
       "      <td>20</td>\n",
       "      <td>1017</td>\n",
       "      <td>0.0</td>\n",
       "      <td>4.194084</td>\n",
       "      <td>1065.513122</td>\n",
       "      <td>1055.442273</td>\n",
       "      <td>2015-08-01 22:44:57.999957</td>\n",
       "    </tr>\n",
       "    <tr>\n",
       "      <th>1784288</th>\n",
       "      <td>1.535520e+07</td>\n",
       "      <td>736177.947975</td>\n",
       "      <td>20</td>\n",
       "      <td>1017</td>\n",
       "      <td>0.0</td>\n",
       "      <td>4.194246</td>\n",
       "      <td>1065.513122</td>\n",
       "      <td>1055.442273</td>\n",
       "      <td>2015-08-01 22:45:05.000000</td>\n",
       "    </tr>\n",
       "  </tbody>\n",
       "</table>\n",
       "</div>"
      ],
      "text/plain": [
       "             Time_sec      Date_Time Step Cycle  Current_Amp  Voltage_Volt  \\\n",
       "1784284  1.535516e+07  736177.947546   20  1017          0.0      4.193922   \n",
       "1784285  1.535517e+07  736177.947662   20  1017          0.0      4.194084   \n",
       "1784286  1.535518e+07  736177.947778   20  1017          0.0      4.194084   \n",
       "1784287  1.535519e+07  736177.947894   20  1017          0.0      4.194084   \n",
       "1784288  1.535520e+07  736177.947975   20  1017          0.0      4.194246   \n",
       "\n",
       "           Charge_Ah  Discharge_Ah              Date_Time_new  \n",
       "1784284  1065.513122   1055.442273 2015-08-01 22:44:27.999969  \n",
       "1784285  1065.513122   1055.442273 2015-08-01 22:44:37.999995  \n",
       "1784286  1065.513122   1055.442273 2015-08-01 22:44:48.000022  \n",
       "1784287  1065.513122   1055.442273 2015-08-01 22:44:57.999957  \n",
       "1784288  1065.513122   1055.442273 2015-08-01 22:45:05.000000  "
      ]
     },
     "execution_count": 23,
     "metadata": {},
     "output_type": "execute_result"
    }
   ],
   "source": [
    "df_pl12_indexed.tail()"
   ]
  },
  {
   "cell_type": "code",
   "execution_count": 24,
   "metadata": {},
   "outputs": [],
   "source": [
    "# Draw the plot of time column to make sure that things are arranged in the right order\n",
    "#plt.plot(df_pl12_indexed['Date_Time_new'])"
   ]
  },
  {
   "cell_type": "code",
   "execution_count": 25,
   "metadata": {},
   "outputs": [
    {
     "data": {
      "text/plain": [
       "Time_sec                float64\n",
       "Date_Time               float64\n",
       "Step                     object\n",
       "Cycle                    object\n",
       "Current_Amp             float64\n",
       "Voltage_Volt            float64\n",
       "Charge_Ah               float64\n",
       "Discharge_Ah            float64\n",
       "Date_Time_new    datetime64[ns]\n",
       "dtype: object"
      ]
     },
     "execution_count": 25,
     "metadata": {},
     "output_type": "execute_result"
    }
   ],
   "source": [
    "df_pl12_indexed.dtypes"
   ]
  },
  {
   "cell_type": "code",
   "execution_count": 26,
   "metadata": {},
   "outputs": [
    {
     "data": {
      "text/html": [
       "<div>\n",
       "<style scoped>\n",
       "    .dataframe tbody tr th:only-of-type {\n",
       "        vertical-align: middle;\n",
       "    }\n",
       "\n",
       "    .dataframe tbody tr th {\n",
       "        vertical-align: top;\n",
       "    }\n",
       "\n",
       "    .dataframe thead th {\n",
       "        text-align: right;\n",
       "    }\n",
       "</style>\n",
       "<table border=\"1\" class=\"dataframe\">\n",
       "  <thead>\n",
       "    <tr style=\"text-align: right;\">\n",
       "      <th></th>\n",
       "      <th>Time_sec</th>\n",
       "      <th>Date_Time</th>\n",
       "      <th>Current_Amp</th>\n",
       "      <th>Voltage_Volt</th>\n",
       "      <th>Charge_Ah</th>\n",
       "      <th>Discharge_Ah</th>\n",
       "    </tr>\n",
       "  </thead>\n",
       "  <tbody>\n",
       "    <tr>\n",
       "      <th>count</th>\n",
       "      <td>1.784289e+06</td>\n",
       "      <td>1.784289e+06</td>\n",
       "      <td>1.784289e+06</td>\n",
       "      <td>1.784289e+06</td>\n",
       "      <td>1.784289e+06</td>\n",
       "      <td>1.784289e+06</td>\n",
       "    </tr>\n",
       "    <tr>\n",
       "      <th>mean</th>\n",
       "      <td>8.231456e+06</td>\n",
       "      <td>7.360089e+05</td>\n",
       "      <td>1.195501e-03</td>\n",
       "      <td>4.037383e+00</td>\n",
       "      <td>5.939680e+02</td>\n",
       "      <td>5.925625e+02</td>\n",
       "    </tr>\n",
       "    <tr>\n",
       "      <th>std</th>\n",
       "      <td>4.395824e+06</td>\n",
       "      <td>1.182741e+02</td>\n",
       "      <td>8.788249e-01</td>\n",
       "      <td>2.697020e-01</td>\n",
       "      <td>3.073432e+02</td>\n",
       "      <td>3.041017e+02</td>\n",
       "    </tr>\n",
       "    <tr>\n",
       "      <th>min</th>\n",
       "      <td>1.000036e+01</td>\n",
       "      <td>7.358194e+05</td>\n",
       "      <td>-3.001397e+00</td>\n",
       "      <td>2.748463e+00</td>\n",
       "      <td>0.000000e+00</td>\n",
       "      <td>0.000000e+00</td>\n",
       "    </tr>\n",
       "    <tr>\n",
       "      <th>25%</th>\n",
       "      <td>4.452792e+06</td>\n",
       "      <td>7.358946e+05</td>\n",
       "      <td>0.000000e+00</td>\n",
       "      <td>3.925225e+00</td>\n",
       "      <td>3.414219e+02</td>\n",
       "      <td>3.436435e+02</td>\n",
       "    </tr>\n",
       "    <tr>\n",
       "      <th>50%</th>\n",
       "      <td>8.908505e+06</td>\n",
       "      <td>7.360427e+05</td>\n",
       "      <td>2.905629e-02</td>\n",
       "      <td>4.198621e+00</td>\n",
       "      <td>6.369488e+02</td>\n",
       "      <td>6.371680e+02</td>\n",
       "    </tr>\n",
       "    <tr>\n",
       "      <th>75%</th>\n",
       "      <td>1.167706e+07</td>\n",
       "      <td>7.361167e+05</td>\n",
       "      <td>4.229183e-01</td>\n",
       "      <td>4.200404e+00</td>\n",
       "      <td>8.593233e+02</td>\n",
       "      <td>8.548156e+02</td>\n",
       "    </tr>\n",
       "    <tr>\n",
       "      <th>max</th>\n",
       "      <td>1.535520e+07</td>\n",
       "      <td>7.361779e+05</td>\n",
       "      <td>2.085116e+00</td>\n",
       "      <td>4.247663e+00</td>\n",
       "      <td>1.065513e+03</td>\n",
       "      <td>1.055442e+03</td>\n",
       "    </tr>\n",
       "  </tbody>\n",
       "</table>\n",
       "</div>"
      ],
      "text/plain": [
       "           Time_sec     Date_Time   Current_Amp  Voltage_Volt     Charge_Ah  \\\n",
       "count  1.784289e+06  1.784289e+06  1.784289e+06  1.784289e+06  1.784289e+06   \n",
       "mean   8.231456e+06  7.360089e+05  1.195501e-03  4.037383e+00  5.939680e+02   \n",
       "std    4.395824e+06  1.182741e+02  8.788249e-01  2.697020e-01  3.073432e+02   \n",
       "min    1.000036e+01  7.358194e+05 -3.001397e+00  2.748463e+00  0.000000e+00   \n",
       "25%    4.452792e+06  7.358946e+05  0.000000e+00  3.925225e+00  3.414219e+02   \n",
       "50%    8.908505e+06  7.360427e+05  2.905629e-02  4.198621e+00  6.369488e+02   \n",
       "75%    1.167706e+07  7.361167e+05  4.229183e-01  4.200404e+00  8.593233e+02   \n",
       "max    1.535520e+07  7.361779e+05  2.085116e+00  4.247663e+00  1.065513e+03   \n",
       "\n",
       "       Discharge_Ah  \n",
       "count  1.784289e+06  \n",
       "mean   5.925625e+02  \n",
       "std    3.041017e+02  \n",
       "min    0.000000e+00  \n",
       "25%    3.436435e+02  \n",
       "50%    6.371680e+02  \n",
       "75%    8.548156e+02  \n",
       "max    1.055442e+03  "
      ]
     },
     "execution_count": 26,
     "metadata": {},
     "output_type": "execute_result"
    }
   ],
   "source": [
    "# Describe the dataframe \n",
    "df_pl12_indexed.describe()"
   ]
  },
  {
   "cell_type": "code",
   "execution_count": 27,
   "metadata": {},
   "outputs": [],
   "source": [
    "# Other plots to see the data\n",
    "#plt.plot(df_pl12_indexed['Cycle'])"
   ]
  },
  {
   "cell_type": "code",
   "execution_count": 28,
   "metadata": {},
   "outputs": [],
   "source": [
    "#plt.plot(df_pl12_indexed['Discharge_Ah'])"
   ]
  },
  {
   "cell_type": "code",
   "execution_count": 29,
   "metadata": {},
   "outputs": [],
   "source": [
    "#plt.plot(df_pl12_indexed['Charge_Ah'])"
   ]
  },
  {
   "cell_type": "code",
   "execution_count": 30,
   "metadata": {},
   "outputs": [],
   "source": [
    "#plt.plot(df_pl12_indexed['Voltage_Volt'])"
   ]
  },
  {
   "cell_type": "code",
   "execution_count": 31,
   "metadata": {},
   "outputs": [],
   "source": [
    "#plt.plot(df_pl12_indexed['Current_Amp'])"
   ]
  },
  {
   "cell_type": "code",
   "execution_count": 32,
   "metadata": {},
   "outputs": [],
   "source": [
    "df_sample = df_pl12_indexed.iloc[0:10000, :]"
   ]
  },
  {
   "cell_type": "code",
   "execution_count": 33,
   "metadata": {},
   "outputs": [
    {
     "data": {
      "text/html": [
       "<div>\n",
       "<style scoped>\n",
       "    .dataframe tbody tr th:only-of-type {\n",
       "        vertical-align: middle;\n",
       "    }\n",
       "\n",
       "    .dataframe tbody tr th {\n",
       "        vertical-align: top;\n",
       "    }\n",
       "\n",
       "    .dataframe thead th {\n",
       "        text-align: right;\n",
       "    }\n",
       "</style>\n",
       "<table border=\"1\" class=\"dataframe\">\n",
       "  <thead>\n",
       "    <tr style=\"text-align: right;\">\n",
       "      <th></th>\n",
       "      <th>Time_sec</th>\n",
       "      <th>Date_Time</th>\n",
       "      <th>Step</th>\n",
       "      <th>Cycle</th>\n",
       "      <th>Current_Amp</th>\n",
       "      <th>Voltage_Volt</th>\n",
       "      <th>Charge_Ah</th>\n",
       "      <th>Discharge_Ah</th>\n",
       "      <th>Date_Time_new</th>\n",
       "    </tr>\n",
       "  </thead>\n",
       "  <tbody>\n",
       "    <tr>\n",
       "      <th>0</th>\n",
       "      <td>10.000357</td>\n",
       "      <td>735819.421979</td>\n",
       "      <td>1</td>\n",
       "      <td>1</td>\n",
       "      <td>0.0</td>\n",
       "      <td>4.190699</td>\n",
       "      <td>0.0</td>\n",
       "      <td>0.0</td>\n",
       "      <td>2014-08-08 10:07:39.000032</td>\n",
       "    </tr>\n",
       "    <tr>\n",
       "      <th>1</th>\n",
       "      <td>20.000433</td>\n",
       "      <td>735819.422095</td>\n",
       "      <td>1</td>\n",
       "      <td>1</td>\n",
       "      <td>0.0</td>\n",
       "      <td>4.190699</td>\n",
       "      <td>0.0</td>\n",
       "      <td>0.0</td>\n",
       "      <td>2014-08-08 10:07:48.999967</td>\n",
       "    </tr>\n",
       "    <tr>\n",
       "      <th>2</th>\n",
       "      <td>30.016045</td>\n",
       "      <td>735819.422211</td>\n",
       "      <td>1</td>\n",
       "      <td>1</td>\n",
       "      <td>0.0</td>\n",
       "      <td>4.190861</td>\n",
       "      <td>0.0</td>\n",
       "      <td>0.0</td>\n",
       "      <td>2014-08-08 10:07:58.999984</td>\n",
       "    </tr>\n",
       "    <tr>\n",
       "      <th>3</th>\n",
       "      <td>40.031507</td>\n",
       "      <td>735819.422326</td>\n",
       "      <td>1</td>\n",
       "      <td>1</td>\n",
       "      <td>0.0</td>\n",
       "      <td>4.190537</td>\n",
       "      <td>0.0</td>\n",
       "      <td>0.0</td>\n",
       "      <td>2014-08-08 10:08:09.000020</td>\n",
       "    </tr>\n",
       "    <tr>\n",
       "      <th>4</th>\n",
       "      <td>50.047247</td>\n",
       "      <td>735819.422454</td>\n",
       "      <td>1</td>\n",
       "      <td>1</td>\n",
       "      <td>0.0</td>\n",
       "      <td>4.190861</td>\n",
       "      <td>0.0</td>\n",
       "      <td>0.0</td>\n",
       "      <td>2014-08-08 10:08:20.000031</td>\n",
       "    </tr>\n",
       "  </tbody>\n",
       "</table>\n",
       "</div>"
      ],
      "text/plain": [
       "    Time_sec      Date_Time Step Cycle  Current_Amp  Voltage_Volt  Charge_Ah  \\\n",
       "0  10.000357  735819.421979    1     1          0.0      4.190699        0.0   \n",
       "1  20.000433  735819.422095    1     1          0.0      4.190699        0.0   \n",
       "2  30.016045  735819.422211    1     1          0.0      4.190861        0.0   \n",
       "3  40.031507  735819.422326    1     1          0.0      4.190537        0.0   \n",
       "4  50.047247  735819.422454    1     1          0.0      4.190861        0.0   \n",
       "\n",
       "   Discharge_Ah              Date_Time_new  \n",
       "0           0.0 2014-08-08 10:07:39.000032  \n",
       "1           0.0 2014-08-08 10:07:48.999967  \n",
       "2           0.0 2014-08-08 10:07:58.999984  \n",
       "3           0.0 2014-08-08 10:08:09.000020  \n",
       "4           0.0 2014-08-08 10:08:20.000031  "
      ]
     },
     "execution_count": 33,
     "metadata": {},
     "output_type": "execute_result"
    }
   ],
   "source": [
    "df_sample.head()"
   ]
  },
  {
   "cell_type": "code",
   "execution_count": 34,
   "metadata": {},
   "outputs": [
    {
     "data": {
      "text/plain": [
       "<matplotlib.axes._subplots.AxesSubplot at 0x7fb364c64e10>"
      ]
     },
     "execution_count": 34,
     "metadata": {},
     "output_type": "execute_result"
    },
    {
     "data": {
      "image/png": "iVBORw0KGgoAAAANSUhEUgAACgkAAANSCAYAAABVn7w9AAAABHNCSVQICAgIfAhkiAAAAAlwSFlzAAALEgAACxIB0t1+/AAAADl0RVh0U29mdHdhcmUAbWF0cGxvdGxpYiB2ZXJzaW9uIDMuMC4yLCBodHRwOi8vbWF0cGxvdGxpYi5vcmcvOIA7rQAAIABJREFUeJzs3XmcZGV5L/Df6WX2FQaGdRj2TR2EQUDccDcaYxK9rlFQQU0kGHdUEhM1uUa90eSaRFxwQ1FQ0EBEjVfFFWTf93UYmBmW2Zfe3vtHd88MMDA9M119qmq+388HqrvrdNXTZ6qq+63znN9TlVICAAAAAAAAAAAAtJ+OugsAAAAAAAAAAAAAGkOTIAAAAAAAAAAAALQpTYIAAAAAAAAAAADQpjQJAgAAAAAAAAAAQJvSJAgAAAAAAAAAAABtSpMgAAAAAAAAAAAAtClNggAAAAAAAAAAANCmNAkCAAAAAAAAAABAm9IkCAAAAAAAAAAAAG2qq+4CtsSsWbPK3Llz6y4DAAC2K5dddtkDpZSd6q6D9mBdBwAA9bC2Y7RY1wEAQD22ZV3XUk2Cc+fOzaWXXlp3GQAAsF2pququumugfVjXAQBAPaztGC3WdQAAUI9tWdcZNwwAAAAAAAAAAABtSpMgAAAAAAAAAAAAtClNggAAAAAAAAAAANCmNAkCAAAAAAAAAABAm9IkCAAAAAAAAAAAAG1KkyAAAAAAAAAAAAC0KU2CAAAAAAAAAAAA0KY0CQIAAAAAAAAAAECb0iQIAAAAAAAAAAAAbUqTIAAAAAAAAAAAALQpTYIAAAAAAAAAAADQpjQJAgAAAAAAAAAAQJvSJAgAAMBWq6rqwKqqrtzov+VVVb2r7roAAAAYGes6AABof111FwAAAEDrKqXclOSwJKmqqjPJvUnOrbUoAAAARsy6DgAA2p8mQQAAmt/CK5Ob/rvuKuqx00HJk/6s7ipgpJ6X5LZSyl11FwIAQJNZsSi5/GvJQF/dlYy9cVOSY/+67ipgpKzrAADYtP6+5OL/TNYtr7uSehz9jmTizLqr2GqaBAEAaH6/+kxyww/rrqIeh/6pJkFayWuSfPvRX6yq6qQkJyXJnDlzxromAACawbXfS37+ibqrqMfUXTUJ0kqs6wAA2LT7r05+8uG6q6jPYa/TJAgAAA010J/MfnLyjl/XXQnwOKqqGpfk5UlOffR1pZTTk5yeJPPnzy9jXBoAAM1gOEHw1HuT8VPqrQXYJOs6AACe0ED/4OXrz0n2f0G9tbDFOuouAAAANq8kVd01AJvxkiSXl1IW1V0IAAAAW8W6DgAA2pQmQQAAml8p0SUITe+12cRIKgAAGDQUPFZZ20ETs64DAOAJDAdKW9e1Ik2CAAC0gOJAEjSxqqomJXlBku/XXQsAAABbzroOAIDNKsMnf9VbBlunq+4CAABgsyQJQlMrpaxOsmPddQAA0MSKxAloZtZ1AABsXtn8JjQtSYIAALQASYIAAACtzbhhAACA9mBd14o0CQIA0PwkCQIAAAAAAEB9ipO/WpkmQQAAml8ZsOAAAABoZcYNAwAAtDjrulamSRAAgBYgSRAAAAAAAABga2gSBACg+ZUiSRAAAKClGUsFAADQ0owbbmmaBAEAaAGSBAEAAFqaccMAAAAtzrqulWkSBACg+UkSBAAAAAAAgPqsP/mLVqRJEACAFiBJEAAAoLUZSwUAANAWrOtakiZBAACanyRBAACA1iZwAgAAoMUZN9zKNAkCANAiLDgAAABan7UdAABASyoS4luZJkEAAJqfJEEAAIAW52ASAABAaxMR38o0CQIA0AJKpE0AAAAAAABA3Ryza0WaBAEAaH6SBAEAAFrb8FgqB5MAAABak3HDLU2TIAAALUB8OQAAQGtzMAkAAKC1OV7XyrrqLgAAADZLkiAAAAAAAAA0gdY6ZldKyYp1fVm+pjdreweytrc/6/r613/c2z8wott51gE7ZdK41m21a93KAQDYjpS02oIDAACAjRhLBQAA0NqacF23rq8/ty1elTseWJWFS9fk3qVrsnDpmixZuS7LVvdm6ZreLFvTm/6BbU9B/NX7j8ukHVq31a51KwcAYPshSRAAAAAAAABqNNxoV88xu1JKFjy8Jr+77cH8/vYHc+3CZbl9yar0bdQAOHlcZ3abMTGzp03I7jMmZsak7syYOC4zJnVn2oTuTBjXmQldHRnfPXg5obsz3Z0dIzoMOXvahAb+dI2nSRAAgBYgSRAAAKC1bXtqAwAAADWqaVl394Orc96V9+a/rlqYWxavTJLMmjIuh+05Iy84ZHYO3GVa9ttpSnafOTHTJnSlEjyySZoEAQBofpIEAQAAWltx8hcAAEBbGKNjdlfdszT/8Yvb8uPr70+SHDl3h3z0jw/JsfvNyn47T9EMuIU0CQIA0AIcTAIAAAAAAID6jM244SUr1uV//+jGfO/yBZk+sTt/+Zx984aj98qu0yc29H7bnSZBAACanyRBAACAFmddBwAA0NJK4+cNX3Tzkrz7u1dm+Zq+vP3Z++adz90vU8ZrbxsN9iIAAC1AkiAAAEBLG4ODSQAAAIyBBp0A9tXf3JG/P//67L/zlHz7xKOz/+ypDbmf7ZUmQQAAmp8kQQAAgDZgXQcAANC6Gjdu+PM/vzWf+vFNecEhs/Ovr3lqJo7rHPX72N5pEgQAoAVIEgQAAGhtTv4CAABoacMJ8aO8tDvnsgX51I9vyp8ctls+86p56ersGN07IElS616tqmpGVVXnVFV1Y1VVN1RVdUyd9QAA0KQkCQIAAAAAAECNyuY32ULXLFiWD37v6hy734751Cs1CDZS3UmCn0tyYSnllVVVjUsyqeZ6AABoSpIEAQAAWlqxrgMAAGgPo7O2W9fXn/ecfWV2nDIu//66IzKuS4NgI9XWJFhV1bQkz0pyfJKUUnqS9NRVDwAATawkqSwMAAAAWpeEeAAAgJa2ftzw6KztPvs/t+TmRStzxglHZvqk7lG5TR5fnUmC+yRZkuSMqqrmJbksySmllFU11gQAMDpu/kny/z624Y9lts2DtyQz96q7CgAAAAAAANhOjd5xzyvufjhf+OVtefX8PXPcgTuP2u3y+OpsEuxKcniSk0spF1dV9bkkH0xy2sYbVVV1UpKTkmTOnDljXiQAwFa5/RfJouuSA15cdyXtYcac5LDX1V0FAAAAW8u4YQAAgDaxbWu7tb39ec/ZV2WXaRPy4ZcdPEo1sTl1NgkuSLKglHLx0OfnZLBJ8BFKKacnOT1J5s+fL4oHAGgRJemelLz2W3UXAgAAAAAAALBtRmnc8Gd+clNuX7Iq33jL0zJtgjHDY6Wjrjsupdyf5J6qqg4c+tLzklxfVz0AAKOqlG3+AxkAAADah3UyAABAaxvOdtv6td2ldz6UL/36jrzuqDl55v47jU5ZjEidSYJJcnKSM6uqGpfk9iQn1FwPAMAoMUYJAAAA1jNuGAAAoLWVbRsAu6anP+89+6rsPmNiPvRHxgyPtVqbBEspVyaZX2cNAAANUYpjHwAAAAAAAEB72cqU+E9eeGPufHB1vnXiUZkyvu5cu+1PbeOGAQDam4QEAAAA2MC4YQAAgNa29eOGf3/7g/nqb+/Mm47ZK0/fd9bolsWIaBIEAGiE4uAHAAAArLeNY6kAAACo2Vau61at68v7zrkqe+04KR94yUGjXBQjJbsRAKAhJAkCAADAI1knAwAAtLwtDEr5px/dkAUPr8l3Tjomk8ZpVauLJEEAgEaQJAgAAACPZJ0MAADQwrZ83PCvb3kg3/z93XnzsXvnaXvv0JiyGBFNggAADSFJEAAAAAAAAGgTw+OGR3gC2Iq1vfnA967OPrMm530vOrCBhTESMhwBABpBkiAAAABsUJxMBwAA0NrK5jfZyCcuuCH3LVuTc97x9Ezo7mxQTYyUJEEAgIZw8AMAAAA2cDIdNLOqqmZUVXVOVVU3VlV1Q1VVx9RdEwAAzWrza7tf3LQ4Z/3hnpz4rH1y+JyZY1ATmyNJEACgESQJAgAAANA6PpfkwlLKK6uqGpdkUt0FAQDQZEY4bnjZmt588HvXZP+dp+Rvnn/AGBTGSGgSBABoCEmCAAAAsJ5xw9C0qqqaluRZSY5PklJKT5KeOmsCABg1t/8iWX5f3VW0hwV/GPrgidd2Hzv/+ixZuS5f+IsjjBluIpoEAQAaQZIgAAAAAK1hnyRLkpxRVdW8JJclOaWUsmp4g6qqTkpyUpLMmTOnliIBALbY2uXJ11+RwXAPRkVHVzJxxuNe/bMbFuWcyxbkncftl3l7Pv52jD1NggAADSEhAQAAADYolsnQvLqSHJ7k5FLKxVVVfS7JB5OcNrxBKeX0JKcnyfz58x1lBwBaQ39PkpI8+4PJvNfUXU17GD8tmbzjJq9auronH/z+NTlol6k5+Xn7jXFhbI4mQQCARiiRJAgAAADDjBuGZrYgyYJSysVDn5+TwSZBAID2MHlWssPedVfR9j76w+vy8KqenHH8kRnfZcxws+mouwAAgPbk4AcAAAAAza+Ucn+Se6qqOnDoS89Lcn2NJQEAjI4iAHmsXHjt/TnvyoV553P3y5N2n153OWyCJEEAgEYoRZIgAAAArGedDE3u5CRnVlU1LsntSU6ouR4AgFEw1CRoLdJQD65clw+fe00O3W1a/uo4Y4ablSZBAICGkCQIbD+qqpqR5EtJnpTBF8A3l1J+V29VAAAAjFQp5cok8+uuAwBgVEkSHBN/+8Prsnxtb8488ah0dxpq26w0CQIANEIpegSB7cnnklxYSnnlUOrEpLoLAgCgyRQn0wEAAHWxFmmU869emAuuvi/ve9GBOWiXaXWXwxPQJAgA0BAOfgDbh6qqpiV5VpLjk6SU0pOkp86aAABGRX9vcstPkt41dVfSHh681YgvAABgjBk33EhLVqzLaeddm3l7TM/bnrVP3eWwGZoEAQAaoRQLDmB7sU+SJUnOqKpqXpLLkpxSSlk1vEFVVSclOSlJ5syZU0uRAABb7PZfJme9ru4q2suO+9ddAQAAsD0xbrhhSin5yHnXZFVPfz79qnnpMma46WkSBABoCEmCwHajK8nhSU4upVxcVdXnknwwyWnDG5RSTk9yepLMnz/fuzIAQGvoG0oQfPWZyU4H1ltLu5gyu+4KAACA7ZJjdqPth1ctzI+vW5RTX3JQ9p89te5yGAFNggAAjSBJENh+LEiyoJRy8dDn52SwSRAAoLUNJ07M3CuZJQEPAACg9Rg33AiLlq/N3/7gujx1zoy89ZnGDLcKWY8AAA0hSRDYPpRS7k9yT1VVw/E6z0tyfY0lAQCMkuEAZGs7AACAllSs60ZbKSUf+v41Wds7OGa4s8O+bRWSBAEAGkGSILB9OTnJmVVVjUtye5ITaq4HAAAAAIDtXtn8JmyR711+b3524+Kc9rJDsu9OU+ouhy2gSRAAoCEkCQLbj1LKlUnm110HAMCoKsZSAQAAtIUWWNeVUrKqpz9LV/dk2Zrewf9W92bF2r6s6+vPur6BrOsbyNrewY97+gZSSknJ4PK1DDVEDn48vKQtg58/zvUlg5+Uofsf/I6Ntxn6ro2+/1c3P5Cnzd0hJzx97hjuHUaDJkEAgEaQJAgAANDiJE4AAAC0tCYbN9zbP5A7HliVmxetyM2LVmbBQ6uzcNma3L9sbe5btjbr+gY2extVlYzv6kh3Z0c6qipVNfjTVVW1/qccPES58XXJ8LUbb7/+86FvrLKJ26uy0e1WOXjXafnUq56SDmOGW44mQQCAhpAkCAAA0B6s7QAAAFpTvSd/9fYP5Pe3P5jf3fZgLrnjoVy9YFl6+gcbATuqZJdpE7LrjIl50u7T84JDZmfWlPGZMak70yd2Z/rEcZk+sTtTJ3RlQndnxnd3ZEJXZ7o7q/UNfrAlNAkCADSCJEEAAIDWZtwwAABAexjDdV0pJZffvTRnXXJ3fnL9oixb05uujipP3mN6jj92bg7ZdVr2nz0l++40JRO6O8esLtAkCADQEJIEAQAAAAAAoDZjOG64lJJf3Lwkn/2fW3LVPUszZXxXXnjI7Lz4SbvkGfvPyqRxWrSol0cgADBooD9Zfm/dVbSPntXSJgAAAFra2B1MAgAAoBHGJiH+nodW50PnXpNf3fJA9tpxUv7hTw7Nnx++RyaP15ZF8/BoBAAGXfCe5LIz6q6ivez21LorAAAAYGsZNwwAANDa1icJNs4Pr1qYD3//mpQkp73skPzF0XtlXFdHw+8XtpQmQQBg0MrFybTdk+M+VHcl7UOTIAAAAAAAANRs9E/+KqXk//6/W/OZn96cI/aamc+++rDsucOkUb8fGC2aBAGAISWZuEPy1DfUXQgAAAA0EUmCAAAAralxCfGf/slN+fzPb8srDtst//zKedIDaXqaBAGAQaU47gEAAAAAAAC0hwaNG/7ab+/M539+W177tD3ziVc8OR0dDrLS/LSxAgBDSnQJAgAAwJDSuMQJAAAAxtLoreuuvXdZPnb+9Xn+wbPzcQ2CtBBNggDAoFIc+AAAAID1hhMnrJUBAABa2igdA13X15/3nn1VZk4el0+/6inp1CBICzFuGAAYIkkQAAAAAAAAaBNldE/++ref3Zob71+RL79pfmZMGjcqtwljRZIgADBIkiAAAABsYNwwAABAiyub32SErrpnaf7jl7fllUfskecdPHvUbhfGiiZBAGCIJEEAAADYYPQOJgEAAFCjbTz5a23v4JjhnaaMz2kvO2SUioKxZdwwADBIkiAAAAAAAADQLsronPz1L/9zc25ZvDJfPeHITJ/YPSq3CWNNkiAAMESSIAAAAKxn3DAAAECL2/YmwcvuejhfvOj2vObIPfOcA3cehZqgHpoEAYBBkgQBAAAAAACAdrOVx0DX9vbnfWdflV2nT8yHX3rwKBcFY8u4YQBgiCRBAAAA2GA4ccJaGQAAoCWVbVvXffrHN+X2B1blm285KlMnGDNMa5MkCAAMkiQIAAAAGxg3DAAA0OK2fl33hzsfypd/c0fecPScPGP/WaNcF4w9TYIAwBBJggAAAAAAAECbWJ8kuGVW9/TlvWdflT1mTsypLzFmmPZg3DAAMEiSIAAAAGzEuGEAAID2sGXrun++8Kbc9eDqnHXS0Zk8XmsV7UGSIACwEQc+AAAAAAAAgHaw5eOGf3fbg/nqb+/M8U+fm6P32bFBdcHY0yQIAAySJAgAAAAblC0/mAQAAEATKVuWEL9qXV/ed85VmbvjpLz/xQc2ri6ogUxMAGBIiSRBAAAAGGbcMAAAwPbkH//7hty7dE3OftsxmTROSxXtRZIgADBIkiAAAAAAAADQNkaeEP+rW5bkzIvvzlufsXfmz92hwXXB2NMkCAAMKZvfBAAAALYXxg0DAAC0thGOG16xtjcfOOfq7LPT5LznhcYM055kYwIAg8qAAx8AAACwnpPpAAAAWtvI1nWfuOCG3L98bc55x9MzobuzwTVBPSQJAgCDSsnmzqIBAACA7Y+1MgAAQEt7gqCUn9+0OGf94Z6c9Kx9c/icmWNYFIwtTYIAwJAiSRAAAACGGTcMAADQ2jYzbnjZ6t588HtX54DZU/I3L9h/7OqCGhg3DAAMkiQIAAAAAAAAtI0nPvnrH86/Pg+s7MkX3zg/47uMGaa9SRIEAIZIEgQAAIANnjhxAgAAgCa3Pknwsf7n+kX53uUL8pfP2TdP2WPGGBYF9ZAkCAAMkiQIAAAAGzzBwSSAdlNV1Z1JViTpT9JXSplfb0UAAKPpkcdAH17Vk1PPvSYH7TI1Jz/XmGG2D5oEAYAhkgQBAADgMayVge3HcaWUB+ouAgBg9Gx63PBH/+u6PLyqJ1894ciM6zKEle2DJkEAYJAkQQAAANiIccMAAEANFl2XrF1edxXt4YGbHvOlC6+9Lz+4cmH+5vkH5NDdptdQFNRDkyAAMESSIAAAAABsp0qSn1RVVZJ8oZRyet0FAcB2aclNyX88ve4q2s+4KUmSB1euy4fPvTaH7jYtf3ncvjUXBWNLkyAAMEiSIAAAAGxQNj2WCqBNHVtKWVhV1c5JflpV1Y2llIuGr6yq6qQkJyXJnDlz6qoRANrfcILgc09Ldj+i3lraxbjJye7zkyR/+4Prsnxtb8488ah0dxozzPal9ibBqqo6k1ya5N5SysvqrgcAtl+SBAEAAOCxrJWB9ldKWTh0ubiqqnOTPC3JRRtdf3qS05Nk/vz5ZZM3AgCMnl3nJfseV3cVbeX8qxfmgmvuy/tedGAO2mVa3eXAmGuGtthTktxQdxEAsN0riQMfAAAAALB9qapqclVVU4c/TvLCJNfWWxUAbK+Ge/EdsxtNS1asy2nnXZt5e0zP2561T93lQC1qTRKsqmqPJC9N8okk766zFgBa0L2XJff8oe4q2sfqB5IZe9ZdBQAAADQH44aB7cfsJOdWg693XUm+VUq5sN6SAGA7VQT2jrZSSj5y3jVZ1dOfT79qXrqMGWY7Vfe44c8meX+SqY+3QVVVJyU5KUnmzJkzRmUB0BLOf3dy35V1V9Fepr+87goAAAAAgDFUSrk9yby66wAANuJcpVHzgysX5sfXLcqpLzko+89+3PYkaHu1NQlWVfWyJItLKZdVVfWcx9uulHJ6ktOTZP78+VqmAdigvzfZ/4XJn36h7krax8SZdVcAAAAATcKYLwAAYKy1xjqkp28gi1eszaLl6/Lwqp6sWNebFWv7snzN0OXavqzr7U9P/0B6+gbS2z+Q3v6S3v6BwZ+wJCUlpWz4iUspKcmGrw19nvVfG9p+6PqyUepiedTtDV9XkixcuiaHz5mRtz7TmGG2b3UmCR6b5OVVVf1RkglJplVV9c1SyhtqrAmAllKSznHJpB3qLgQAAABoN8YNAwAAY62J1iH9AyW3LF6RmxetzG2LV+bWJStzx5JVuX/52jy0qudxv298V0emTujOxHEdGdfZke7OjozrGrzs7KhSJak6kiodqarBH7VK9YgfuaqGtqsydFmtb5sc3K7a6LoN3z98G1UGr6ySzN9rZk5+7v7p7Kh/n0KdamsSLKWcmuTUJBlKEnyvBkEAtkgpg39BAgAAAAAAALBNbl28Mj+9flF+f/uDufyuh7NiXV+SpKNK9txhUvaZNTlPnTMjs6dNyM5Tx2f2tAnZYfK4TJvYnakTujJ1QlfGd3XW/FMAm1JnkiAAbKPSFGfRAAAAAO2obH4TAACAUTX244aXru7J2ZcuyHcuvSe3Ll6ZJDlg9pS8/LDdMn/uzBy867TM3XFyJnRr/oNW1hRNgqWUXyT5Rc1lANBqSslY/oEMAAAAbEeKJkEAAGCMjeG44aWre/L5n9+ab/z+rqztHcj8vWbm719+aF546OzsOn1iw+8fGFtN0SQIAFtHkiAAAADQYN57AAAA2kgpJWdftiAfP//6rFjXlz996u458Zn75OBdp9VdGtBAmgQBaF2SBAEAAICGGfsxXwAAwPauseuQlev68p7vXpkfX7coT9t7h/zDnxyag3bRHAjbA02CALQwSYIA0AyqqrozyYok/Un6Sinz660IAAAAAKAFNXDc8P3L1ubNX/1Dblq0Ih/6o4Py1mfsk44Ox1phe6FJEIDWJUkQAJrJcaWUB+ouAgBg1DTw4BwAAMCmNSZJ8IGV6/K6L/0+i5evy1eOPzLPPmCnUb19oPlpEgSghUkSBAAAgPUGBpIlNyYDfXVX0h5W3Df0gfceAACA1rWurz/Hn3FJFi5dk2+85agcOXeHuksCaqBJEIDWVQbijXoAaAolyU+qqipJvlBKOb3uggBgu3TlmckP31l3Fe2loyvp7K67CgAAYHvRgETzf/npLbn23uX54hvnaxCE7ZgmQQBaV5EkCABN4thSysKqqnZO8tOqqm4spVw0fGVVVSclOSlJ5syZU1eNAND+1i4dvPyzLyXdE+utpV1M29W+BAAAxtDojhu+/O6Hc/pFt+U1R+6ZFxwye1RuE2hNmgQBaGElkgQBoH6llIVDl4urqjo3ydOSXLTR9acnOT1J5s+fXzZ5IwDAthtOnDjwxcn4qfXWAgAAwNYbhaCUtb39ee/ZV2XX6RPz4ZcePApFAa2so+4CAGCrlUgSBICaVVU1uaqqqcMfJ3lhkmvrrQoAtlejmzgBAADAGCujd471p398U25fsiqf/POnZOqE7lG7XaA1SRIEoIVJEgSAJjA7ybnVYON+V5JvlVIurLckAAAAAIBWNDonf11yx0P58m/uyBuOnpNn7D9r28sCWp4mQQBaVymSBAGgZqWU25PMq7sOACAbEieslQEAAFrbNqzrVvf05X3nXJU9Z07KqS8xZhgYpEkQgBYmSRAAAAAAAABoE6MwbviTP7oxdz24Ot856ehMHq8tCBjUUXcBALDVStEjCAAAAOuNzlgqAAAA6rJt67rf3vpAvva7u3LCsXNz1D47jl5ZQMvTJAhAC5MkCAAAAOsZNwwAANDa1vcIbvm6buW6vrzvnKuz96zJef+LDhrduoCWJ1cUgNZVigMfAAAAAAAAQJvZ8mOgn7jghty3bE3OfvsxmTiuswE1Aa1MkiAALUySIAAAAGxg3DAAAEBrK5vfZBMuunlJvn3J3TnxmfvkiL12GOWagHagSRCA1iVJEAAAADYoW3cwCQAAgCYxvK7bgmOgy9b05gPfuzr77Twlf/OCAxpUGNDqjBsGoIVJEgQAAIDHcEIdAABAixv5uu7j51+fxSvW5ftvOCITuo0ZBjZNkiAArUuSIAAAAGzEuGEAAIDWtmUJ8T+7YVHOvmxB3vHsfTNvzxkNqgloB5oEAWhhkgQBAAAAAACANrF+3PDmN126uicf/P41OWiXqTn5efs1ti6g5Rk3DEDrkiQIAAAAG6wPErRWBgAAaG2bX9d99IfX5eFVPTnj+CMzvsuYYeCJSRIEoIVJEgQAAIANjBsGAABobcNJgk+8rrvw2vtz3pUL887n7pcn7T59DOoCWp0mQQBalyRBAAAAAAAAoF0Mjxt+Ag+uXJcPn3tNnrT7tPzVccYMAyNj3DAALUySIAAAAKxXRpY4AQAAQLPafEL83/7guixf25tvverodHfKBgNGxqsFAK2rxIEPAAAAAAAAoL08zjHQ868MkcaEAAAgAElEQVRemAuuuS/vev4BOXCXqWNcFNDKNAkC0MIkCQIAAMAGm0+cAAAAoIk9wbjhJSvW5bTzrs28PWfkbc/aZwyLAtqBJkEAWlcpkgQBAABgmHHDAAAALW7TJ3+VUvKhc6/Jqp7+fOZVT0mXMcPAFuqquwCA7cY15ySXf63uKtpL76pIRwAAAAAAAADayqNO/jrvynvz0+sX5cN/dHD229mYYWDLaRIEGCvXfi9ZcGmy67y6K2kfc45J9n9B3VUAAABAk5AkCAAA0NLKY5ME71+2Nn/3g+syf6+ZefMz9q6nLqDlaRIEGCulJDvum7z5wrorAQAAAAAAAKDplEd+VkpO/f7V6ekfyKdeNS+dHU4KA7aOIeUAY6bEaFwAAACgYUrZ/DYAAAA0v6GE+LMvXZCf37QkH3zxQdl71uSaiwJamSZBgLFSinE/AAAAQAM5QREAAKClbTRu+N6la/Kx86/P0fvskDceM7fOqoA2oEkQYMx4ox4AAAAAAACAx1OG/l/ywe9dnf5S8qlXzkuHMcPANuqquwCA7UYZkCQIAAAANI4pBgAAAG3hgmvuz69uWZuPv+JJ2XOHSXWXA7QBSYIAY6VIEgQAAAAaqWx+EwB4HFVVdVZVdUVVVefXXQsAbLeGxg1/4aI78oz9ZuX1R82puSCgXUgSBBgzzuYHAAAAGs17DwBstVOS3JBkWt2FAEAd+gdK1vb2Z01vf9b29qevv6QkKWX4MknKcB/f+q+Voa8Nf5z12z7q+qHb2vh784jrkh0Wr8x+Saqqyidf+ZRUji8Do0STIMBYkSQIAAAANJJxwwBspaqq9kjy0iSfSPLumssBoNWsfijp76m7isdYvqY39y9fm/uXrc2iFWuzaPm6LFvdk2Vr+rJsTU+Wr+nLsrW9WdPbn57egfT0D9Rdcl7YeUU+0Z2849n7ZvcZE+suB2gjmgQBxow36gEAAAAAaEqfTfL+JFPrLgSAFnPHr5KvvazuKjZp2tB/B4xk4+6h/5rESw7bq+4SgDajSRBgrEgSBAAAABrKew8AbLmqql6WZHEp5bKqqp7zONuclOSkJJkzZ84YVgdA01u5aPDyOacmU3Yes7stJVmwdE2uWbA0N96/Ig+sHEwy7OqoMnvahOwybXx2njYhMyd1Z/qkcZkxsTuTx3eloxWWTBN3SGbOrbsKoM1oEgQYM5IEAQAAgAYybhiArXNskpdXVfVHSSYkmVZV1TdLKW8Y3qCUcnqS05Nk/vz5pZ4yAWhKZejXwpP+PJm1f8Pvbk1Pf865fEHO+PUduf2BVenurHLsfrNy7L6zcvQ+O+bgXaemq7Oj4XUAtBpNggBjRZIgAAAAAABNppRyapJTk2QoSfC9GzcIAsATG+4db+xx0P6BkrMvvSef/slNeWBlT+btMT3//Mqn5EWH7pLpE5toTjBAk9IkCDCWnM0PAAAANIwTFAEAgDFWGh8we/eDq3PKd67IFXcvzfy9ZubfX39Ejpw7M5VjrwAjpkkQYKxIEgQAAAAAoImVUn6R5Bc1lwFAK2pQw97PbliUU866MlWV/Mur5+UVh+2uORBgK2gSBBgzRZIgAAAA0DjFew8AAMBYa1yS4Hf/cE9OPfeaHLrbtPz76w/PHjMnNey+ANqdJkGAsVJKUnXUXQUAAADQtkwxAAAAxtjwuOFRPmHph1ctzPu/d3WedcBO+Y/XH57J47W3AGwLr6IAY8bZ/AAAAAAAAABP5LK7Hsp7vntlnrb3Djn9L47IhO7OuksCaHkirQDGSmlc1DYAAACAccMAAMDYGz4GOjprkdU9fXnPd6/K7GkT8sU3ztcgCDBKNAkCjBlv1AMANIPP//zWvOzfflV3GQAAAADQ+kZ53PA/X3hT7nxwdT71ynmZPrF7VG4TAOOGAcZOKRmtM2gAANh6n/rxTXWXAAAN5L0HAABgLI3eNLXf3/5gvvrbO3P80+fmmH13HLXbBUCTIMAYkiQIANBMrlu4LOM6O9Ld2ZHx3R2ZOqE7XR2Df69VVVKlGrpMqqG/46rh6/xdV7t7l67J4uVrkwz+ewz/i2z8b5eNvpY88uvD2234eOM/1zfaLo/993/0ba2/jUdt19XRkekTuzOuqz0GOdy8aEVWretLsmGfP3o/Jo/9N3j082nDtk/wHHuc/Tt8/bjOjkyb2J3uztbft3c9uCoPruoZ+X7Ywn2bjODfq6oyeVxnpozvSleL79OBgZLr71ue3v6BEb02rN9/j3pub+o1YUv254SujkyZ0JWujo50jOXvjQaMG7518YqsXNe/0V0MHgB89H7YeB8kj9y3j92vj3793fRtDW8zvqszUyd0ZVxnRzo6Wvt38AMr12Xh0jXrPx+Nx+WIHuuPeg2dPL4r47s6Wv5vmlsWrcjqnv4nfn183N/5I9uHj95/G99WZ0eVaRPa53c9AMC22ba/LVet68v7zrkqe+04Ke9/8YGjVBMAwzQJAowVSYIAALUbGNhwZvNL//XXW30747o68u0Tj8oRe+0wGmWxBUop+fdf3Jb/89Ob0z8wemeqN1JHlXR1dqS7oxq87KzS1dGRzo4qHR1JZ1Wlo6PKvD1m5F9efVjd5W7SD668N6ecdWXdZTxGVSXdHR2P2I8dVTW4b6us//jPDt8973vRQXWX+xjnXLYg7z37qrrLeIyujsH9Nvzf4Ocd6ewY3KcdVZVXPHW3ptunff0DOfnbV+RH195fdymP0fWIfTn4WtA19HitquRpe++Qz73mqXWX+Rj/8tOb87mf3VJ3GY9QVRue753V4D7t6Bh+3g++73LobtPytTc/reZKH+uyux7KG798SVb19G9+4zHSMdToNvx6ueG1dMPXn3/I7Pzjnz657lIf40fX3Je//Nbl66fb1a27c8PjcP1jdOjzXaaPz/knP7PuEgEAGmOUxg3/049uyIKH1+S7bzsmk8ZpZQEYbSN6Za2qalKS9ySZU0o5saqq/ZMcWEo5v6HVAbQVSYIAQPPaXtZ9HR1VDttzRiZ0d+SEY/dOb/9AevsHsqZnICvW9qa/lPXva5ahj0sydDn4+fK1vTnjN3fmtiWrNAmOsf6Bkr/9wbU58+K787Kn7Jo/P3yP9f8uSdb/ew1+XDb6OBm+5pHbDP67bup783jbDN/XRtttdPOPqKenfyDLVvdmbV9/+gZK+vpL+voH0jsweNk/kAyUkv6BkmsXLst/X3NfUzYJXnTzkrz37Kty8K7T8q7n759xnR3rf85N7fNN7e+Nn0PD167ff4/adxu+55H7d+PvX9vbn+Vr+9LbP5Ce/oGUMvj4GCglAwMl/aVkoAw2Bv/ipiX5za0P5n0vavSe2jIXXH1f3n/OVXnGfrPylmfu/ZjH0BPt20fuxy3ftxvf5vC+XbmuP6vW9Q0+NktJ30BJf//g5cBGnw+UkotuWZJf3/JAU+3TgYGS951zdX507f356+ftn8P2nJ4km9mXyfD+3PhrZaOvDX9PNnX94+zPJFnV05fVPf3p6x98PPYPDDxin/YNDKSvf/B2Lr3roVx085JR2hOjd4Li539+az73s1vykiftklfN32P916uqesRzcuPn7KNfdzf1GrCp/bq55//avv6sXNeXnr6B9A8Mvm72Dz3f+wY2PO/7B5JvX3J3fjlq+3P0XHnP0rzxy5dkp6nj808vPDCTx3Vu8ufd3PP88fbf+o9H8Bq6prc/q3v6s65vYMNr5qP26/Dr6G9ufSC/vfWBhu+fLXXx7Q/mlO9cmb1nTc57X3jg0O+mTb9ePvr3/mP20aNfRx/9mN7k/h/8Wl9/yYq1venpG/z9vqn92D+QTJ3gIDdjZ3tZ2wHQTIb/Str6tcivb3kg3/z93XnrM/bOkXO93wbQCCNdmZ6R5LIkxwx9viDJ2UksKABGqpSkMnoEAGha282677y/Onabvn/x8rU54zd3pqdvYJQqYiTW9vbnXWddmQuvuz9vf/a++cCLD2z5EYkb+98/ujFf+fUddZfxGFfc/XDe/s3Lst/OU/Odtx2daRO66y5pix1/xiV5eFVP3WU8wv+7cVFOOeuKHD5nZk5/4xEtl5BwwhmX5IGVzbNPSyn5yA+uzblX3Jv3vvCAvPO5+9dd0hb56A+vy7lX3Ds6NzZK44a/9Kvb86kf35RXHLZbPvO/DktnC4343Wnq+Pxrk6Uf3r5kZU4445LsOGV8vvO2YzJ72oS6Sxqxd511RS6/e2ndZTzCjfcvz1u/fmn2nDkx57z96Zk5eVzdJUGz2W7WdgA0iW2Mdl6xtjcf+N7V2WfW5Lz3RcYMAzTKSLtV9i2l/HOS3iQppayJmZkAW2j0zuYHAGgA674R6u4cXEr39msSHCvL1/bm+DMuyYXX3Z+PvPTgfPAlB7VVg2AyOO5xoFnmJQ656p6leeNXBlOvvvbmI1uyQTAZHI/bTJOpL7p5Sd7+zctz8K7T8pUTjmy5BsFkeJ82x04tpeQfzr8+37r47rzjOfvmr47br+6StljVZM//b/zuznz8ghvy0ifvmk+/al5LNQgmg6+nyYaUuLoteHh1/uLLl6Szo8o33vK0lmoQTJrr+Z4kty1ZmTd++ZJMHteVr7/lKA2CsGnWdgDUYyvfq/nH/74h9y1bk0//r3mZ0N05ykUBMGyk70L2VFU1MUM5sVVV7ZtkXcOqAmhHo3Q2PwBAg1j3jdC4rsEmQUmCY2PR8rV501cuya2LV+azrz4sr3jq7nWX1BAdVZXmacEYbBB8w5cvzsxJ4/KtE4/OzlNbq6llY83UgHnRzUty4tcvzT6zJudrb35ayzZeVk3SeFlKycfOvyFn/ObOnHDs3Lz/Ra2ZMNpRVdsavLGRbTtB8buX3pPTfnBdnn/wzvnsaw5LV2frTUToGHoMDJSks+aHw71L1+S1X/x9VqztzbdOPDp77Ti53oK2QkfHaD4+t82ti1fktV+8OAMDJd886ajsPmNi3SVBs7K2A2CMbf244V/evCTfvuSevO3Z++TwOTNHtywAHmGkTYJ/l+TCJHtWVXVmkmOTHN+oogDakyRBAKCpWfeN0HCS4DpNgg136+IVedNX/pCHV/fky8cfmWcfsFPdJTVMMzWyXX73w3nTVy7JzEnj8u2Tjm75JoxmaWgbbhDce9bkfOvEo7NDC6dfdVT1p7SVUvKJC27IV35zR45/+tz87csOackGwaR5nv9nXnxXPnLetXnm/rPyf193+Prfd61mOEmwf6DUmoK44OHVed0XL87S1b05861H5Um7T6+tlm3RLI/PmxetyOu++PskVc466ejsP3tq3SVBM7O2A2BsbeXfi8vW9OYD51yd/Xeekr95/gGjXBQAjzaiJsFSyk+rqro8ydEZ7HA5pZTyQEMrA2g3kgQBgCZm3Tdy3Z1Vdp46PrctWVl3KW3tlzcvycnfujzjujrznZOOyZP3aM3mipGqhpLESim1Njr94qbFecc3L8/saeNz5omt3yCYNEdD24XX3pe//vaV2Wen1m8QTOofP9rXP5DTfnBtvn3JPXnTMXvl7/64dRsEk8GktlHbn6Vs8fmJpZT85y9vzycvvDHHHbhT/uMNR7T0iK+OjuEkwfoeozcvWpHjv3JJVq7ryzfeclSesseM2mrZVnU/35PkhvuW5/VfujhdHVW+deLR2W/nKbXWA83O2g6A2mzhuuxj51+fJSvX5Qt/0dprEIBW8YRNglVVHf6oL903dDmnqqo5pZTLG1MWQDuSJAgANB/rvi1XVVWO2mfH/ObWB9PbP9CySUvNqn+g5D9/eVs+85ObcsDsqfniG+dnzx0m1V1Www2Px6zz3KKzLrk7Hz7v2hw4e2q++uYjW3rE8MbqbnD5+u/uzN/98LoctueMfOVNR2ZmizcIJklHR2pLZ1zd05dTzroyP71+Uf7quH3z3he25ojhjXWMatrllr330NM3kI+cd02+e+mC/PG83fJ//te8lv+9tvHraR1+fuPinPztKzKhuzPfPunoHLpbaze5V1WV/hrDk3972wN5xzcvz8Sh/bn3rNYb2QxjxdoOgPps+bjhn92wKOdctiDvPG6/zNuzdU+qAWglm0sS/MwTXFeSPHdr77iqqj2TfD3JLkkGkpxeSvnc1t4eQNMrkSQIADSjbV73VVXVmeTSJPeWUl42WoU1s1cctlv+66qF+a+rFubPDt+j7nLaxsKla/I337kyF9/xUP543m755J8/OZPGjWgIQssbnog5UEo6xvjkov6Bkk/9+Kb85y9vy7MP2Cmff/3hmTK+ffb76DZgjVz/wIZxuM8/eHb+7bVPzcRx7ZGMUFfj5aLla/OWr/0h1y9cnr9/+aF509PnjnkNjdBRJQM1PEgfWtWTt3/zslxyx0P56+ful3c9/4D1KXytbOPX07FUSsmXf31H/vG/b8hBu0zLl940P7tJY90m3/3DPfnQuddk7qzJOeP4I7eLkwZgGzXsmB4APKHhvxdHeBx06eqenPr9a3LQLlNz8vP2a2BhAGzsCd/xLaUc18D77kvynlLK5VVVTU1yWVVVPy2lXN/A+wSokSRBAKD5jNK675QkNySZNgq31RKOO3DnPHn36fnH/74hzz1o58yY1PrJYHW74Or7cur3r07fQMmnXvmUvPKIPVo+HWxLbBiPObb3u2x1b075zhX5xU1L8rqj5uTvX35oy6eIPVpVjX2z0LI1vTnlrMH9esKxc/ORlx6SzjZovhrWMTQeeyxdvWBp3vaNy7J8TW++9Kb5ee5Bs8e2gAYa1abLEcaR3rJoRd7ytUtz//K1+dxrDsufHLb76Nx/ExhOEhzL531P30BOO+/afOfSe/LiQ3fJ/3n1vLZpcq+jKXhgoOSTP74xX/jl7Xnm/rPy+dcfnmkTuse0BmhFDT6mBwBPYMv+XvzoD6/LQ6t68pXjj8z4rvY4mQ6gFYzonYqqqv4qyZmllKVDn89M8tpSyr9v7R2XUu7LUNR5KWVFVVU3JNk9iSZBqFvv2mSgr+4q2s9AvyRBAKBpbe26r6qqPZK8NMknkry74YU2iY6OKv/7z5+cP/m/v8n7z7k6X/iLI7arhrbRdOcDq/Kx86/Pz25cnHl7zsjnXn1Y5m6HowSrGpKvrr13Wd5x5mW5f9nafPwVT8objt5rzO57LI11Q9uN9y/PO755ee55aHX+8U+fnNcdNWfs7nyMdIx242XfusedDVtS8t1LF+RjF1yfnSaPz5ff+tQcsuv0wfcu2kRX6Ul36Rmdn2kE7+f8/KbF+etvXZHx3Z35zklH56lzZm77/TaRqhrbpuuNExnfedx+efcL2iORcdjg833s7m/F2t68+7tX5afXL8objp6Tj/7xoelqs+Z1aLRGHNMDgJHZ/N/BF157f867cmHe9fz986Tdp49BTQAMG+npjCeWUj4//Ekp5eGqqk5MMioLiqqq5iZ5apKLR+P2gG2w8IrkS8/XJNgoOx1YdwUAAI9na9d9n03y/iRTG1lcMzp0t+n54EsOyscvuCGf//mteedz96+7pJZyz0Or87Xf3pmv/+6udHdWOfUlB+XNz9i77VLsRmo4+WosmtkGBkq+9Ovb86kf35RZU8bnO287Joe3WZPQxka9oe1xlFJyzmULctoPrs20/8/efYfHUZ1vH//Orla9d8mWLMu929i40qsNmF5SgEBCC4SQXwJJyBvSC6RDGpBCEkjoYNObwYDBprj3XmVZvXdpz/vHauVuJGu2358LLlsraeb47Ozszsw9zxPr4vGbpnNiUbrP1xsItlYWW/xneP17R/22BVwFXBUFtAH/tGe1weQO4I5YPHF7OyRkH/Fht9vw4Htb+c3rG8OqHe6hvPk8f7TI3VTWwA1hWpHRy+HwXyVBb8h6V3UzP5w7mutmFukmDJHj49NreiIiIofpZbvh6qZ2vj9vNaPzkrntdLUZFhHxt96GBB2WZVmm+8yKZVlOwJZeSpZlJQLPAt8wxtQf4fs3ATcBFBaG353XIkGnrsQTEJx+KyTlBXo04WfYOYEegYiIiMjR9Pm4z7KsC4ByY8xSy7JOO8bPhe1x3VdOGsyakjp+88YmBmUkMHdCfqCHFNTcbsOiLZX8Z/EOFmwox2FZXDxxAN+ZPYLs5NhADy+gHH6qJFhW38q3nlrJoi2VnDM6h3svG096Qni3y/ZHq8z61g7umbeG+Sv2MqM4gwc+P4mspBifrjOQLMvC7bZpYdXbwBUPp9x10MOVjW3MX7GXyqZ2Zg3JYOaQTMKoONtBPthaxaLNldx17gh7/o254w57qKqxjTufXsk7Gyu4YHwe9102noSY8GiHeyhv6LrLh+XvjDE8vXQPP5y/loSYqLCsyOjlj2qs3vn8wfw1JMW6+N8N05hWnOHblYqEN59d0xMREemPH8xfQ11LB4/dMC1ibxIVEQmk3p4JegN4yrKsB/E0lL8FeK2/K7csy4UnIPhfY8xzR/oZY8zDwMMAU6ZM8WNjA5FI1f0ym/B5yBsf2KGIiIiIiD8dz3HfLOBCy7LOA2KBZMuyHjPGXH3gD4XzcZ1lWdx3+XhKalv41tMryU+NZfKg8Kwc1h/1rR08u3QPjy7eybbKJjITo/na6UP5wrRC8lLCr4rV8XD0tMf0zUvEGMPLq0v5/rw1tHW4+eWl4/jciQURUaHJ1kDbESzdWcMdTyyntK6Vb509nFtPH4ozXNNs3RyWjVXajPGEBE/+ZveXhsc+2sXPPlhHYswUfnftRE4anmXPuoLU8o7N/HXDJr45aw4OH1wo+3BrJf/35Apqmjr4yUVjuGb6oLB+7e8PXftm+XXNHXxv3mpeXlXKjOIM7v/cxLAOuvu6Gmttczvfe341r6ze55nPz08kOyl851PET3xyTU9EROSzHf044+VVpby0qpS7zh3ByNxkP45JRES8ehsS/DZwM/BVPHv2N4C/92fFludM1D+A9caY3/VnWSJio16WgxYRERGRsNPn4z5jzN3A3QDdlQTvPDQgGAliopw8fM0ULvnLB9z4n6XMu3UWhRnxgR5WUFhfWs9jS3by/PISmtu7OKEwlfs/N5HZY3OJiXIGenhBxeoJCdq/7PKGVn4wby2vrd3HhIEp/O6qiQzJSrR/RUHK1kDbATq73Pzx7S386Z0t5KXE8tTNM5g8KDwriR3KU53RrqXtX1B1UzvfeXYVb64r49ThWfz6ivERERayfBQS7uhy87s3N/Hgu1sZnJHAP687kTH5KbauIxg5HN727fa/7j/ZUc03nlhBWX0r3549gptPGRIBoWDfVWP9cGsl33xyJZWNbXxn9khuOqU47OdTxE9sv6YnIiJyTJ9xfbmioY3vz1vN+IEp3HxKsR8HJiIiB+ptSPA84CFjzF9tXPcs4BpgtWVZK7of+54x5hUb1yEifeY96acTciIiIiIRxhfHfREjLSGaf153Ipf+9UOue+Rjnrx5Rli3Gj0WYwwL1pfzp3e2sGJ3LdFRDi6akM+1M4oYNzD8wynHy3sEZneo5Z2N5XzrqZU0tnXyndkjufHkwURFWEsfewNtHuUNrdz62DI+3VnDJZMG8OOLxpAc67J3JUHM4bA50GZZrN5Tx43/+ZTqpnbuuWA0188s6gl7hTtvJVE7p7S8vpVbHlvKsl21fO7EAn4wdzTx0eHZXvhQDh+Ert1uwx/f3sL9CzZRkB7PM1+dycSCVPtWEMQsH+xDO7vc/NYbYM1M4PlrZ+kzgoi9dGwnIiJ+dvTry8YYvj9vNU3tXfz2igkRd05CRCSY9PbM0OeA+y3LehZ4xBizvr8rNsYsQikkkeCjSoIiIiIikapfx33GmIXAQh+MK2QUZyXy92uncM0/Pubqv3/E4zdNJz0hOtDD8htjDIu2VPKbNzaxcnctgzLiueeC0Vw6aQBpETQPx8sX7TH//v42fvbyekbmJvHUzdMZmp1k38JDiN2BtpLaFq58cDHVTe3c/7mJXDRxgG3LDhW2hoaMocNtuPKhxaQnRPPcrTMZOyCywkL7X//2TGppXQuX/9Wzjf7x85OYOyHfluWGCrvns7PLzTeeXMFLq0q5ZNIAfnrxWBJjIiNwCfZXY23t6OK2/y5jwYZyPj+1gHsuiJwAq4gf2X5NT0RE5JiO8XnxhZV7eX1tGXfPGcmwnMg8LyEiEix6dfRtjLnasqxk4PPAI5ZlGeAR4HFjTIMvBygi/qZKgiIiIiKRSMd99phSlM7fvzSF6//1Cdf84yP+d+N0UuLCv7rY0p013PfaBj7eXs2A1Djuu2wcl54wEJfuDu81b8U0u0It726q4Gcvr2fO2Fx+f9VEYl2R297ZsrFVpjGGbz65gvqWDp66eUbEVr5yWDYGsNyG+pZOspNjePqWGRHRXvhQ3vaqHV39n1NjDHc8sYK6CN5Gve89bZ1uW5b3wILNvLSqlO/MHsktpxb3tIeOFLEuJx1dho4uty3v6z95aR1vbyznpxeP5Zrpg2wYoYgcSsd2IiISMId8Vi6vb+UH89cyqTCVG05Wm2ERkUDr9VG9MaYeeBZ4AsgDLgGWWZZ1u4/GJiKBoEqCIiIiIhFLx332mDU0k4eunsymsga+9M+PaWjtCPSQfMYYw4PvbuWKBz9ke2UTP7loDG/feSpXnViogGAfedtjdtlUnu3+tzZRlBHPHz4X2QFBgNgoJy3tXbYsa11pPR9tr+ab5wyPyPCVV0JMFI1tnbZUFyupaabLwE8vGhuRAUGgp1W1He8Xa0rq+Xh7NXedOyJit9HUeM981rX0fz6b2zv52/vbmTshn6+eNiTiAoJg73zuqWnmfx/t4suzBisgKOJjOrYTERH/OvzY0BjD955fTWtHF7+5YkLPzVEiIhI4vTpjb1nWXMuyngfeBlzAVGPMHGACcKcPxycifqdKgiIiIiKRSMd99jp9ZDZ//PwJrCmp44t//4jqpvZAD8l2jW2d3PrfZdz76gZmj83lnTtP49oZRcRERXYg7XglxZn0pNwAACAASURBVHqaPdgREmpq62T57lounDhAzweegEtTexcdXf2vKrZkWzUA54/L6/eyQllKnIv2TjetHf2f04qGViw8AetIldxdcba2uf+v/493eLbROeNy+72sUJUS52lxX9vc//fej7dX09LRxZVTBvZ7WaHKWxHZjpDgwo0VAHxxWmG/lyUiR6djOxER8bsj3ED23LIS3lpfzl3njmBIVmIABiUiIoc6Zrthy7KGArnAFcDvjTHvdT9+smVZScaYrZZlfdkP4xQRf1ElQREREZGIouM+35k9NpeHrpnMV/+7jCsfWsy/vzyVAalxgR6WLbaUN3LLY0vZVtHI984byY0nR177RbvZGcJoauvEGMhJjun3ssLBgXObmdi/OWlu6wQgPSG63+MKZandIay6lg7iovsXRO10G7CsiK4q4a3UVm9H5bvubTQtPnK3UTv3p/WtnvnMSwmP9+/jkWJjiNX7nAxIi9z5FPElHduJiEjAdZ8b2lfXyo9eXMvUonS+PGtwgAclIiJen1VJ8A9AvTHmWu/BRLeW7u9hjFngq8GJSCBF7sl5ERERkQij4z4fOnNUDv/58lTK6lq56E+L+GhbVaCH1G+vrSnl4j9/QE1TO4/dMI2bTonM9ot2szPU0tbpqe6mKoIedrbKbOt043RYREV4O+2e0FBL/yu1ud3uiL9Rcf982rONOiyIUujSllBbW4enVXlMVOS+5lPjvaHg/r/eWzu6sCyIjvB9qIgP6dhOREQCZH+nOmMM331uFZ1dhl9dPh5HBB+biIgEm886Gi8yxqw69EFjzKdAkU9GJCKBpUqCIiIiIpFGx30+Nr04g+dunUlyrIsv/P0j/rFoO+YIbViCnTGG376xkVseW8aQ7ERevP0kZg6J3PagdtsfwrAjJKRQy4GSbQxgtnZ0aV6xL4TV0eWms8sd8bcp2hVkbevsor61g5goZ0SHt+2sfNfqDV27Ivd1n9o9nzVN9uxDYyN8+xTxMR3biYhIYBxwffmpT3ezcGMF350zkqLMhMCOS0REDnLMdsNA7DG+p54AImFp/50eIiIiIhIRdNznB8Nykpj3tVnc+dRKfvrSOlbsruW+y8YRH/1Zh+XB45mle/jj21u4cspAfnrxWFWps1lPJcE+hlqqm9opqWmhpLaF0roW9ta28N6mSgCiFWYD9gdceju3xhh2VTezdGcNy3fVUlLbQll9K2X1bVQ2tpHWHeiKZPtDWL2rLNbS3sX7myv4ZEc1G/Y1UFbfSnlDG7XNHdwb1cKY6Mg+B+FtDVzd1Lv5bOvs4sMtVSzZXsWG0gb21bVS1tDaE4rLSorsVuMup4OUOBcVja29/p09Nc28tmYf6/bWs7O6mcrGNqob22nobt8cSu/XdvNuT+UNbb36eWMMn+6sYfHWKjbua6C0roWKxjYqG9pp6egiMzFyW2GL+IGO7UREJEA815f31rXy05fWM6M4g2umDwrwmERE5FCfdXbjE8uybjTG/O3ABy3L+gqw1HfDEpGAUSVBERERkUij4z4/SY518eDVk/nru1v5zRsb2bSvgYeumRwyd1X/Y9F2xg5I5t5L1SrGF5JjPadoetNutKapneeWlzBveQmrS+oO+l5MlIMBqXGcOjyLiQWpPhlrqMlM9AZcjh0YMsbw+toy/vDWJjbsawAgMSaKQRnx5CTHMm5ACilxLiYVpvl8zMEuJ9mTQSirP3ZoqLWji7+8s4V/L95JXUsH0VEORuQkMTgzgWmDM8hIjOaEbakk10V28DLW5SQlzkVpXcsxf87tNjyzbA/3vbqBqqZ2op0OhmYnMigjnqmD08lOiiE13sWYASl+GnnwykuJpbT2s0OCC9aX8dB72/h4ezUAOckxDM5MYMLAVNITokmNdzEsO4nEmMgNCSbERJEcG/WZ26cxhgXry3ng7c2s2lOHZUFhejwD0+KYXJhGZmIMKXEuJui9ScSXdGwnIiIB9cP5azFGbYZFRILVZ53d+AbwvGVZX2T/AcQUIBq4xJcDE5FACb22ZyIiIiLSLzru8yOHw+K204cybkAKX39iOXP/uIh75o7miskDg7r1XlVjGxv2NfDt2SN0ktdHopwOMhKiPzN09da6Mu58ZiW1zR2MG5DCt2ePYEhWIgNS48hLiSU9ITqot6VAyE2JxbJg7zECQ22dXXzzyZW8vLqUodmJ/GjuaKYPyWBYdhJObfOHyUiIJtrpYO8xQkPl9a1c/69PWLu3ntljcrl6+iCmDk4/vMLl/ERoVGXSvJRY9tUdfRttauvklseW8v7mSk4sSuPXV4xn1tBMVXU9ivzUOPYeYz7dbsNPXlrHvz7cQVFGPHeeM5yLJg6gID3ej6MMHXkpcZ+5D/3648t5fW0ZBelx3HvpOM4bn0dybGQHgEUCQMd2IiISGN1FaD7cVs33LjlRn6tFRILUMUOCxpgyYKZlWacDY7sfftkY87bPRyYigaFKgiIiIiIRRcd9gXHK8Cxe/NpJ3Pn0Sr79zCpeXLmXn188jsKM4DyJ+skOT4WlaYMzAjyS8JaTHEtZ/dFDGO9uquCmRz9ldH4y/71hGmPyVS2sN1xOB1mJMeytPXKgze02PeGWu84dwc2nFBPlVKvmY3E4LHJSYo4aamvt6OK6Rz5hR1UT/7xuCmeMzDn6wgyAzkHkpx49hOXdRj/cWsXPLh7LF6YWKrD9GfJSYlm+q+ao3//DW5v414c7uH5WEXfPGaX27J8hLzX2qJUEjTHc/exqXl9bxt1zRvLlkwbj0j5UJCB0bCciEt6MMdS3dtLQ2kFzexeNbZ00t3XR1N5JU1snrR1u3MZgjMHgOY4weC79mu7fp+drc8Djnq+93/Ou69Dve7/GmMMeP3FvGacDM4oz+MLUQj/PjIiI9Fav+iQYY94B3vHxWEQkKHgrCepks4iIiEgk0XGf/xWkx/P4jdN5dMlOfv36Rs7+/bt8/cxhfOWkwcS6gqsy1IZ9DVgWjMlPDvRQwlruMSqJ1TV3cMcTyxmek8RTN88gPjpyW18ej7zUOEqPMrfPLN3D62vL+P75o7jh5GI/jyx05aXEHbWd6wMLNrOutP6zA4LSIy8llhW7a4/4vWeX7WHBhnJ+OHc0V08f5OeRhab81Dhqmjtobu88bH+5Ynctf3xnC5dPHsgPLhit6qu9kJ8ad9Tt8411ZTy3vIQ7zhzGzacO8fPIRORIdGwnIhKaapvb2VrRyK7qZnZVtbCrupnyhlaqGtupamqjuqmdjq7g6Ajn/QhtAZZl4XZUc3oU/OTicfp8LSISxHRGWUQOpkqCIiIiIiJ+43BYfGlmEeeMyeFHL6zl169v5D+Ld3D7GcO4ckpB0FQ22lrRREFafNCFF8NNTnIsK48SwvjP4h3UtXTw+I3TFRA8DvkpsWwsazjscWMMf3xnM5MKU/nKSYMDMLLQNSA1jo+3Vx/2eFNbJ498sIOLJub3MiBodA4CT3C8uqmd+taOg1q0GmN44O3NTChI5UszigI3wBBTnJkAwNbyJsYNPLjq6v1vbSIjIZofXThGFzB7qTgzgdrmDiob28hMjOl53BjDb17fyIicJG4/Y2gARygiIiISWrrchrV761i0pZIVu2pZu7eekkOq3+cmx5KbEkt+aizjBqSQnhhNRkI0ybEuEmKiiI9xkhAdRUL3n7EuJw4HWFg4LE94zxPi8zyG5f37Eb7HAcG/7seO+LNH+/y8aBO85bm5REREgpfOKovIIVRJUERERETE3/JS4njomiks2VbFb17fyPfnreGh97byjTOHc/GkATgD3FZyS3kjQ7ISAjqGSJCbHEtVUzutHV2HBTLf3VTB+IGpjMpTNcfjUZAez4L15XR2uQ9qJby9sond1S3cetpQhYX6aGh2Is8vL6GxrZPEmP2nGJftqqGlo4vLThjYuwWZ4KiEEWjDshMB2FzWyORBaT2Pe7fRr546VC2G+2BYTvd8ljccFBJs6+zig61VXD1t0EHbrRzb8JwkwLN9HhgS3F3dwubyRn560Ri1aRcRERH5DG63Ycn2KuYtL+HNdWXUNHcAMDgzgUmFqVwzYxAjcpIozIhnQGpciN2oqevLIiKhQGdCRORgqiQoIiIiIhIw04szePqWGSzcVMFvXt/It55eyV/f3crtZwxlzti8gFQWdLsN2yoamTUkw+/rjjTF3UHMbRVNjD6ktfOWikYuGJ8XiGGFhRE5SbR3udlR1cTQ7KSex3dUNQH7AzDSe/tDbQ1MKtwfattS3gj0tT25zkHsD2E1HBQS3FnVDMCI3MSAjCtUDcpIwOW02FTWeNDju6ubae90M/6Q6oJybD3bZ3kDMw74PLCt0jO/IxVgFxERETmq1o4unl22h4ff28bOqmYSY6I4Z3QOpwzPYtbQTLKSYj57IcFON3+JiIQEhQRF5BC600NEREREJJAsy+L0EdmcOiyL19bu47dvbOSOJ1bws6T1fGFqIV+YVkhOcqzfxlPZ2EZbp5tBGfF+W2ekGpHrCWFsKms4KCTY0eWmtrnjoOpN0jcj8zxzu7604aCQ4L66NgDyUvz3mgoXB1YWOzAkWN3UjsOC1PjoXi7J6BQEnvbNcS7nYaG2ffWtgKfirPSey+mgODORjfvqD3q8uslTrUX7077JSY4hKTaKDfsObtu+r86zfaqtnIiIiMjhjDG8vraMn760jpLaFiYMTOGbn5vIOaNziYsOpSqBfaAiNCIiQU0hQRE5mCoJioiIiIgEBYfD4rxxecwek8u7myt4dPFOHnh7M39+ZwtzxuXxpRmDmDwozectUsvqPSEqfwYTI9XgzASinQ7W7q3j4kkDeh6vaW4HICOht6ErOdTQ7EScDosN++qZOyG/5/EutxvwBIqkbwrS44lzOVlXemgIq53U+Ojet0lXxQnAs88fmZfE6pLagx7vdHvmJ8qp8zR9NW5gCm9vKMcY0/NeWd3keU9LS3AFcmghx7IsJhaksnzXkbdPl7ZPkZBnWVYs8B4Qg+fa4TPGmB8GdlQiIqGrrqWD7zyzitfW7mNkbhKPfmUqJw3N9Pk5nMBRERoRkVCgkKCIHEIf4kREREREgonD4aksePqIbHZUNvHYkp08+eluXly5l9F5yVw3s4gLJ+YT6/LNXejeKlYKCfqey+lgYmEqS7ZVH/R4fUsnAMlxCrUcr5goJ6PzkvlkR81Bj3uPgHubZ5P9nA6LSYWpfLLj4O21tqWD1D5vq3oCAKYMSuPfH+6ktaNr/z69O0TpCNuLib4zZVAazyzdw/bKJoqzPO2aa5s9lQTTel3pUrxOKEzjj29vpqG1g6RYz2vcaPsUCSdtwBnGmEbLslzAIsuyXjXGLAn0wEREQs2W8ga+/K9P2VvbwnfnjOSGkwYTFe43punmLxGRkBDm70Yi0meqJCgiIiIiErSKMhP4/gWj+eh7Z/KLS8bR5TZ8+9lVnHTf2zz1yW7cbvtPypZ1hwRz1Y7VL2YUZ7B2bx113UEWUAjDLjOHZLB8Vw0t7V09j3lfM5rb43NiUTrrS+upb92/vbrdpvdVBIH9UU05sSid9i43a0rqeh7z7ta1jfbd5EGeNthLd+4PB/dUZlQyuM+mFKXhNrBi9/5qgto+RcKH8fD2vHd1/683aRGRPlpTUseVDy2hub2LJ2+ezi2nDgn/gOCB9LlQRCSoqZKgiBxClQRFRERERIJdfHQUX5hWyOenFrBkWzW/eWMj3352FY9/sov7r5pEYUa8besqq2/FYanVrb+cMjyT+xdsZuGmci6a6Gk53HOUpsO0fpk5NJOH3tvGJzuqOWV4FrA/4KK5PT5TB6fjNrB0Rw2nj8wGPPce9nk+9QQA+0NtH++oZkpROgDu7pCwZqjvhmQlkhrv4qPt1VwxpQA4IO2iCe2ziQWpOCz4aFs1Jw/z7kO1fYqEE8uynMBSYCjwZ2PMRwEekoiIb9TvhYdOhbZ6WxfrNjC0q4vFWLicDhyP2rr44NbVfeOYFUGBSBGREKSQoIgcTJUERURERERChmVZzBiSwTO3zGDeihJ+OH8t5z/wPj+/dBwXTsi3ZR2VjW2kJ8RE1p3vATSpII3spBheXb2vJyToZSmG0S8nFqXhclp8sKWyJyS4P4CpuT0eJxSmERPl4N1NFftDgpi+bavGoIiRR0ZiDCNyknhvUwW3njYU2H+aRpXa+s7hsDhlWBbvbCiny1vhsifUpvnsq6RYF5MHpbFwUzl3njsC0PYpEm6MMV3ARMuyUoHnLcsaa4xZ4/2+ZVk3ATcBFBYWBmiUIiI2qCuBpnIYfRGkFdmyyLYON88u30O7282lkwYSExeBMYz0YnC6Aj0KERE5hgh8dxKRY1MlQRERERGRUGNZFpdMGsiJRel8/fHlfP3x5ZTXt3LDycX9XnZ9SycpkXhyO0AcDotzx+Ty9NLdNLd3Eh8d1RPCkP6Jj45ienEGr6/dx3fnjMSyrANaOQd4cCEqLtrJycOyeGPtPn44d3T3nPb1vkNt4Ac6e3QOf1m4hZqmdtISovdXalNO+7icOSqbF1buZcXuWiYPSlNl1n46bUQ2v359I+X1rWQnx2r7FAlTxphay7IWArOBNQc8/jDwMMCUKVP0Bi4iIax7F3bCtTD0LFuW+J0nlvNSUylP3jyd5EHptixTRETEbjp8F5GDqZKgiIiIiEjIGpgWz5M3z2DO2Fx+9vJ6Hluys9/LrG/tIDlOd4L705yxubR2uFm4sQLwVGYDHabZ4fxxeeyoambtXk9bqZ6Aiyb3uJ07Joe9da2sKfHM6XElBjT/Pc4dk4vbwFvry4ADTtMEcEyh7LTh2UQ5LBZoPm1x+ghPxdB3NpYDmk+RcGJZVlZ3BUEsy4oDzgI2BHZUIiI+YuwtmPLamn3MW7GXr50xlMkKCIqISBBTSFBEjkKn90REREREQpHL6eD+z03i9BFZ/OiFtazrDkMdr/qWDpJjFRL0p6mD08lMjOHFlXsBhTDsdO6YXJwOi1dWlwIHtsoM4KBC3FmjcnA6LF5bu39O+xS6VKnMg4wdkEx+Siyvr+0OteGtdqmN9HikxLuYOjid19fuA+ipHqpg8PEZlZdEXkosb2/oDglq+xQJJ3nAO5ZlrQI+Ad40xrwU4DGJiPiIfccg1U3tfH/easbkJ3Pb6UNtW66IiIgvKCQoIgdTJUERERERkZAXHeXgd1dOJDXexV3PrMTtPv4T4PWtnaok6GdRTgcXjM9jwYZy6ls7dJhmo7SEaGYOyeCV1aUYY3D3hAQ1uccrLSGa6cXpvLp6H8YYjDHHEbrU/HtZlsU5Y3J5f3MFTW2d2kZtMGdsLlsrmthc1oC9NWMij2VZnD4ym0WbK2nr7NL2KRJGjDGrjDGTjDHjjTFjjTE/CfSYRER8zobPMPfMX0NdSwe/vXICLqeiFyIiEtz0TiUih9DpUhERERGRcJCWEM3/O38Ua/fW82Z3m8XjUd/SQUpclI0jk964aGI+7Z1uXluz74BHdZxmh/O6Ww6vL23oaTcs/TN7bB7bKpvYVNaIoa/X2vQcHGrO2FzaOt28s7H8gJbYAR5UCDt3TC6WBa+u2afQtQ3OGJFNU3sXH2+v1vYpIiIiocmmdsMvrdrLy6tK+cZZwxmZm9z/cYmIiPiYQoIicjCdLRURERERCRtzx+dTmB7PXxduPe5lNLR2kqR2w343sSCVQRnxvLBib087R7HHOaNzcFjw6prSntajqoLVP+eOyekOYXnm1OrLxTZPf2LfDS4ETSlKJzMxWqE2m2QnxzK5MM0zn92P9WkblYPMGppJTJSDtzeUa/sUERGRENX/Y+yKhjbumbeGCQNTuPmUYhvGJCIi4nsKCYrIIXTxSUREREQkXEQ5HVw7YxArdteytaKxz79vjKG9y01MlE4f+JtlWVw0IZ8Pt1ZSXt/W/ViABxUmMhJjmF7sbTnseazv7XHlQNlJsZw4KJ3XukNYfd9W9QQcyOmwOHNkDu9trKDLrSCrHU4ZnsX60nrqWjo8D2g6j1tctJMZQzJ4e0M5bm2fIiIiEsqO8zOMMYbvz1tNU3sXv7liAlFqMywiIiFC/YL6oqkStr4d6FGI+Nbe5Z4/dXJPRERERCQsXDA+n5+/sp6XV5Xy9TOH9el3O7sv/kcpQRUQF04cwANvb+HVNaWAMi12OnV4Fr98dQOVjZ4ApgIu/TdzaAb3L9hMUmxUH7dV3ax4JFOK0njy091sLvcEvLWF9s8JhWkArNhdCygY3F9njszmnvlr2VbZBGgfKiIiIiGmn+2GX1i5l9fXlnH3nJEMy0myb1wiIiI+ppBgX1RtgeduDPQoRHzPlQBRcYEehYiIiIiI2CA3JZbxA1JYtLmyzyFBbwUrp0N3xQfC0OxEspNiWL7LE2qxFMKwzYSCVGB/YEhT239j81MwBtaXNjAkO7H3v6h2w0c0qTvUtnxXDaAQVn+NL0jBsmD5Ts98an/aP1OK0gFYXVIHKMQqIiIioeb4b1Qqr2/lB/PXckJhKjecrDbDIiISWhQS7Iu8CXD7skCPQsT34tLAFRvoUYiIiIiIiE2mFWfwrw920NrRRazL2evf6+hyA+By6vJ/oIwbkMKCDeWAQhh2GjsgBYBV3oCLAkP9NmZAMgCNbZ3aVm0wODOBaKeDPTUtgHKU/ZUc66IgLZ5d1c2A9qf9VZyVgNNhscVb6VITKiIiIqHEW0mwjx9ijDHc/dxqWjs8bYadKk8tIiIhRiHBvnDFQcaQQI9CREREREREpE+mFqXz8HvbWLm7lmnFGb3+vf2VBHXiO1DG5Cf3hATFPokxUeSlxFJa16q2ozbJTY4lJc5FXUtHH6+1GRTZOpzTYTEoI35/u2GlsPptUMYBIUFNZ7/ERDkZlBHPtoomLEvbp4iIiISqvn2GeXZZCQs2lHPPBaMpzupD9XQREZEgoX5BIiIiIiIiImHOWzVtw76GPv1eR5cnJBjl1OmDQCnMSOj5uzIY9irqnluFW+xhWRYD0+I8f+/7L9s+nnBQlOnZRhVktUfRgftTBVP7bUDqcb7eRURERAKu7+2GS+ta+PGLa5lalM71M4vsH5KIiIgf6Cy/iIiIiIiISJjLSY4hOTaKTWV9Cwl6KwlGKaESMN4QBihHZbfC9HhAASw75XtDQ33ZWE3fL9BFCu/r36EXvy28IVbQ/tQOucmxgLZPERERCUF9bDdsjOE7z66ms8vw6yvG49BBpIiIhCiFBEVERERERETCnGVZjMhNYnNZY59+r6PLDajdcCAdFGpRvSZbZSRGA5pXO+WneEJDfZtRtRs+mszubbTTrSClHdITogM9hLCS2/16dyvoKyIiIiGrd8chT36ym/c2VXD3eSMZdEB1ahERkVCjkKCIiIiIiIhIBBiUkcCu6uY+/Y63kqDLqQBPoCjU4jveuW3vDsNK/6UnxADQpdCQLTISYwI9hLDiDQaDKgnaITvZGxIM8EBERERE+qz3lQT31DTzs5fXM6M4g6unDfLxuERERHxLIUERERERERGRCJCfEkt5Q2tPdcDe6HR7Kwnq9EGgxEc793+hUIutFMC0X3JcFACNrZ29/yVjlNg6igxto7byhlhBFUTtkBwbFeghiIiIiByfXt7U5GkzvApjDL+6XG2GRUQk9OlIvo9u+PenDMlK4O7zRgV6KEFv9Z46bvjPJzS1deGwPO2t+nLOt683nZs+/EJiTBTP3jqTvJS4z/7hCLOlvIFr//ExLR1dti43MTaKp2+e2dOKJBL9+Z0tPPjuVltbtWUnxTD/tpOIO/DCYQT5xhPLWbCh3NY5vX7mYO44a5htywslv3ptA48u3omzu1KQHbN69ugcfnX5BBuWFHqeX76HH7+4ztZlJkRH8fQtM8hPjbz3rwff3crf3ttm6zITYqJ44qbpETmfIhKZ8lPjcBsoq29lYFp8r36nvL4NAJdOhAeMdcCBtJ4Fe6XFK4Blt+RYFwANfQkJAtq6jyw5zhXoIYSVtPj986lcav8lROvSgoiIiIQq7zXlY38ofOyjXXywpYqfXzKWgvTenUcREREJZjqS76O31pfx1noUEuyFLRUNlNW3cerwLAZnJgDgNqZPp30tH5yxq2/t4LllJSzdWcMF4xUKONTWiib21rVy/vg82+5Yr2vpYP6KvazYXcPslDxblhmKlu+qoaG1k2tnDMLCcwjSny28pLaVt9aXsbm8gfEDU20aZWhZtKWKhtZOvjTDnhLv72ys4M31+yI2JPjpzhoa2jzzaUe3oI+3V/PmujIblhSa1pTU09jayRemFdpyybO2e1+6ak9tRIbalu6socsYLhhvz/tIXUsnL66M3PkUkciU172/K607ekjQGMPKPXW8srqUt9aXsa2iCYCsJLW8DAa+OEaOZAkxOi1mN2+oraG1I8AjCQ8KYdnrwBsstTftv0RVEhQREZFQd4xj7F1VzfzylfWcPCyTL0wt9OOgREREfEdH8uIz3sJ+P75wDEXdIcFg0NrRxcurSrtDgvmBHk7Q8T5vt542hDH5KbYss7Gtk/kr9rJxXyOzx9qyyJBkDIzJT+YnF9kzCZvLGnhrfRmbyhojNiToclpcMXkgP7ZpTq0X1vL0p7vpchtbqxOGkmmD022bz4ff28ovXtlAZWMbmYmRFywwBmJdTtte8/WtnpDglvJGW5YXaoyBvJQ4fnbxOFuWV9fcwYsr97KtssmW5YmIhILs7qBfZUPbYd/r7HLz/PIS/vruVrZVNOFyWswYksnV0wZx2ogsirMS/T1cOYLI/ITqO3GuyKzI7ksJ3SGs1s7etzVXu+Gji4/RNmqn+ANClwpd91+igtYiIiISqj6jO53bbbjrmZU4LYv7Lhuvz44iIhI2HIEegIQv7+erYPvcFOtyMmNIBgs3VgR6KEHK88Q5bHziEmOiGJOfzIdbK21bZigy2DuvQ7ISSY13sWRblW3LDDV2X0s6YVAaTe1drC6ps2+hSHhFkAAAIABJREFUocTm+Zw8KB3wVBSMRAZj63wmx7oYkZPER5E6n8ZgZ3Y3Jd5FcVYCn+6osW+hIiJBLrW7zWJN8/4KX11uw/PL93DW797lrmdWER/t5FeXjefT/3c2//nyVL580mAFBCVsxUXrtJjdoqM8c9rltqM2uaiSoL1io/a/5oPsdGVIUjVWERERCV3Hbjf878U7+Gh7NfdcMFpdaEREJKzobKj4nBWEp91OH5HN9somtqt60GHcPgp3njQsk2W7aiK65ZDb2BsYcjgsZg3JZNHmSsxn3PUUzuzcx8wakgHA+5siN0Rs53yOH5hCfLST9zdH5nwaY/+Fp+nF6Xy6o4a2zi6blxz8DPa/N00bnMEn26tp70ulGxGREJYWHw1AbUs74GkHet0jH/N/T64kLjqKv107hRe/dhJXnlhASnegUIJDVHdSPthuwgt1saokaLuYqOOZU4MiW0emapf2inIeEBLUJtdv0VG6tCAiIiIh7ggfCrdXNnHfaxs4fUQWV0wZGIBBiYiI+I6O5MVngjmydMbIbADeWLsvwCMJPj0VIG0+QX/O6Fw6ugyvrYncOfdFYOi0EVnsq29l5Z7IrHxnbN7TZCTGMKkwlZdXl9q63FBh93y6nA7OGpXDq2v2RWQIyxhjexuC00Zm09LRxfubIq8yq6eSoL3zeebIbBraOvkgwivdikjkiHU5iXU5qG3uoLKxjSseXMzirVX8/JKxvHz7SZw9OkctdIKUN4gRjDfhhTKFBO13XKEhXxwsh4kopybGV/R+138ubZ8iIiISqo5yKaTLbbjr6ZVEOx388lK1GRYRkfCjkKD4jLeyWTB+fipIj2diQSrzVuwN9FCCjulpN2zvck8oTGVQRjzPLy+xd8EhxFMFy/7wpctp8fKqyNyW7W43DHDxxAFs2NfAxn0N9i44BPhkPiflU9vcwXsRWJ3R02Lc3mXOGpJJSpwrIoOsbh9cOz55eCZJMVG8siry5lNEIldqXDQ1Te1877nVbK9s4pHrT+SL0wbhsPtNS2zl6q5+FYzH16HM5dRpMbupspi9nNo3SxBzOfR6FxERkVB15HbDj3ywnU931vCjC8eQmxLr/2GJiIj4mI7kJWJdPDGf9aX1bCqLvCDQsfiq3bBlWVw8cQCLt1VRWtdi78JDhLG53TBASryL00dk8+yyElo7Iq/9KNi/rZ4/Pg+nw2L+isgMtNo9nycPyyI9IZp5ETifbh9UEoyOcjB7TC5vriuLuNe8Ads30JgoJ2ePyeH1tZFZ7VJEIlNqvIsl26t4Y10Zt58xlJOHZQV6SNILMT2VBMVOCmDZL+a4QoJqN3w0CrJKMHMpFCwiIiKhyhx+MXRLeSO/en0jZ43K4ZJJAwI0MBEREd/Skbz4TDC3GwY4f3w+TofFvAiubHck3gqQvjhBf+kJAzAGnv50j+3LDgXGYHurTIDrZw2muqk9Irfl7nqlti4zMzGGk4Zm8vzyEjq6Iis05Iv9tsvp4Pxxeby1vozGtk4frCF4+apr2sWTBtDY1smLKyOrgqin3bD9y507Pp/61k7eWl9m/8JFRIJQXLST3dUtRDksrp4+KNDDkV5SUMg3ohQStJ0qCdpLQVYJZmo3LCIiIqHP83mms8vNt55eSXy0k19cOlZthkVEJGzpzJ34jo8q0tklKymGWUMzmb9iL253sEca/cebEfTFeehBGQmcMjyLx5bsjMiKTW5jfBIYml6czpj8ZP6+aPsBIc/I4Kt/7jXTB1Fa18pra/b5ZgVByhiD5aOAcGuHm+eWRVZA2G3sbzEOntf80OxEHluy0/ZlBzNfhS5PGZ7FgNQ4Hl0cWfMpIpErzuUEYGReEqnx0QEejfRWT1AoSI+vQ5UCWPY7rvajxgTvySMROSq1GxYREZHQdfDFpb+9v52Vu2v5yUVjyU5Sm2EREQlfOpIXnzHeGl9BfKL3shMGUFLbwoIN5YEeStDw9fP25VlFlDe0RWbVOx9d97AsixtOHsyW8kbe3VRh/wqCmv0tnAHOGJlNUUY8/1i03f6FBzGDb7bRiQWpTCxI5R+LttMVUaFs32yflmVxzfRBrNxTx9KdNfavIEgZjE+qsTodFl+cXsjibVVsLmuwffkiIsHGGxIclZsc4JFIX3jDbL64oSOSOYP4fEWoOr7MkNoNi4Qih4LWIiIiEqp62g3Dxn0N/P7NTcwZm8vc8XmBHZeIiIiPKSQoEe38cXkUpsfzwILNEVeB7Wh8WUkQ4NThWUwYmML9CzbT1tnlm5UEKYPxWfjy/HH5ZCfF8Pf3IyvUBr65lORwWFw/azArdtfyXsQFL+1nWRY3nVLMzqpmXlgZOQFhT4tx3yz7sskDyUyM5pevrI+Y9y+323cFZq6aUkCsy8Ff393qmxWIhDnLsmIty/rYsqyVlmWttSzrx4EekxydtxVoTrLujA8l3vdAZdrspYCL/VSdUUREREREQkWnG+58eiWJsVH89GK1GRYRkfCnkKD4zAE3YQStKKeD204fwuqSOhZuVBAIPO0xwXcVKizL4q5zR1JS28L/Ptrlk3UEK7ePWmWC52Lvl08azKItlSzeWuWjtQQfX2ajrjqxgKKMeH70wtqICbT6cj7PHZPL+IEp/OKVDdS3dvhuRUHE7aP2zQCJMVF865wRfLqzhpdWlfpkHcHG4Lv5zEiM4doZRcxbXsLWikafrEMkzLUBZxhjJgATgdmWZU0P8JjkKFo7PJ9rMhPVajiUeCveBfPxtQhwfJWf1W5YRERERET8ynMx5Nmle1hdUsfPLx5LZmJMgMckIiLiewoJis94sybBfp73kkkDGZgWx89fWd9zwSySeStS+fJ5mzU0g1lDM/jdm5vYV9fquxUFGx9f97huZhH5KbH89KV1dHS5fbeiIOKr9rgAsS4nP75oLNsqm/jbe9t8s5Ig45lP30yo02Hxs4vHUtnYxu/f3OSTdQQbX1/rvHJKAaPykrn31Q0R8f7l6/m8+ZRiYl1OfvFy5FRnFLGL8fAmbF3d/+uFFKTauz8npsS7AjwS6QtVZ5NQcVwhQREREREREX/qPv/7+Ce7mTshnznj1GZYREQiQ1SgByASaNFRDn5xyTiu/efH/P7NTdx93qhADymg/BHutCyLn188jtn3v8f3nl/NP740JSJKeBsMDst32exYl5MfzB3NLY8t43dvbuI7s0f6bF3BxFeVxcDTHnvO2Fz+9M4WLpo4gIL0eJ+tKxKMH5jKF6cV8u8Pd3D55IGMyU8J9JB8yuDbi6ROh8UP547mcw8v4eH3tvH1M4f5bF3BwBhw+PD2lozEGL559nB+9vJ6Xl2zj/N0YkikTyzLcgJLgaHAn40xHwV4SHIULqdnZ+r05U5VbOc9XoqE46agt/19eOF2cIf/TRrHw4VhUUyL54vff7d3v9RUDtmjfTcoEREREREJKGMMLR1dNLV10dzeSVNbFy0dXRhjcBvP9w2ec8AGQ/d/PV+bnq/N/rtSD/zeId/3ZAAP/L2Dl5O7t4qpQEJsND+5cIz/J0RERCRAFBIUn9nfbjj4L2KcMjyLz08t5OH3t3HOmBwmD0oP9JACZn8lQd8+b0WZCdx17kh++tI6HnpvG7ecOsSn6wsGbj90UJo9No/PnVjAg+9uZdaQTE4alunbFQaYMcbnc3rPBaN5d1MF35+3hkeuOxFHOFdxMcbne+y7zhnJq6v38f+eX8Mzt8wgyhm+AQW3H6rRTS/OYM7YXP66cCtzxuYyLCfJ5+sMFE+7Yd9uL9fNLGLeihJ+9MJapg1OJ0MtJkR6zRjTBUy0LCsVeN6yrLHGmDXe71uWdRNwE0BhYWGARimwP8DuVNgspHg/guppCwJ7l0PNdhh3BThUkfNwhiXLSgC4vGhg739t+Dk+Go+IiIiIiPiCMYaKxjZ2V7ewp6aZPTUtVDS0UdXUTnVTG1WN7VQ3tdPU1klzRxfB1LzlbMc2pkbD7WcMJS0hOtDDERER8RuFBMVnvPdyhMpFjP93/ije21TBnU+vYt6tsyK2/db+cKfvXT+ziOW7arj31Q3kpcRy0cQBflhr4Bhj/BKa/eHcMXy6s4ZvPLmCebfNZGBa+Fa/88cxZX5qHHfPGck989fyh7c28c1zRvhhrYHhy/bNXinxLn544Ri+/vhyfv7Ken44N4zv0vNDMBg8QdZPd37AdY98wnO3ziQnOdb3Kw0At48rCQJEOR3cd9l4Lv3Lh9z2v2U89pVpYR1kFfEFY0ytZVkLgdnAmgMefxh4GGDKlClBdFo48njfmrR7Cy3edsMhcngd5rp3YXPvh+iEwA4lCFnAnR+9DMDll5wf2MGIiIiIiIhtdlU1s2RbFatL6lhXWs+G0nqa2g+usJ4UG0VGQjTpCdEMTItn/MAUkmJdJEQ7iY+J8vwZHUVCjJNYlxOHZeGwLCyr+3jX8hSf8X5tWQf+vfsHuv/e8/2er62e8/EHft3z2AHLTdzeDK95bsIXERGJJAoJinRLjInit1dO4Np/fMwN//mEf395KvHRkfcS8V6x9WWLTC+Hw+K3V06goqGNO59eSWZiDLOGhm/lO38EsADiop386QuTuOLBxVz54GL+e+N0BmeG78Urf1wovXr6IFbtqeOBt7eQlRTDNTOK/LDW8HXhhHyW76rhkQ92kJscy81hWknU1+2GvfJT43jkuhO58qHFXP/IJzx1ywwSY8Lv/ctfQesx+Sn88tJxfPOplXz3udXcd9n4nmCGiByZZVlZQEd3QDAOOAu4L8DDks/gj/cosY/D2n8hRERERERERMTX3G7DxzuqeXHlXt7dVMGemhbAcz11dF4yl08eSHFWIoXp8RSkxzEwLZ5YlzPAo+6lau+N9jrIFhGRyBJ+V5AlaPizIp1dphdn8NsrJ3DHE8u56qEl/OkLkxiUEb7hqiNxG/9WgIyJcvLwtVO44sEP+fK/PuFXl48P24qCnnbD/pnYkbnJPH7jdK7958dc8eBi/nvDNEbkhl8bUuOnObUsi19cOo6a5nbumb+W+tZObj1tiN+eT38xxn/77O+fP5ryhjZ++eoGGts6+b+zhoddK2e3H9phe40dkMJfvngCX/n3p9zy6FIevnZy2AXd/RW0Brj0hIHsqm7mD29tpq3Tze+unIBLJbdEjiUP+LdlWU7AATxljHkpwGOSowizjy8RwxtYD6b2TBGr50nQi0lERERERMJPXUsHj3+8i/98uIO9da3EuZycPCyTG08uZuaQDIZkJYbPuXydJBERkQijq53iMz3XLkLs89XcCfk8dM0UdlY1cf4Di/j9m5vYV9ca6GH5TSDCnSlxLh6/cToTClK544kV/OTFdbR2dH32L4YaY/w6r2MHpPDkTdNxWHDFgx/y6upSP67dP4wfr5K6nA7+9IUTuHBCPr9+fSNff2IFdS0dflu/PxiM34KPTofFH66ayFVTCvjj21u45bGl1DS1+2Xd/uLP0CXAaSOy+dVl4/lwayWX/uVDtlU0+nHtvufPoDXAN84azt1zRvLiyr3c8O9PqWps89u6RUKNMWaVMWaSMWa8MWasMeYngR6TSLjxXn9xKyQYBLwHzSF2skNEREREROQYWju6+MvCLcy6923ufXUDg7MSeODzk1h6z1k8fO0UvjSziGE5SeERENQdeCIiEqEUEhQ5grNH5/DqN05henEG9y/YzIx7F3D5Xz/k7+9vY2dVU6CH51M9NRH8fMEjIzGGx74yjS/NGMQ/P9jOnPvf5/W1+/waAvM1T+tR/65zWE4Sz351JoMyEvjqf5dxy6NL2V3d7N9BhJFYl5M/XDWRu84dwcur9nLO79/l5VWlYbWd+pPL6eDey8ZxzwWjeXtDOWf//l3mrygJm/n0V7vhA102eSCPXD+VsvpWznvgfR56dyvtnW6/jsFn/By0Brj51CH88tJxLN5axbl/eJ8XV+4Nm+1TRCJZd0W6AI9C+sZ7fNallKCIiIiIiIjYbOnOas79w3v86rWNzBiSwUu3n8R/b5jOhRPyw65jjYcqxIuISGRSSFB8x9u2NkQ/YA1IjePvX5rCwjtP4xtnDqepvYufvbyeU3+9kDN+u5D7XtvAqj21YRcWMH5uN3yg6CgHP75oLI99ZRpOh8XNjy5l7p8WMX9FCW2doV9Z0NN61P8TW5Aez3O3zuSuc0ewcFM5Z/x2Id9+ZiUb9tX7fSx282f7US+Hw+K204cy77ZZpCfEcNv/lnHBHxfxwsq9IR/G8nflO/Bc8P7KSYN58faTyE+N444nVnDxnz/g5VWlIT+f7kBMKHDq8CxeueNkThqaxS9f3cCZv1vIIx9sp7whtKviBiJoDfD5qYXM/9osclNiuP3x5Vzylw95Y+0+hTREJGSp+FlocnY/ce4wO/4MSWo3LCIiIiIiYcIYw0PvbuXKh5bQ5TY8+pWp/O3aKYwdkBLoofmWUYV4ERGJTAGN/luWNRu4H3ACfzfG3BvI8Yi99lekC+gw+q0oM4E7zhrGHWcNY3d1M2+tL+PtDeU8/N42/rpwK5mJMZw0NIMTB6cztSidIVmJIV1qOxDthg910rBMXrvjZJ5ZuoeH39/GHU+sIDk2inPG5HLWqBxmDs0gOdYVwBEenwDlhQBPxbbbTh/KpScM4MGFW3nik9089ekexg9MYe74fE4ensnw7BAsE28CF0QePzCVF782i+eWl/Dgwq18/fHlpMS5OGd0DueNz2PmkAxiopwBGdvxMiZw++xReck8f+ssnlu2hz++vYXb/reMzMQYzh2Tw7ljcplWnB5y80kAX/N5Kd1B943l/P6tzfz4xXX89KV1TBucwQUT8pgzNo/0hOgAje74BCpoDZ7tc/5tJ/HM0t08sGALNz26lIL0OM4elcuMIRlMHZxOSlzovS+JSGRT1iy0OB2qJCgiIiIiIiL26XIbfvziWv6zeCfnjcvl3svGh+S1NxEREem9gIUELctyAn8Gzgb2AJ9YlvWCMWZdoMYk9grHi04F6fFcP2sw188aTG1zOwvWl/PupgoWbali3oq9ACTFRjEmP5kROUkMy0miMD2egvR4cpJjQqIkt7eSoL9bZB4qyungc1MLuXJKAe9vqWT+8hLeWLuPZ5buwemwGJadyPCcJIbnJDIsJ4nh3XPtDOKQmyeAFdjx5aXE8eOLxvKNs4bz7LI9zFtRws9fWQ+vQHpCNCcUpjFhYArDc5MYkpVAYXoC0VHBW3Q20LuZKKeDK6cUcPkJA3l3cwUvrNjLa2v28fTSPUQ7HYzOT2ZiQSqTClMZnpPEoIz4oN4PBHo+nQ6LK6YUcOkJA1m4sZxnlu7huWUl/PejXURHOZhUkMqJRemMyktmeE4ihRnxQR0cNJiA70tPG5HNaSOy2VTWwEsr9/LSqlL+3/Nr+MH8tZ5tsyCVMQOSGZmbzODMBGJdQTyfJjCVBL2cDourTizkshMG8vraMp74ZBf//Wgn//xgOw4LxuSnMGNIBjOKMxiVl0xOckzA9/kiIkeyf88U6Hd+6QvvW4oqCQYDVZwQEREREZHQZozhRy+s5dElO7nplGK+O3tk6BWR6BdViBcRkcgUyKTCVGCLMWYbgGVZTwAXASERErzywcVML05nQkEqEwtSyUiMCfSQgla4frxKjY/msskDuWzyQIwx7Kxq5uMd1azcXcvavfU8s3QPTe0Ht8iNdTlIj48mPTGa9IQY0uNdnj8TvH9GkxLnIjkuihE5SUQ5/R/OcgfZ9Q6Hw+LU4VmcOjyLji43n+6o4cOtlawuqWPpzhpeWLm352djohwMzkwgMzGG1HgX6QnRpMVHe/5MiCYt3kVGQgyj8pICEtzwVMHy+2qPKC0hmhtOLuaGk4vZU9PM4q1VLNlWzbJdNby1vqzn5xwW5KfGkZscS25KLJmJMWQmRpMa79lW0+KjyUmOYWh2YsDCMMEwpw6Hxekjsjl9RDZtnV18sKWSJduqWbGrlic+2cW/PtzR87PZSTEUpMeTmxJLVmKMZxtNjCY1zkVKnGe7HZWXHMDAa+An1OmwOHNUDmeOyqG1wzOfH26t4uPt1fxl4ZaD9lM5SbEMSIsjOymG7KQYMhNjSIl3kRzrIjEmityUWEbkJuEKxP7UHRzbJ8DwnCS+ec4I/u/s4awrreflVaV8tL2a/yzZeVBb55zkGArS4snp3j6zkjzbaFq8i7SEaDIToxmSFZjXu+d5D/yERjkdnD8+j/PH59Ha0cWK3bUs3lrF4m1VPPLBdh5+bxsA8dFOCtPjyeved2Z07z8zEqPJSIghIzE6YO/1IhLZvLtwZc1CkwLoQUDthkVEREREJMT9ZeFWHl2yk5tPKebu80YFejj+p3bDIiISoQIZEhwA7D7g6z3AtACNpVe2lDf2/L25o5M/vbM/qDB7TG6vAx2ZidH8YO6YoK54diRbKxq5/63NvW5vtL2yCYiMixiWZVGUmUBRZgJXTikAwO02lDW0squqmd01LVQ0tFHT3E5VYzvVTW1UN3ewvbKR6sb2w8KEXuePy+v1GOZOyGP22MN/fkt5Aw8s2NLr522b93kLwgseLqfDU6VpSEbPY41tnWwua2BzeSObyxrYXtlMdVMbe2tbqG5up7a547DlZCbGMG1weq/WaVlw48nFTChIPex7//toFx9sqez1+EtqWihMj+/1z/vLwLR4rpgSzxXd225DawfbKprYVtnItoomdlc3s6++lTUldVQ1tdPQ2nnYMhJjojh1eFav1mdZcMPJxUw8ZE6NMdz1zCpqmtp7Xc2spaMr6LbUmCgnZ4zM4YyROQB0drnZWNbAtoomdlY1sb2ymZLaZtbtraeysa3f8wlw2eQBPes70BMf7+L9zb3fRvfUNDMwLa7XP+8PsS5nT2AQoLWjiy3ljWwqa2BXdTN7alrYU9PM5vJGPthSSf0R5jM6ysHZow6fn6OZMy6XC8bnH/b4Y0t28tb6MhJ6WQ1y+e4aUuOCq6WvZVmMyU9hTH4KAO2dbnZWNbGutJ4dlc3srmlmT41n+6xoaKOx7fD5dFgw5wjvN0dz9fRBB+23vR7/eBeLwmD7nF6cwfTiDP4PaGnvYvnuGjaXNbKjyrP/LK1rZV1pPdVN7XR0Hf5e3Jv3+kmFqdxwcrEP/gUiEski4DAtLBmlO0VERERERKQflu+q4bdvbOTCCfl8Z/bIQA8nQHRsLSIikSmQIcEjXZI47B3ZsqybgJsACgsLfT2mY2rt6GJodiK3nzGUiyYOoLGtk/krSnh08U62VDR+9gKA+pYOyhvauOH/s3fn4ZJdZb34v6vndHrI1BlI0nTmEAIRaMIQJhEhID+5V9ALckGBa0RxQEEGJ8ThonJV9FHR/JBJ+cGFhCHEIILygKgMCZB5JAHSGboTknS603Of9fvjVMdO51TXqdN1alft8/k8Tz99ajr99ltr76q197vX+/QTc/wIFgvtzxeu25CLLr89Jx5x8LSXnH76KUdkxZLRba05m+bNKzlm5UE5ZuVBPatft+3c/WAB4f1bd+Yvv3BTNmzanuvXb5rWv3XrPVty/7adUxYJfv7azvu26uBpt7185qmrsmxM3rdlixfkcasPzeNWHzrl47t2T2Tj1p25d8uO3LVpR/74s9fl/q07p53bmzZsziMOOWjKIsH3fPnmbLh/e45euWRav+uolUvyjD4Kv5qyfMnCnHX8IVP+n5PJ8Xr/1p3ZuHVn7t68I2//9NXZ2SmEm45v37U5R69Y8rAiwW07J3LBZeuSJCcfuWxav+ukVQfn7GkWfDZlwfx5DynK2teOXRO5b8uO3Ld1Z+7bsjN/88Vv53v3bJl2Pr/3/S3ZuXtiyiLB93z5lty5cdv0x+iK0R+jSxbOz5nHrsyZx06dz+27duf+rbuyadvO3L9tV/72i9/OjRs2Tzuf6+7dkrs3b5+ySPD3Lr4m23dNTHt8Ll+yMD/0qCOn9dymLFowL6cctTynHLV8ysf3fD7d+8DO3LdlR/7gkmuzbefuaefzlrsfyMGL509ZJPief7s56/vZh47B+Dxo0fw89aQj8tSTjnjYY7XW3L9tV76/eXvueWBH/vxfbswdG7dNK5fTzRHAdKgxG09z4eK78WHFCQAAYDxt27k7b/zY5Tl6xZL8wX8/c461GJ7KXP//AzDXNFkFtC7J8XvdPi7J7fs+qdZ6fpLzk2Tt2rWNns4489iV+fyvPvPB28sWL8jLn/TIvPxJj5z277jgsnV548cuH8sTMxOdoC/6xadl2eLxKCAbF0sWzn+woDBJnnryw4sL9ufH/vrfez7nH3/x6Tlo0fRWZ2uTBfPn5fBOm8eTj0w+8fPn9PX6R/3WP+338Wedtip/+ZOPP5AQx86ShfOzZOH8HLliSU45Kvmn1z+jr9c/+rf3n9O3PP/0vPaZJx1IiGNl0YJ5OXLFkhy5YrIIqN+ix3Pf9aX9Pv7M01blr+bQGF28YH5WLZ+fVcsXJ0ne/T+f0Nfr/8ff/mfXx848dmUOWjg///C/Rnrh44Ha9/PpH3/p6X29/qnv+Jf9Pj6XxmcpJSs7bcVPXJX8/WvmzjgCgFYZw+M5AAC9lFKOT/LBJEcnmUhyfq31z5uNChi0P/nn6/Ptux7IP7zmSVm+ZGHT4TRHu2EA5qh5Df7bX09ySinlhFLKoiQvTXJRg/EMxZ6vGnUMjyo/+H2p2TAAgDEyjhdGALTZogWThwHmz2vycAD9Wtx536a7OjzD4L0AAFplV5I31FofleTJSV5XSjmj4ZiAAbr0O/fkPV++JS9/0uo87ZT+FisBANqhseXgaq27Sim/kOSzSeYneW+t9eqm4hmWPedhxvGE+UQnZiclxss4jrWxIbeMuGoHMCOyNhzyDNCMt//oo3PsIQflB08b7RbuPNQ7fuwxOWnVspzT56rz9PY3//MJD3ZOmB4rTvTyhz/2mKw+fGnTYbTGe165NrsmJpoOozUueO1Tcv36TU2H0RqT49OU9wJXAAAgAElEQVTsDtqg1npHkjs6P28qpVyb5Ngk1zQaGDAQW3bsyhs/dnmOPeSg/PoLHtV0OCPEvA6AuaXRnrG11kuSXNJkDMNWOl82+jsAPRr2rH7oOPjoKdN4U7xvs2M6uYcmGaH9KUVx9SD12kcanwDDd/iyxXmrEwJj54hli/OW55/edBitdO6ZRzcdQuu89OzVTYfQKs8546imQ2iVtWsOy9o1hzUdRmsYn9BOpZQ1SR6X5KvNRgLk87+TXP9PB/xrNm/alr/dsjPHH7o0S98z/8DjGnfbNk7+7RwfAHNMo0WCc9Ge7xrjWH9QXSw/0roVtYxja+txIbODZawOnowOlpUZZ6Zr1qQTABhHD34ndHAEAGifUsqyJBcmeX2t9f59HjsvyXlJsnq1iwJgKK67JNm+KTlu7Yx/xfcf2JFL77wnaw5fmqXHrBhgcGNu6eHJoWuajgIAhkqR4JDtWVFnHOsM9hRHFAfCmWMUBg3e/jJqD9M/I3TA9pNQhfIAAHOdKygBgHYqpSzMZIHgh2qtH9/38Vrr+UnOT5K1a9c6JAlDUZPVT0p+/P0zevUD23flRe/6UhasKLnk55+eLFIaAABzmW8CQ7bnEPI4Fh1ZSXB0eUtmT6/xLvf906J5sHq2c5XvvkwWwo/fZ/S4Mj4BAAAAmlcmD9L8XZJra61/2nQ8QMcBnk9+x2euzW33bc3HfvYpWapAEADmvHlNBzDXjHW74c7f85zQH0ndWrWOYT3q2BjHYl/mGEOUEdBtV2l4AgBjyRWUAEA7nZPkFUmeXUr5VufPC5oOCkhmulzFl2+8O//wle/lfz3thKxdc9iAYwIAxpFLBoZsT4HdxBgWF0082G4YANqrW9E1AAAAALRRrfXLcfoHRlCd0QVKm7btzJsuuDwnrTo4b3juabMQFwAwjhQJDtl/tRtuNIwZcbH86JrOe+J9mx3yyqgzRPtjmx4sLdsBgPYZwwM6AADAeKo1MzmK+vsXX5s779+WC3/uqVmycP7g4wIAxpJ2w0NWOmfLx7NIsLOSoAqKkTSOY2pcaJU5eFPl1BieOWN0sORzsLqtzKhlOwAwlmZ4kg4AAKB//R9D/cL1G/J/L701P/vMk/K41YfOQkwAwLhSJDhke+rrxrHdcI0VloDZZz8DAAAAAACQvk6abNyyM2+58IqcetSyvP45p8xiUADAONJueMjGufal1mSe6p2RVKYxsqbzHB6uV9ZktX9yNlg9x6iE90W+Bqtnu2H5BgDGTvUlBgAAGI4+VzJ/+8VX5+7NO/KeVz4xixdoMwwAPJSVBIds3hi3G56oVXHPCOvaHnMcB9uYkFpGne1/ZmRtwLRvBgDaxHdsAABgaKY///jcNevz8W/cltc966Q85riVsxgTADCuFAkO2bi3G7aSIAAAADC3OTYCAAAMyTTOzd77wI689eNX5lHHrMgvPFubYQBgatoND9me73HjVyLYKWx0HHw0TeN9Ud85O4rEMuKM0P5ozT5YvfIp2wDA+NFuGAAAGJJpthv+7YuuzsatO/LBV5+dRQusEQQATM23hCErD7YbHsMyQTWCI612KT0dx6E2arqlsFvO6W2q3Mnmgeiy/Q85irbo9hldq8Lgmei6DzVAAQAAAAD2o/dFSpdceUc+ffnt+aVnn5IzHrFiSHEBAONIkeCQ7fkaNzGGJ8a1GwaGwUpuAADAyJrmSh4AAAAHrMf55Ls3b89vfvKqPObYlXnts04aTkwAwNhSJDhk/7UC0fhVCU5MVB11RtR03hZv3cz0WjVMXmdA0gaq137Zynf9ka7BMj4BgPbRbhgAABimqecftdb81ievyuZtu/InP3FWFs532h8A2D/fFoZsXud73Di22HOt/GjrNqbGcKiNjXHcjplbjNGZkbbB6tq+WaYBAAAAAPaj+0VKF11+ez5z1Z35lR8+NacetXzIcQEA40iR4JDtaaM5lu2Gq3bDAAAAwBym3TAAADAsXS7A3nD/tvz2p67ODxx/SH7m6ScMOSgAYFwpEhyy8uBKguNXJThRq+PgI2o6tZtaOs4SaWXEGaI0qdf4Mz4BAAAAAPbnoUdRa6359U9cmW07d+dPfuKsLNBmGACYJt8ahuzBIsFmw5gxKwmOrm5jagzrUUdO11bOcjtjU+VuHIunR0X3duNyOhP7a9/uU7B/Pp8AgHbp3u4LAABgsB6+gMvHv3FbPn/thvza807LSauWNRMWADCWFjQdwFyzp93w565Zn5vvemCsjitff+emsYoXGE/2MwAAwMjSbhgAABiWfeYfd27clt/59NV54ppD86pztBkGAPqjSHDIVi1flHkl+bsv39J0KDNy6lGuSBlFk8Wn+1+SySmMmendKlNm+yVjg9WzqFLC+6I1+2CVUva/YqB0AwAAAAB08V8HV2utefOFV2TX7pp3vuSszJ/n4CoA0B9FgkN28pHL883fem6279qdiTFss3fI0oVNh0A32o0C+9DOdWakbTiMTwBgPGk3DAAADFFn/vHRS2/NF2+4K2//0UdnzREHNxwUADCOFAk2YOXShUkU2wEAAACMFVc6AAAAw9JpN7zu3i35vYuvzZNPPCyvePIjm44KABhT85oOADhw01nEwEIHs0NeGXVaYvdHtgarZP8rMxqfAMB48h0GAAAYhpqakjdfeEVqnWwzPE+bYQBghhQJQkt0aytskYMD1z23kjtIsjlz3XJniM5Qt8TVqjAYAABXiwEAAENz44bN+febvp9f/5FH5fjDljYdDgAwxhQJAgAAAAAAAMAI2T0xkW/eel+efsoR+cmzVzcdDgAw5hY0HQBw4KbXbthKBzPSI22y2j9jcbB6tWuV7v7I14CV/a+6Kt8AwNipNWaCAAAwniYmajZt25V7t+zIvVt25L4tO3Pf1h3ZvH13tmzflS07dmfrzt3ZsmNXtmzfnS07dmfH7olp/e5aJ/tS1ZrO37Xzc+fvmkx0npO97p/Y53WpNROdxz+wZUeSkj968WOdWwEADpgiQWiJrt0xhxvGnCK30E627eHQsh0AGE/VlQ4AADCiaq25Y+O23LB+U26+64Hcft/W3L5xa267b1vuuG9r7t68PRM9DksuWTgvSxctyNJF87N00fwsWjCv58X6e5QyeUlRKeUhP88rnQv+99w3L5lX5nWe03luKZ3n/9frFt5b8vQTV+URhxx0YIkBAIgiQQAAAAAAAADGzIb7t+XS796by757b775vXtzw/rN2bx914OPH7Rwfo45ZEmOPeSgnH7akVm1fHEOWbowhy5dlEMPXphDli7KoUsXZdniyaLAgxbOz7x5I3RR0B8vyAoFggDAgCgShBaY7hVMDJ4FJBh1hmh/euVLPvtTsv+VGeUTABg72g0DAEBjduyayNe/c0++cN2G/Ov1G3LzXQ8kSRYvmJfHHrcyP/b4Y3PKUctz6pHLcvKRy3LYwYvGvE2vlcwBgMFRJAgt0bUIQzvHA9a1lbPUzthUbUblc+a6tW3VznVmtG8fDvkEAAAAAHqZmKj5yi3fzye/eVs+c+Wd2bR9VxbNn5cnnXhYfvLs1XnCIw/Nox+xMosWzGs61MFzkRIAMECKBAEYKeN9VR8AANBu1Tk6AAAYgm07d+djl63Le/7t5nz3+1ty8KL5OffMY3LumUfnnJMPz9JFc+E0t0utAYDBmQvfnqD1etVUqbmaud6tRyW3X8bjYNn+B0uR6mCVUvZ7HEu6AYCxYyUPAACYVbXWXHzFHfnfl1ybOzZuy1nHH5Jf/eFT89wzjs5Bi+Y3Hd7wOYgKAAyIIkFoia7tRoccx1xSZZcRZ4TOjG17OHTDBgAAAAD2dt+WHXnjx67I569dn0c/YkX+5MfPylNOOnzuXtztIiUAYIAUCQIAAADAtFQreQAAwCy4Yf2mvOp9X8+GTdvyWy88Iz/91DWZP2+uf/d2pTUAMDiKBGEOmOtTqNnk3BCjTkvs/vRsMW6j70vJ/ldmND4BAAAAgCvW3ZdXvvdrWTR/Xi547VNz1vGHNB3S6HBMGgAYkHlNBwAMRrcSDO0cZ4/cztyUqZPPGbP9D1a3vMnnYGnrDO1RSjm+lPKFUsq1pZSrSym/3HRMALNGuy8AABio731/S171vq9n2eIF+dhrn6JAcG81Mf8AAAbFSoIAjBTTXQAYO7uSvKHW+o1SyvIkl5VSPldrvabpwAAGT7thAAAYlC07duXVH/h6dk3UfPDVZ+eRhx/cdEgjxvwDABgcKwlCC/Rqf6k95sz1zu2QAmkRKRus3u1xhxJGa8jXYJWy/xUY5RvaodZ6R631G52fNyW5NsmxzUYFAAAAjLo/+sx1uWnD5vz1yx+fE1ctazqc0aO9DQAwQFYShJbo2h5TO8dZI7OMOtv/zDjuMhzyDO1USlmT5HFJvtpsJDDHTUwkF78+2biu6Uja567r49InAAA4cP/x7bvzgf/8bl51zpqcc/IRTYczwsw/AIDBUCQIADBNDsf0TzEgzB2llGVJLkzy+lrr/fs8dl6S85Jk9erVDUQHc8y2+5JvfCBZuTpZdmTT0bTL8qOT1U9uOgoAABhrm7fvypsuuCJrDl+aNz3v9KbDGWHaDQMAg6NIEFqgZ7vRoUQxV8kuo83xg35J2CCVHvk0PqE9SikLM1kg+KFa68f3fbzWen6S85Nk7dq1yodhtu2p0n/qLyRP+tlmYwEAANjHOy65NrfdtzUf+9mn5KBF85sOZ3S5AhsAGKB5TQcADEa3aYL5w4GrXZIotzM3Ve60xp25ru3GpXRGuu5PjdGBkk1oj1JKSfJ3Sa6ttf5p0/EAAAAAo+vLN96dD331e3nNOSdk7ZrDmg4HAGDOUCQIwEixshi0i+JKmBPOSfKKJM8upXyr8+cFTQcFc9uez19frgEAgNGxadvOvPnCK3LiEQfnjc87relwxoB2wwDA4Gg3DC3Qa35g/jBzcjt4RdIGq2c+5bsfhudg9c6nhEMb1Fq/HBs0AADA2CqlvDfJC5NsqLWe2XQ8tNf/vuTa3LFxay74uadmyUJthnuqNQ65AACDYiVBaItuLXGHHMbcIruMNiN0Zrq1GGewpBkAZtGeD1pXQAAAMD3vT3Ju00HQbl+84a58+Gu35meecWIev/rQpsMZEw6iAgCDo0gQWsBpH4DhcJ69f4oBAaAJPoABAJi+WuuXktzTdBy01/3bduYtF16Rk49cll95zqlNhzNeHJQGAAZEu2GYA4oywlkjs4w6xw/6I13DZXwCAAAAMCOfe1ty1/VNR8E0rbtjY35vy7Y88ajDsuRj7246nPGxa3sctQYABkWRILREt3UirOB04OR28OoUWZXPmTNGh0M+B01CAWDWaDcMAMCAlVLOS3JekqxevbrhaJJsuTu5/7amo2AaNm3flYmNW/KY5YuzcseuZEfTEY2RY85KTnhG01EAAC2hSBBaoPQ68eO80Iz1Sp1zbv3rmdOhRNEe8jlYtunBKqXstxRQugFgtvm0BQBgMGqt5yc5P0nWrl3b/NWfL/qrpiNgGjZu2ZnnvuuLWXnownz6F5+WLJjfdEgAAHOWIkEAAACAVmn+nC0AAMDvXnxN7t68I+955ROzWIEgAECj5jUdADAY3dpgTtXWlcGQWUafUToT2goPhzwDwCzSbhgAgD6UUj6c5D+TnFZKWVdKeU3TMTH+Pn/N+lz4jXX5+WedlMcct7LpcAAA5jwrCUILaDfanCK7jDjnhfvTe5uW0H6U7L8Y0PgEAAAAaF6t9WVNx0C73LdlR976iStz+tHL84vPPqXpcAAAiCJBAAAAgJbZU6WvIh8AABi+t3/6mtz7wI6876efmEULNLYDABgFvpVBS3RtK6yd4wHr2spZr8wZmyp1sjlz3caiIToz3fan8jlY0gkAQ2DZXgAAYMg+e/Wd+cQ3b8vrfvDknHmsNsMAAKNCkSC0QK/zPs4LzVzpkTy57V/v8Sqp/eiZT6vH9MXwG6zJfHYvBzQ+AWCWuLoBAABowD0P7MhvfOLKnHHMirzuB09uOhwAAPai3TAAAABAq2g3DAAADN/bLro6G7fuzAdf/SRthgEARoxvZ9ASXVviDjeMOUVuGXXG6Mzsb+EdKw0OjpbtAAAAANAen7nyjnz68tvzS88+JWc8YkXT4QAAsA9FgtAKPVriWj1i1sgso05RW3/ka7BKUXQJAI3Y8wHswxYAABiC72/ent/85FU589gVee2zTmo6HAAAptBIkWAp5Z2llOtKKVeUUj5RSjmkiTigTSzIxLizqhijzggFAMaPIkEAAGD2/fanrs7923bmT378B7JwvjVqAABGUVPf0j6X5Mxa62OT3JDkrQ3FAa2n8OrA1S6lQVI7c1I3HLb/mZG14ZBnAJhNPmkBAIDhuPiK2/OPV96R1z/n1Jx29PKmwwEAoItGigRrrf9ca93VufmVJMc1EQe0Ra8OUjpMzVyv1BXJnYEe7bGltC89x+hQomgP7dkHq6Tst0RBtgFglmg3DAAADMFdm7bntz55Vc46bmV+9hknNh0OAAD7MQrrPb86yWe6PVhKOa+Ucmkp5dK77rpriGHBeOlWhGEhsdljlTZGnRHKKLMLBYBhUCQIAADMjlprfvOTV+aB7bvzf378rCzQZhgAYKTN2re1UsrnSylXTfHnRXs95zeS7EryoW6/p9Z6fq11ba117apVq2YrXACAJPsvAHaavX8KqgGgCT5/AQCA2XXR5bfns1evz68+99SccpQ2wwAAo27BbP3iWutz9vd4KeWnkrwwyQ9VZ4/hgGg3CnSjJXafpGugeg0/4xMAZpnPWgAAYBZs2LQtb7vo6jxu9SH5madrMwwAMA5mrUhwf0op5yZ5c5Jn1lq3NBEDtE23WlsVuLNHbgdLPgdPCf5guaZhsOQTAGaRz1kAAGCW1FrzG5+4Klt3TLYZnj/PxUkAAONg1toN9/CXSZYn+Vwp5VullL9pKA6AnpxfGzw5HSz5HCzpHCz5BIAm7PkEdrIOAAAYrE9+67Z87pr1eeNzT8tJq5Y1HQ4AANPUyEqCtdaTm/h3oa20c5w9vXM7nDjapGdOhxNGa9i+B0s2B0s+AaBhvisCAAADtP7+bXnbp67OEx55aF79tBOaDgcAgD40tZIgMCRWGJtFcsuI086VUWZ0AsAs8j0QAAAYsFpr3vrxK7Nj90Te+ZLHajMMADBmFAkCAOxtP+fULcbTPzUKANAkX14AAIDBuPAbt+Vfr9uQNz3v9JyozTAAwNhRJAgtUHqc+HFaaPb0yj00TVFbf7RvHrAe+ZRuAAAAABh9d2zcmrd/+uqcveaw/PRT1zQdDgAAM6BIEFqi20pNVUPHWSOzg2W1scGTUkaaAQoAs2fPl2sV+QAAwAGqteYtF16ZXbtr/vglj808bYYBAMaSIkGAHtSxzAZZHSTFwIMlm4MlnwDQJCfvAACAA/PRS2/NF2+4K295/ulZc8TBTYcDAMAMKRKEFui5OITzQgdAq8xB65kySe1L781fPvshW4NlfAJAU5TpAwAAB+62+7bm9y++Nk8+8bC84smPbDocAAAOgCJBaIluK4lp4Tp7quQy6gzRgVPUNjiGJwAMgQtwAACAGZpsM3xFdtead77kLG2GAQDGnCJBAIC9KAAeLPkEgAb4/AUAAA7Qh792a/7txrvz1hc8KscftrTpcAAAOECKBKEFei0O4dqu2SO3jDqLx/RHvgar5+eTfAPALFEkCAAAzNyt92zJH/zjNTnn5MPz8rNXNx0OAAADoEgQWsJCEcMn5YPVrWU2Myejg2U/O1hWGASAIVCRDwAA9GlioubNF16RJPmjFz9Wm2EAgJZQJAjQgzqWwZPTwZLPwZJOAGDs+YIIAADM0Ie+9r38x7e/n9/4kTNy3KHaDAMAtIUiQWiB0qPpbbF6xIxplTl42mMPlnwOlnwNVq98yjcAzDaftgAAwPR97/tb8o5Lrs3TTzkiLzv7+KbDAQBggBQJQkt0WydCO8fZI7WMOtv/4CkMHhyjEwBmU+eT1pcXAABgmiYman7tgsszv5T80YsfawEKAICWUSQIALAXtZWDJZ8AAAAAMPr+/ivfzVdvuSe/+cJH5RGHHNR0OAAADJgiQWgDLXEb40o6Rp0h2h/b9GD1yqd0A8AsebBK34ctAADQ23fufiB/+Jnr8sxTV+Un1mozDADQRooEoSW6tRW1gNPsqbI7WNI5cFI6WLb5memWNysMAsBs8kELAABMz542wwvml/zhix/jQmoAgJZSJAjQkxNsg6Y4aLDkc7AUAwIAreHkHgAA0MP7/uM7+fp37s3b/p9H55iV2gwDALSVIkFogV6nfZwWmjm5HbzSI2vOY/andz4ltB89t3np7EvvfEooAMwK7YYBAIBpuPmuzXnnZ6/Ls08/Mi9+/LFNhwMAwCxSJAgt0W3dKyuMzR65ZdQZo4yCbuPQio0AAAAA0JzdEzW/dsEVWTR/Xt7xY9oMAwC03YKmAwAAGCWKKwGA8df5QuMkHwAA0MV7v3xLLvvuvfmz/3FWjlqxpOlwAACYZVYShBbodXWXq79mkdQy4gzRPknYQPX6+JFuAJglrnoAAAD246YNm/POf74+P3zGUflvP6DNMADAXKBIENpCO8ehk9nBks/Bs/0PlnPtM9O13bB8AsAQKMkHAAAeavdEzRs/dnmWLpqfP/jvZ1poAgBgjtBuGKAHhSyDp3htsORzsGzzAMD4024YAACY2v/7bzfnW7felz9/6Q/kyOXaDAMAzBVWEoQW6HXax2mhmevdKlN2+yWnA2YHMFC9xp/x2Z+e+ZJOAAAAABiaG9dvyp/+8w0599FH50fPekTT4QAAMESKBKElui18ZUWsWSS3jDjbP6Og20qXhie0RynlvaWUDaWUq5qOBeh48IuginwAAKanlHJuKeX6UspNpZS3NB0Pg7dr90Te8LHLs2zJgvy+NsMAAHOOIkEAAAAOxPuTnNt0EMDetBsGAGD6Sinzk/xVkucnOSPJy0opZzQbFYP2t1+6OVes25jffdGjc8SyxU2HAwDAkCkShBbo2b7VeaFZI7eMOu1x+2ObHjDtxWFOqLV+Kck9TccBAADAjJ2d5KZa68211h1JPpLkRQ3HxABdd+f9edfnb8iPPOaYvPCx2gwDAMxFC5oOABiMuzdtz1s/fmVKeWhNxtducb72QGzdsTsf+fqtWTh/3sNaZu6cmGgoqvG2c/dEPnrpuixeMD81NSUlE7Vm+y75nJGafOWWe/Kbn7zywbv2FF7t3C2nM3HbfVvz2596eMfMDZu259SjljcQ0Xi75e4HpsznLuMTaNJndM6i5R7Y0PlBQT4AANNybJJb97q9LsmTGoplWt7377fkhvWbsnHrzmzdsTvbdk5k687d2b5rIrU+9Fj+3jf3Ps6/5/76kOfu9fhDfsn0ntvz33poaA/7XQ/9/f3E/fBg977vgR27smLJwvzuix49dQAAALSeIkFogccdf0j+/abv53PXrM++k7+a5Ow1hzUW27h79ulH5l+v25CLr7g98zpLjO2ZVx9+8KKc+YiVzQU3pp528hEPyWnN5KnLiVpz5PLFOfWoZU2HOFaeeMKhuX79pnzmyjsfvG/PGD3s4EU589gVzQQ2ps46bmU+e9Wd+fTltz/ssVKSs463zffjcasPyQ3rN+XTl9/+4La+x6FLjU+YS0op5yU5L0lWr17dcDRJvvX/NR0BzL5lRyeHndB0FAAAjIepri55SNnZqM3rvnD9Xbn2jvuzYsmCHLx4QZYsmJ/lSxbkiAXzM2+v/82eziF7d7QoUzz+kOc85L69n1umuO/hzy173fmQxE7xb031+n7jzjR+V0nJi59wXA7XZhgAYM4q+15NM8rWrl1bL7300qbDAACAOaWUclmtdW3TcTC6Silrklxcaz2z13PN6wAAoBnmdnRTSnlKkt+ptT6vc/utSVJrfcdUzzevAwCAZhzIvG7eoIMBAAAAAAAAxsbXk5xSSjmhlLIoyUuTXNRwTAAAwAApEgQAAGDGSikfTvKfSU4rpawrpbym6ZgAAACYvlrrriS/kOSzSa5N8tFa69XNRgUAAAzSgqYDAAAAYHzVWl/WdAwAAAAcmFrrJUkuaToOAABgdlhJEAAAAAAAAAAAAFpKkSAAAAAAAAAAAAC0lCJBAAAAAAAAAAAAaClFggAAAAAAAAAAANBSigQBAAAAAAAAAACgpRQJAgAAAAAAAAAAQEspEgQAAAAAAAAAAICWUiQIAAAAAAAAAAAALaVIEAAAAAAAAAAAAFpKkSAAAAAAAAAAAAC0lCJBAAAAAAAAAAAAaClFggAAAAAAAAAAANBSpdbadAzTVkq5K8l3m44jyRFJ7m46CEaOccFUjAumYlzQjbHBVEZhXDyy1rqq4RhoCfM6RpxxwVSMC7oxNpiKccFURmVcmNsxEOZ1jDjjgm6MDaZiXDAV44KpjMq4mPG8bqyKBEdFKeXSWuvapuNgtBgXTMW4YCrGBd0YG0zFuIDZYdtiKsYFUzEu6MbYYCrGBVMxLmB22LaYinFBN8YGUzEumIpxwVTaMC60GwYAAAAAAAAAAICWUiQIAAAAAAAAAAAALaVIcGbObzoARpJxwVSMC6ZiXNCNscFUjAuYHbYtpmJcMBXjgm6MDaZiXDAV4wJmh22LqRgXdGNsMBXjgqkYF0xl7MdFqbU2HQMAAAAAAAAAAAAwC6wkCAAAAAAAAAAAAC2lSLAPpZRzSynXl1JuKqW8pel4mF2llONLKV8opVxbSrm6lPLLnfsPK6V8rpRyY+fvQzv3l1LKX3TGxxWllMfv9bt+qvP8G0spP9XU/4nBKaXML6V8s5Rycef2CaWUr3be4/9bSlnUuX9x5/ZNncfX7PU73tq5//pSyvOa+Z8wSKWUQ0opF5RSruvsO55in0Ep5Vc6nyNXlVI+XEpZYp8x95RS3ltK2VBKuWqv+wa2f+HXFrIAACAASURBVCilPKGUcmXnNX9RSinD/R/C+DCvm1vM69gf8zqmYl7HVMzr2MPcDkaDed3cYl5HL+Z27Mu8jqmY17HHXJ7XKRKcplLK/CR/leT5Sc5I8rJSyhnNRsUs25XkDbXWRyV5cpLXdd7ztyT5l1rrKUn+pXM7mRwbp3T+nJfk3cnkziTJ25I8KcnZSd62Z4fCWPvlJNfudfuPkvxZZ1zcm+Q1nftfk+TeWuvJSf6s87x0xtJLkzw6yblJ/rqzn2G8/XmSf6q1np7krEyOEfuMOayUcmySX0qyttZ6ZpL5mdz27TPmnvdn8r3b2yD3D+/uPHfP6/b9t4CY181R5nXsj3kdUzGv4yHM69jH+2NuB40yr5uTzOvoxdyOfZnX8RDmdezj/Zmj8zpFgtN3dpKbaq0311p3JPlIkhc1HBOzqNZ6R631G52fN2Xyy8OxmXzfP9B52geS/LfOzy9K8sE66StJDimlHJPkeUk+V2u9p9Z6b5LPZYR2AvSvlHJckh9J8p7O7ZLk2Uku6Dxl33GxZ7xckOSHOs9/UZKP1Fq311pvSXJTJvczjKlSyookz0jyd0lSa91Ra70v9hkkC5IcVEpZkGRpkjtinzHn1Fq/lOSefe4eyP6h89iKWut/1lprkg/u9buAhzKvm2PM6+jGvI6pmNexH+Z1JDG3gxFhXjfHmNexP+Z27Mu8jv0wryPJ3J7XKRKcvmOT3LrX7XWd+5gDOsvHPi7JV5McVWu9I5mcmCQ5svO0bmPE2GmfdyV5U5KJzu3Dk9xXa93Vub33e/zg+995fGPn+cZF+5yY5K4k7yuTy9q/p5RycOwz5rRa621J/k+S72VysrExyWWxz2DSoPYPx3Z+3vd+4OHsT+cw8zr2YV7HVMzreBjzOqbB3A6Gy/50DjOvYwrmduzLvI6HMa9jGubEvE6R4PRN1SO6Dj0Khq6UsizJhUleX2u9f39PneK+up/7GUOllBcm2VBrvWzvu6d4au3xmHHRPguSPD7Ju2utj0vyQP5rGeKpGBtzQGdZ6RclOSHJI5IcnMllqfdln8He+h0HxgdMn+1ljjKvY2/mdeyHeR0PY17HATC3g9lhW5mjzOvYl7kdXZjX8TDmdRyAVs3rFAlO37okx+91+7gktzcUC0NSSlmYyQnHh2qtH+/cvb6zRGg6f2/o3N9tjBg77XJOkh8tpXwnk20Mnp3Jq5QO6SxNnDz0PX7w/e88vjKTS9caF+2zLsm6WutXO7cvyOQkxD5jbntOkltqrXfVWncm+XiSp8Y+g0mD2j+s6/y87/3Aw9mfzkHmdUzBvI5uzOuYinkdvZjbwXDZn85B5nV0YW7HVMzrmIp5Hb3MiXmdIsHp+3qSU0opJ5RSFiV5aZKLGo6JWdTpKf93Sa6ttf7pXg9dlOSnOj//VJJP7XX/K8ukJyfZ2FmG9LNJnltKObRTof7czn2MoVrrW2utx9Va12RyP/CvtdaXJ/lCkpd0nrbvuNgzXl7SeX7t3P/SUsriUsoJSU5J8rUh/TeYBbXWO5PcWko5rXPXDyW5JvYZc933kjy5lLK087myZ1zYZ5AMaP/QeWxTKeXJnXH2yr1+F/BQ5nVzjHkdUzGvoxvzOrowr6MXczsYLvO6Oca8jm7M7ZiKeR1dmNfRy5yY1y3o/RSSyT7jpZRfyOQbPT/Je2utVzccFrPrnCSvSHJlKeVbnft+PckfJvloKeU1mfww+fHOY5ckeUGSm5JsSfKqJKm13lNK+b1MTlyT5HdrrfcM57/AEL05yUdKKb+f5JuZnLCm8/ffl1JuyuTVBS9Nklrr1aWUj2byy8euJK+rte4eftgM2C8m+VDn4NTNmdwPzIt9xpxVa/1qKeWCJN/I5Lb+zSTnJ/nH2GfMKaWUDyd5VpIjSinrkrwtg/1O8XNJ3p/koCSf6fwB9mFeNyeZ19EP8zoS8zr2YV7H3sztoHnmdXOSeR39MrfDvI6HMK9jb3N5Xlcmi10BAAAAAAAAAACAttFuGAAAAAAAAAAAAFpKkSAAAAAAAAAAAAC0lCJBAAAAAAAAAAAAaClFggAAAAAAAAAAANBSigQBAAAAAAAAAACgpRQJAgAAAAAAAAAAQEspEgQAAAAAAAAAAICWUiQIAAAAAAAAAAAALaVIEAAAAAAAAAAAAFpKkSAAAAAAAAAAAAC0lCJBAAAAAAAAAAAAaClFggAAAAAAAAAAANBSigQBAAAAAAAAAACgpRQJAgAAAAAAAAAAQEspEgQAAAAAAAAAAICWUiQIAAAAAAAAAAAALaVIEAAAAAAAAAAAAFpKkSAAAAAAAAAAAAC0lCJBAAAAAAAAAAAAaClFggAAAAAAAAAAANBSigQBAAAAAAAAAACgpRQJAgAAAAAAAAAAQEspEgQAAAAAAAAAAICWUiQIAAAAAAAAAAAALaVIEAAAAAAAAAAAAFpKkSAAAAAAAAAAAAC0lCJBAAAAAAAAAAAAaClFggAAAAAAAAAAANBSigQBAAAAAAAAAACgpRQJAgAAAAAAAAAAQEspEgQAAAAAAAAAAICWUiQIAAAAAAAAAAAALaVIEAAAAAAAAAAAAFpKkSAAAAAAAAAAAAC0lCJBAAAAAAAAAAAAaClFggAAAAAAAAAAANBSigQBAAAAAAAAAACgpRQJAgAAAAAAAAAAQEspEgQAAAAAAAAAAICWUiQIAAAAAAAAAAAALaVIEAAAAAAAAAAAAFpKkSAAAAAAAAAAAAC0lCJBAAAAAAAAAAAAaClFggAAAAAAAAAAANBSigQBAAAAAAAAAACgpRQJAgAAAAAAAAAAQEspEgQAAAAAAAAAAICWUiQIAAAAAAAAAAAALaVIEAAAAAAAAAAAAFpKkSAAAAAAAAAAAAC0lCJBAAAAAAAAAAAAaClFggAAAAAAAAAAANBSigQBAAAAAAAAAACgpRQJAgAAAAAAAAAAQEspEgQAAOBhSinvLaVsKKVc1eXxUkr5i1LKTaWUK0opjx92jAAAAOyfuR0AAJAoEgQAAGBq709y7n4ef36SUzp/zkvy7iHEBAAAQH/eH3M7AACY8xQJAgAA8DC11i8luWc/T3lRkg/WSV9Jckgp5ZjhRAcAAMB0mNsBAACJIkEAAABm5tgkt+51e13nPgAAAMaHuR0AAMwBC5oOoB9HHHFEXbNmTdNhAADAnHLZZZfdXWtd1XQcjJwyxX11yieWcl4m21bl4IMPfsLpp58+m3EBAABTMLeji2nN7czrAACgeQcyrxurIsE1a9bk0ksvbToMAACYU0op3206BkbSuiTH73X7uCS3T/XEWuv5Sc5PkrVr11bzOgAAGD5zO7qY1tzOvA4AAJp3IPM67YYBAACYiYuSvLJMenKSjbXWO5oOCgAAgL6Y2wEAwBwwVisJAgAAMByllA8neVaSI0op65K8LcnCJKm1/k2SS5K8IMlNSbYkeVUzkQIAANCNuR0AAJAoEgQAAGAKtdaX9Xi8JnndkMIBAABgBsztAACARLthAAAAAAAAAAAAaC1FggAAAAAAAAAAANBSigQBAAAAAAAAAACgpRQJAgAAAAAAAAAAQEspEgQAAAAAAAAAAICWUiQIAAAAAAAAAAAALaVIEAAAAAAAAAAAAFpKkSAAAAAAAAAAAAC0VGNFgqWU00op39rrz/2llNc3FQ8AAAAAAAAAAAC0zYKm/uFa6/VJfiBJSinzk9yW5BNNxQMAAAAAAAAAAABtMyrthn8oybdrrd9tOhAAAAAAAAAAAABoi8ZWEtzHS5N8uOkgAAAYUVdekHzjA01H0Yw1T0+e+aamowAAAAAAAADGVONFgqWURUl+NMlbuzx+XpLzkmT16tVDjAwAgJFx9SeSdZcmx5zVdCTDN7Gr6QgAAAAAAACAMdZ4kWCS5yf5Rq11/VQP1lrPT3J+kqxdu7YOMzAAAEZErclhJyWv/qemIwEAAAAAAAAYK/OaDiDJy6LVMAAA++VaEQAAAAAAAICZaLRIsJSyNMkPJ/l4k3EAADAGStMBAAAAAAAAAIyfRtsN11q3JDm8yRgAABgDtUaVIAAAAAAAAED/RqHdMAAA9FCTokgQAAAAAAAAoF+KBAEAGH21Nh0BAAAAAAAAwFhSJAgAwJiwkiAAAAAAAABAvxQJAgAwBrQbBgAAAAAAAJgJRYIAAIw+7YYBAAAAAAAAZkSRIAAAY8JKggAAAAAAAAD9UiQIAMAY0G4YAAAAAAAAYCYUCQIAMPpqjZUEAQAAAAAAAPqnSBAAgDFQmw4AAAAAAAAAYCwpEgQAYDxoNwwAAAAAAADQN0WCAACMPu2GAQAAAAAAAGZEkSAAAGNAu2EAAAAAAACAmVAkCADAeNBuGAAAAAAAAKBvC5oOAACAueeXP/LNXH/npmk//x2b782iuiNveNeXZjGq0fSMU1fl11/wqKbDAAAAAAAAAMaUIkEAAIbqngd25FPfuj2PfsSKHHfoQdN6zUHb52V+nZ9HHr50lqMbPauWLW46BAAAAAAAAGCMKRIEAGCoblg/uYLgm849Pc88ddX0XvT+ZcnErvztK9bOYmQAAAAAAAAA7TOv6QAAAJhbbuwUCZ521PI+X1kGHwwAAAAAAABAyykSBABgqG5YvznLlyzIUSv6bKNbFAkCAAAAAAAA9EuRIAAAQ3XD+k059ajlKf0U/dU6ewEBAAAAAAAAtJgiQQAAhqbW2ikSXDaDV1tJEAAAAAAAAKBfigQBABiauzfvyL1bduaUI5f3+cqq3TAAAAAAAADADCgSBABgaG5cvylJcupRfRYJajcMAAAAAAAAMCOKBAEAGJobHiwS7LfdsCJBAAAAAAAAgJlQJAgAwNDcsGFzVh60MKuWL+7/xdoNAwAAAAAAAPRNkSAAAENz4/pNOfWoZSn9FvzVmkSRIAAAAAAAAEC/FAkCADAUtdbcsH5zTjlq+UxePfB4AAAAAAAAAOYCRYIAAAzFhk3bs3Hrzpw2oyLBaDcMAAAAAAAAMAP/P3v3HmRpWt+H/fvM/dK9N2a6d9nd2Wv3ApKARRMMwpaEhGTAGIoyci0JthUTRrYMQRGOC8USUuS4KkGKfEkRSyvZUkoSoYgkYIPXgMzFkhKLsCAue2FPzy7L3k/P3thz5rrT/eSPmUbDMN0zfc7pfrvf/nyqprbP6fd9zq+oGnremu/8vkKCAACsik63lySZmhxb/s3qhgEAAAAAAAAGIiQIAMCq6HT7SZLpQeuGbRIEAAAAAAAAWDYhQQAAVsVMt5fLdm/LnrHty7+51tEPBAAAAAAAALABCAkCALAqOt1epiYGqBr+NpsEAQAAAAAAAJZLSBAAgBVXa81Mtz9g1XCibhgAAAAAAABgMEKCAACsuMefPZbe8ZOZnhxwk2CtsUkQAAAAAAAAYPmEBAEAWHGdbj9JMjXwJkEAAAAAAAAABiEkCADAius83ksSdcMAAAAAAAAAq0xIEACAFdfp9rJnbHsu271tsAPUDQMAAAAAAAAMREgQAIAV15ntZ3pybIgT6shmAQAAAAAAANhIhAQBAFhRtdYc7PaGqBo+Td0wAAAAAAAAwLIJCQIAsKIeeeZoDp+Yy9QwmwTVDQMAAAAAAAAMpNGQYCnlklLKH5RSvl5KuaeU8som5wEAYPRmuv0kGXKTYLVJEAAAAAAAAGAAWxr+/H+V5BO11reUUrYl2dXwPAAAjFin20uSTE8MWTcMAAAAAAAAwLI1FhIspVyU5AeT/GSS1FpPJDnR1DwAAKyMe7u9TIxvz8W7tg5+SE3UDQMAAAAAAAAsX5ObBK9PcijJb5dSXpLki0neXWs93OBMAACj8fidyRd+M6nzTU/SuL9+Xzd/c9um5LaPDX7Itx5KLr1mdEMBAAAAAAAAbBBNhgS3JHlZknfVWj9fSvlXSd6b5BfOvKiUciDJgSTZt2/fqg8JADCQr/yfyRd/Jxm/oulJGlWTvPTYsezctjmZGWKT4Nadyb5XjGwuAAAAAAAAgI2iyZDgw0kerrV+/vTrP8ipkOB3qLXemuTWJNm/f39dvfEAAIZQa7JtLHnP15uepFEPPXkkP/grn83//De+L7e83D/4AAAAAAAAAFhtm5r64Frr40keKqXcdPqtH01yd1PzAACMln/bkCSdbi9JMjU53vAkAAAAAAAAABtTk5sEk+RdSX6/lLItyf1J/uuG5wEAGKHS9ACN68wuhATHGp4EAAAAAAAAYGNqNCRYa/1ykv1NzgAAsCJqTYqQ4Ey3nysu3pGLdmxtehQAAAAAAACADamxumEAgHZTN5ycqhtWNQwAAAAAAADQHCFBAIAVs7E3Cc7N1xyc7Wd6QtUwrFellNeWUu4tpRwspbz3HN/fV0r5bCnlL0opXy2lvL6JOQEAADg3z3UAAEAiJAgAsDJq3egZwTz41JEcPzmfaZsEYV0qpWxO8oEkr0vyoiRvLaW86KzLfj7Jh2utNye5Jcn/vrpTAgAAsBjPdQAAwAIhQQCAFVGz0VOCnW4vSTI1aZMgrFMvT3Kw1np/rfVEkg8ledNZ19QkF53++uIkj67ifAAAACzNcx0AAJBESBAAYGXU2vQEjZv5dkjQJkFYp65M8tAZrx8+/d6ZfinJ20opDye5Pcm7znVQKeVAKeWOUsodhw4dWolZAQAA+G6e6wAAgCRCggAAK6ds9E2C/Vx5yc6Mbd/S9CjAYM71f2JnJ6DfmuR3aq1XJXl9kt8tpXzXc2at9dZa6/5a6/69e/euwKgAAACcg+c6AAAgSeJvbAEALsC//vRM/nTmwv+V9NuffSw/cGwub//1/3cFp1rbvv5YL/uvvbTpMYDBPZzk6jNeX5Xvrp16e5LXJkmt9T+XUnYk2ZNkdlUmBAAAYCme6wAAgCRCggAA51VrzW/96f0Z37E11zxv1wXds7mcWiS4dfPGXdz8fVddnLe+fF/TYwCD+0KSqVLKdUkeSXJLkv/yrGseTPKjSX6nlPLCJDuS6J0CAABYGzzXAQAASYQEAQDOa7Z3PM8eO5n3/PhN+Xs/cO2F3fTxDyd3b80H3/GKFZ0NYKXUWk+WUt6Z5JNJNif5d7XWu0opv5zkjlrrbUnek+Q3Syn/XU5VVv1krfXs6ioAAAAa4LkOAABYICQIAHAe9z7eS5JMTY4t466apKzIPACrpdZ6e5Lbz3rvfWd8fXeSV632XAAAAFwYz3UAAECSbNz+OwCAC9TpngoJTk+OX/hNtZ7qGwYAAAAAAACABgkJAgCcx0y3n8t2b8uese3LuEsrCwAAAAAAAADNExIEADiPzmwvUxPLqRpeYJMgAAAAAAAAAM0SEgQAWEKtNQe7/eVVDZ+6Ud0wAAAAAAAAAI0TEgQAWMJj3zqW3vGTmb58mSFBdcMAAAAAAAAArAFCggAAS+h0e0mSaXXDAAAAAAAAAKxDQoIAAEuY6faTRN0wAAAAAAAAAOuSkCAAwBI63V72jG3Ppbu3LfPOGpsEAQAAAAAAAGiakCAAwBI6s/1MTw5QNVxHPwsAAAAAAAAALJeQIADAImqtOdjtLb9qeIG6YQAAAAAAAAAaJiQIALCIR545msMn5jI1yCZBdcMAAAAAAAAArAFCggAAi+h0e0ky2CbBWm0SBAAAAAAAAKBxQoIAAIvodPtJkumJAeuGAQAAAAAAAKBhQoIAAIvodHuZvGh7Lt61dYC71Q0DAAAAAAAA0DwhQQCARcx0+4NVDSen64ZHOw8AAAAAAAAALJeQIADAOczP1xyc7Wdq4KrhOtJ5AAAAAAAAAGAQQoIAAOfw8NNHc/S5uUxPjg1xilWCAAAAAAAAADRLSBAA4Bw63V6SZGqoumEhQQAAAAAAAACaJSQIAHAOndmFkOCgmwRrbBIEAAAAAAAAoGlCggAA5zDT7eeKi3fkoh1bBzug1tEOBAAAAAAAAAADEBIEADiHTrc3eNXwAnXDAAAAAAAAADRMSBAA4Cxz8zUHZ/uZnhi0ajhRNwwAAAAAAADAWiAkCABwloeeOpLjJ+czPcwmQXXDAAAAAAAAAKwBQoIAAGe5t9tLkkxfrm4YAAAAAAAAgPVNSBAA4Cwzp0OCU+qGAQAAAAAAAFjnhAQBAM7S6fZz5SU7s3v7lsEPqdUmQQAAAAAAAAAaJyQIAHCWTreX6clhtggmpzYJAgAAAAAAAECzhAQBAM5wcm4+9x86nOnJ8RGcZpMgAAAAAAAAAM0SEgQAOMM3nzqSE3PzmRo2JKhuGAAAAAAAAIA1QEgQAOAMM91ekqgbBgAAAAAAAKAVtjT54aWUB5L0kswlOVlr3d/kPAAAnW4/SXLjxLAhwUTdMAAAAAAAAABNazQkeNqra61PND0EAECSdLq9XH3ZzuzaNuQfk9QNAwAAAAAAALAGrIWQIACwFnTvSjqfbHqKxt38zW/k1bu2Jn/65eEOevJgUjaPZigAAAAAAAAAGFDTIcGa5FOllJrkN2qtt559QSnlQJIDSbJv375VHg8ANpD/9L8kd3+s6Ska9/YkOZ7k0yM47AVvGMEhAAAAAAAAADC4pkOCr6q1PlpKmUjyx6WUr9da/+TMC04HB29Nkv3799cmhgSADWHuZDLxPck7PtP0JI2571Avr//Xf5b3v+XFedNLrhz+wC3bhz8DAAAAAAAAAIbQaEiw1vro6f/OllI+kuTlSf5k6bsAgBVTNiVbdzQ9RWO+/sTTOZ5tueGKPRv6fwcAAAAAAAAA2mNTUx9cStldShlf+DrJjye5s6l5AICalKZnaFan28umktw4Mdb0KAAAAAAAAAAwEk1uEpxM8pFSysIcH6y1fqLBeQCgVX79P92Xv3jw6Qu+/qcfezqXnjyaf/67d6zgVGvbnY88m32X7cqOrZubHgUAAAAAAAAARqKxkGCt9f4kL2nq8wGgzU7OzefXPtXJRTu3Zs/Ytgu65+iJk9ld5/PNJ4+s8HRr1/iOLXnTS69segwAAAAAAAAAGJkmNwkCACvkgSeP5MTcfH7udS/I3/r+qy7spg8+L+mdyCd+6gdXdjgAAAAAAAAAYNVsanoAAGD0Ot1ekmR6cvzCb6o1SVmZgQAAAAAAAACARggJAkALdbq9lJLcODG2jLvqis0DAAAAAAAAADRDSBAAWmim28++y3Zl57bNy7ux2CQIAAAAAAAAAG0iJAgALdTp9jI1sYyq4UTdMAAAAAAAAAC0kJAgALTMiZPz+cYThzM9uZyq4UTdMAAAAAAAAAC0j5AgALTMN544nJPzNTddPsAmQXXDAAAAAAAAANAqQoIA0DKdbi9Jll83nETdMAAAAAAAAAC0i5AgALRMp9vLppJcv3f3Mu+0SRAAAAAAAAAA2kZIEABaptPt5do9u7Nj6+bl3VjrygwEAAAAAAAAADRGSBAAWmam28/0QFXDibphAAAAAAAAAGgXIUEAaJFjz83lgScPZ3pybIC71Q0DAAAAAAAAQNsICQJAi9x3qJ/5mkxfPsAmQXXDAAAAAAAAANA6QoIA0CIz3X6SZHpykLrhGnXDAAAAAAAAANAuQoIA0CL3dnvZurnk2uftHuwAdcMAAAAAAAAA0CpCggDQIjPdXq7bszvbtgzwI17dMAAAAAAAAAC0jpAgALRIp9vP1EBVwwtsEgQAAAAAAACANhESBICWOHLiZB586khuGjQkWKu6YQAAAAAAAABoGSFBAGiJg7P9JMn05FjDkwAAAAAAAAAAa4WQIAC0RKd7KiQ4eN1wjbphAAAAAAAAAGgXIUEAaIlOt5dtWzblmst2DXaAumEAAAAAAAAAaB0hQQBoiU63lxv2jmXLZj/eAQAAAAAAAIBTpAgAoCVmuv1MT44NcUId2SwAAAAAAAAAwNogJAgALdA79lweeeZopifHBz9E3TAAAAAAAAAAtI6QIAC0wMxsP0mGCwmmJhESBAAAAAAAAIA2ERIEgBaY6faSZMi6YQAAAAAAAACgbYQEAaAF7n28nx1bN+XqS3cNfoi6YQDOUkp5bSnl3lLKwVLKexe55m+XUu4updxVSvngas8IAADA4jzXAQAASbKl6QEAgOHNzPYyNTGeTZuGCfmpGwbgL5VSNif5QJIfS/Jwki+UUm6rtd59xjVTSX4uyatqrU+XUiaamRYAAICzea4DAAAW2CQIAC3Q6fYypWoYgNF6eZKDtdb7a60nknwoyZvOuuYdST5Qa306SWqts6s8IwAAAIvzXAcAACQREgSAde9bR55L99njuWlyfLiD1A0D8J2uTPLQGa8fPv3emaaTTJdS/p9Syp+XUl57roNKKQdKKXeUUu44dOjQCo0LAADAWTzXAQAASYQEAWDd68z2kiTTw4YE1Q0D8J3O9UOhnvV6S5KpJD+c5K1JfquUcsl33VTrrbXW/bXW/Xv37h35oAAAAJyT5zoAACCJkCAArHud7qmQ4NB1wzYJAvCdHk5y9Rmvr0ry6Dmu+Vit9bla6zeS3JtTf7kEAABA8zzXAQAASYQEAWDd6zzey+5tm3PlJTubHgWAdvlCkqlSynWllG1Jbkly21nXfDTJq5OklLInp2qq7l/VKQEAAFiM5zoAACCJkCAArHudbj9Tk+MpQ28BVDcMwF+qtZ5M8s4kn0xyT5IP11rvKqX8cinljacv+2SSJ0spdyf5bJL/vtb6ZDMTAwAAcCbPdQAAwIItTQ8AAAxnZraXH33B5PAHqRsG4Cy11tuT3H7We+874+ua5GdP/wIAAGCN8VwHAAAkNgkCwLr2ZP94nuifyNTkWNOjAAAAAAAAAABrkJAgAKxjnW4/STI9OT6C09QNAwAAAAAAAEDbCAkCwDo2M9tLktx0+QhCguqGAQAAAAAAAKB1hAQBYB279/FeLtqxJRPj20dwWh3BGQAAAAAAAADAWrKl6QFKKZuT3JHkkVrrG5qeB4BmzM3X/NTv3pGHnjra9CjryiPPHM0LLh9PGdkGQJsEAQAAAAAAAKBNGg8JJnl3knuSXNT0R5/f0QAAIABJREFUIAA058GnjuQ/3jObl159SS6/aEfT46wb1+3ZnTe/7MrRHFajbhgAAAAAAAAAWqbRkGAp5aokfyPJP0/ys03OAkCzOt1ekuSX3vg9eenVl1zYTU/elzz2lRWcap2o30zuHME5x55Jsm8EBwEAAAAAAAAAa0XTmwT/ZZJ/kmR8sQtKKQeSHEiSffsEFwDaqvP4qZDg1MTYhd/0RweSR+5YoYk2qOt/qOkJAAAAAAAAAIARaiwkWEp5Q5LZWusXSyk/vNh1tdZbk9yaJPv376+rNB4Aq6wz28+Vl+zM7u3L+NH03NHkuh9KXvf+lRtso7ns+qYnAAAAAAAAAABGqMlNgq9K8sZSyuuT7EhyUSnl92qtb2twJgAaMtPtZXpyGVsEF2wfTyZeMPqBAAAAAAAAAABaYFNTH1xr/bla61W11muT3JLkMwKCABvTc3Pzuf/Q4Uxfvmj7/CJqUsqKzAQAAAAAAAAA0AaNhQQBYME3nzycE3PzmZ5YZkiw1iRCggAAAAAAAAAAi2mybvjbaq2fS/K5hscAoCGdbj9JMj05wCZBAAAAAAAAAAAWZZMgAI3rdHspJblxYmz5N6sbBgAAAAAAAABYlJAgAI2b6faz77Jd2blt8/JuVDcMAAAAAAAAALAkIUEAGtfp9jI1sdyq4UTdMAAAAAAAAADA0oQEAWjUiZPz+cYThzM9OUDVcKJuGAAAAAAAAABgCUKCADTqG08czsn5munJATYJqhsGAAAAAAAAAFiSkCAAjep0e0kyWEgw1SZBAAAAAAAAAIAlCAkC0KiZbi+bSnL93t3Lv7nW0Q8EAAAAAAAAANAiIwkJllJ2lVJ+oZTym6dfT5VS3jCKswFot3u7vVz7vN3ZsXXzgCfYJAgAAAAAAAAAsJhRbRL87STHk7zy9OuHk/xPIzobgBab6fYzNTk24N3qhgEAAAAAAAAAljKqkOANtdb3J3kuSWqtR2O1EwDncey5uTzw5OFMT44PdoC6YQAAAAAAAACAJY0qJHiilLIzSU2SUsoNObVZEAAWdf+hw5mvGTwkmEQmHQAAAAAAAABgcVtGdM4vJvlEkqtLKb+f5FVJfnJEZwPQUp1uL8kwIUF1wwAAAAAAAAAASxlJSLDW+sellC8leUVOrXR6d631iVGcDUB7dbq9bNlUct2e3YMdUGtsEgQAAAAAAAAAWNxQIcFSysvOeuux0//dV0rZV2v90jDnA9BunW4/1+7ZnW1bNg14Qh3pPAAAAAAAAAAAbTPsJsH/dYnv1SQ/MuT5ALTYzGwv3/v8i4c7RN0wAAAAAAAAAMCihgoJ1lpfPapBANhYjp6Yy4NPHcmbb75y8ENqom4YAAAAAAAAAGBxg/Y7fodSyj8qpVxyxutLSyk/PYqzAWing7P91JpMT44PcYq6YQAAAAAAAACApYwkJJjkHbXWZxZe1FqfTvKOEZ0NQAt1ur0kyfTk2HAHqRsGAAAAAAAAAFjUqEKCm0r5y5RGKWVzkm0jOhuAFurM9rJt86Zc87zdgx9Sa9QNAwAAAAAAAAAsbsuIzvlUkg+XUn49p7of/0GST4zobABaaKbbz/V7d2fr5mHy6lVGEAAAAAAAAABgCaMKCf6TJD+V5B/mVFzjU0l+a0RnA9BC9z7ey8uuuXS4Q2odzTAAAAAAAAAAAC01qpDg65P8Rq3134zoPABa7PDxk3nkmaO55b+4egSnWSUIAAAAAAAAALCYYToez3RLkplSyvtLKS8c0ZkAtNTMbD9JMjU5PuRJNSlCggAAAAAAAAAAixlJSLDW+rYkNye5L8lvl1L+cynlQCll2PQHAC3U6faSJDddPuSPCXXDAAAAAAAAAABLGtUmwdRan03yh0k+lOSKJG9O8qVSyrtG9RkAtEPn8V62b9mUfZftGsFpNgkCAAAAAAAAACxmJCHBUsrfLKV8JMlnkmxN8vJa6+uSvCTJPx7FZwDQHp3Zfm7YO5bNm4YN+KkbBgAAAAAAAABYypZhbi6l3Jjk8iQ/keRf1Fr/5PT7f62UMl5rva+U8vdHMCcALTLT7eWvXHfZ8AfVGpsEAQAAAAAAAAAWN+wmwX+Z5Nla699dCAiedvT091Jr/fSQnwFAizx77Lk89q1jmb58fASn1RGcAQAAAAAAAADQXsOGBK+ttX717DdrrXckuXbIswFooZluP0kyPTGKkGDUDQMAAAAAAAAALGHYkOCOJb63c8izAWihTreXJJmeHEFIUN0wAAAAAAAAAMCShg0JfqGU8o6z3yylvD3JF4c8G4AW6nR72bl1c666dBRZcnXDAAAAAAAAAABL2TLk/T+T5COllP8qfxkK3J9kW5I3D3k2AC000+1nanIsmzaNaAOgumEAAAAAAAAAgEUNFRKstXaT/EAp5dVJvvf02/++1vqZoScDWMNqrTnwu1/8dnUuF+7RZ47mjS+5cjSHqRsGAAAAAAAAAFjSsJsEkyS11s8m+ewozgJYDw71j+eP7+7m5n2X5JrLdjU9zrrysn2X5u+88poRnVZtEgQAAAAAAAAAWMJIQoIAG81Mt58kec+P3ZS/OrWn4Wk2sFqbngAAAAAAAAAAYE3b1PQAAOvRQs3w9ORYw5OgbhgAAAAAAAAAYHFCggAD6HT7uXjn1uwd3970KBucumEAAAAAAAAAgKUICQIMYKbby02T4ykCas2qiU2CAAAAAAAAAACLExIEWKZaazrdXqZUDQMAAAAAAAAAsMY1FhIspewopfx/pZSvlFLuKqX8j03NArAcs73jefbYyUxPjjc9CuqGAQAAAAAAAACWtKXBzz6e5Edqrf1SytYkf1ZK+Q+11j9vcCaA8+p0e0lik+BaUGvUDQMAAAAAAAAALK6xkGCttSbpn3659fSv2tQ8ABfq3sdPhQSXvUnwxJHkiXtXYKINrM41PQEAAAAAAAAAwJrW5CbBlFI2J/likhuTfKDW+vkm5wG4EDPdfi7bvS17xrYv78Z//57kKx9cmaE2sm27mp4AAAAAAAAAAGDNajQkWGudS/LSUsolST5SSvneWuudZ15TSjmQ5ECS7Nu3r4EpAb5TZ7aXqYkBqoaPPp1csi953ftHP9RGVTYl+17Z9BQAAAAAAAAAAGtWoyHBBbXWZ0opn0vy2iR3nvW9W5PcmiT79+9XRww0qtaag91+3vyyKwc7YMfFyU2vG+1QAAAAAAAAAACwiE1NfXApZe/pDYIppexM8pokX29qHoAL8di3jqV3/GSmJscHuLsmKaMeCQAAAAAAAAAAFtXkJsErkvwfpZTNORVW/HCt9eMNzgNwXp1uL0kyPUjdcLUMFQAAAAAAAACA1dVYSLDW+tUkNzf1+QCDmOn2kyTTA20STFJsEgQAAAAAAAAAYPU0VjcMsB51ur3sGdueS3dvG+BudcMAAAAAAAAAAKwuIUGAZeh0e5meHKBqODlVN2yTIAAAAAAAAAAAq0hIEOACzc/XzMz2B68aBgAAAAAAAACAVSYkCHCBHnnmaI6cmBsiJKhuGAAAAAAAAACA1SUkCHCBZmZ7SaJuGADYMEopry2l3FtKOVhKee8S172llFJLKftXcz4AAACW5rkOAABIhAQBLlin20+STKkbBgA2gFLK5iQfSPK6JC9K8tZSyovOcd14kv82yedXd0IAAACW4rkOAABYICQIcIE63V4mL9qei3duHfAEdcMAwLry8iQHa63311pPJPlQkjed47p/luT9SY6t5nAAAACcl+c6AAAgiZAgwAWb6fYzPcwWQXXDAMD6cmWSh854/fDp976tlHJzkqtrrR9fzcEAAAC4IJ7rAACAJEKCABdkfr7m4Gw/UxPDVA3bJAgArCvn+oNL/fY3S9mU5F8kec95DyrlQCnljlLKHYcOHRrhiAAAACzBcx0AAJBESBDggjz89NEcfW4uN10+1vQoAACr5eEkV5/x+qokj57xejzJ9yb5XCnlgSSvSHJbKWX/2QfVWm+tte6vte7fu3fvCo4MAADAGTzXAQAASYQEAS7Ivd1ekmRK3TAAsHF8IclUKeW6Usq2JLckuW3hm7XWb9Va99Rar621Xpvkz5O8sdZ6RzPjAgAAcBbPdQAAQBIhQYAL0lkICU4Ms0lQ3TAAsH7UWk8meWeSTya5J8mHa613lVJ+uZTyxmanAwAA4Hw81wEAAAu2ND0AwHow0+3l+RfvyPiOrU2PAgCwamqttye5/az33rfItT+8GjMBAABw4TzXAQAAiU2CABek0+0PVzWcqBsGAAAAAAAAAGDVCQkCnMfcfM19h/qZnhymaniBkCAAAAAAAAAAAKtHSBDgPB586kiOn5wffpNgYpMgAAAAAAAAAACrSkgQ4Dw63V6S5KZR1A0DAAAAAAAAAMAqEhIEOI+Z0yHBGyeGrRuuUTcMAAAAAAAAAMBqEhIEOI97u/1cdenO7N6+ZbiDalU3DAAAAAAAAADAqhISBDiPmW4v08NWDQMAAAAAAAAAQAOEBAGWcHJuPvcfOpypyWGrhpNTdcMAAAAAAAAAALB6hAQBlvDAk0dyYm4+0xMj2CSobhgAAAAAAAAAgFUmJAiwhJluL0ly0+WjqhsWEgQAAAAAAAAAYPUICQIsodPtp5Tkhr3qhgEAAAAAAAAAWH+EBAGW0JntZd9lu7Jz2+bhD1M3DAAAAAAAAADAKtvS9ADAynrkmaP5zD1dO+wG9OUHn8kLr7hohCcKCQIAAAAAAAAAsHqEBKHlfu1Tnfzhlx5ueox17e++8poRnWSTIAAAAAAAAAAAq0tIEFru648/mx+44Xn53956c9OjrEubSsklu7aO5rBqnyMAAAAAAAAAAKtLSBBabG6+5uBsP297xTV53tj2pschibphAAAAAAAAAABW06amBwBWzkNPHcnxk/OZnhxrehSSqBsGAAAAAAAAAGC1CQlCi3W6vSTJ1OR4w5OQRN0wAAAAAAAAAACrTkgQWmxmtp8kmZqwSXBtqFE3DAAAAAAAAADAahIShBbrdHt5/sU7Mr5ja9OjsEDdMAAAAAAAAAAAq0hIEFqs0+2rGl5Lqk2CAAAAAAAAAACsLiFBaKm5+Zr7DvUzPalqeO2oTQ8AAAAAAAAAAMAGIyQILfXNJw/nxMn5TNskuLaoGwYAAAAAAAAAYBUJCUJLdbr9JBESXEvUDQMAAAAAAAAAsMqEBKGlZrq9JMmNE+qG1w51wwAAAAAAAAAArC4hQWipzmw/V126M7u3b2l6FM6kbhgAAAAAAAAAgFXUWEiwlHJ1KeWzpZR7Sil3lVLe3dQs0EYz3Z6q4bWmJuqGAQAAAAAAAABYTU1uEjyZ5D211hcmeUWSf1RKeVGD80BrnJybz/2HDmdqUtXw2lJtEgQAAAAAAAAAYFU11kNaa30syWOnv+6VUu5JcmWSu5uaCdrigSeP5MTcfKYnBtwkeOJwMnditEORzJ9segIAAAAAAAAAADaYxkKCZyqlXJvk5iSfb3YSaIdOt5ckg9UNP/Kl5Ldek9S5EU9FkmTihU1PAAAAAAAAAADABtJ4SLCUMpbkD5P8TK312XN8/0CSA0myb9++VZ4O1qdOt5dSkhsnBqgb7j12KiD4yncmF181+uE2uhtf0/QEAAAAAAAAAABsII2GBEspW3MqIPj7tdY/Otc1tdZbk9yaJPv376+rOB6sWzPdfq6+dFd2btu8/Jvr6d9mL/7byRUvGe1gAAAAAAAAAADAqtrU1AeXUkqSf5vknlrrrzU1B7RRp9vL9OQAWwSTJAtZ3DKqcQAAAAAAAAAAgIY0FhJM8qokfyfJj5RSvnz61+sbnAda4cTJ+XzjicOZmhwf7IBqYScAAAAAAAAAALRFY3XDtdY/i1VlMHIPPHk4J+frEJsETyt+ewIAAAAAAAAAwHrX5CZBYAV0ur0kydTEgJsE1Q0DAAAAAAAAAEBrCAlCy3S6/WwqyY0TA24SVDcMAAAAAAAAAACtISQILTPT7WXfZbuyY+vm4Q5SNwwAAAAAAAAAAOuekCC0TKfby/TkoFXDibphAAAAAAAAAABoDyFBaJHjJ+fywJNHhgsJLtQN2yQIAAAAAAAAAADrnpAgtMg3njicufmaqcmxIU6p578EAAAAAAAAAABYF4QEoUU63X6SDFk3vMAmQQAAAAAAAAAAWO+EBKFFZrq9bN5Ucv3e3YMfom4YAAAAAAAAAABaQ0gQWqTT7eWa5+3K9i2bR3CakCAAAAAAAAAAAKx3QoLQIjPdfqYnRlE1DAAAAAAAAAAAtIGQILTEsefm8sCThzM9OTbcQeqGAQAAAAAAAACgNYQEoSXuO9TPfE2mJofdJHg6JKhuGAAAAAAAAAAA1j0hQWiJmW4/STI9bEhwYZMgAAAAAAAAAACw7gkJQkt0ur1s2VRy3Z7dozlQ3TAAAAAAAAAAAKx7QoLQEp1uP9fu2Z1tW4b9bW2TIAAAAAAAAAAAtIWQILTEzGwv05Njwx+0UDdskyAAAAAAAAAAAKx7QoLQAkdPzOXBp45kamJ8BKfZJAgAAAAAAAAAAG0hJAgtcN+hfmpNpidHERJcYJMgAAAAAAAAAACsd0KC0AKdbi9J1A0DAAAAAAAAAADfQUgQWqDT7Wfr5pJr9+wewWnqhgEAAAAAAAAAoC22ND0A68cXHngqv/65+zJXhcjWmrsffTbX7xnL1s2jzP3aJAgAAAAAAAAAAOudkCAX5OnDJ/IPf+9LSWquvGRn0+Nwlisu3pG/9f1XjeYwdcMAAAAAAAAAANAaQoJckF/6v+/KM0dO5GPvfFW+5/kXNz0OK2phU6SQIAAAAAAAAAAArHej7CalpT5x5+P52Jcfzbt+ZEpAcCNQJw0AAAAAAAAAAK0hJMiSnjp8Ij//0a/le55/UX761Tc0PQ6rSd0wAAAAAAAAAACse+qGWdL7PnZnvnX0ufzef/NXsnWzTOnGoG4YAAAAAAAAAADaQuqLRd3+tcfy8a8+lnf/6FRecPlFTY/DalE3DAAAAAAAAAAArSEkyDk90T+en//onfm+Ky/OP/ghNcMbkrphAAAAAAAAAABY94QEOaf3fezO9I+dzK/+xEuyRc3wBqNuGAAAAAAAAAAA2kL6i+/y8a8+mtu/9nh+5semctPl402Pw2pbqBu2SRAAAAAAAAAAANY9IUG+w6He8fzCR+/MS66+JAf+2vVNj0Mj6vkvAQBgQyilvLaUcm8p5WAp5b3n+P7PllLuLqV8tZTy6VLKNU3MCQAAwLl5rgMAABIhQc5Qa83Pf/RrOXxiLr/6lherGd7wbBIEANjISimbk3wgyeuSvCjJW0spLzrrsr9Isr/W+uIkf5Dk/as7JQAAAIvxXAcAACyQAuPbbvvKo/nkXd387I9NZ2pSzfCGpW4YAIBTXp7kYK31/lrriSQfSvKmMy+otX621nrk9Ms/T3LVKs8IAADA4jzXAQAASYQEOW22dyy/eNtduXnfJXmHmmEAACC5MslDZ7x++PR7i3l7kv+wohMBAACwHJ7rAACAJMmWpgegebXW/NOP3JmjJ+byqz/xkmzeZIMcibphAIAN71x/IKznvLCUtyXZn+SHFvn+gSQHkmTfvn2jmg8AAIClea4DAACS2CRIko9++ZH88d3d/OMfvyk37B1rehyapm4YAIBTHk5y9Rmvr0ry6NkXlVJek+SfJnljrfX4uQ6qtd5aa91fa92/d+/eFRkWAACA7+K5DgAASCIkuOF1nz2WX/zYXfn+ay7N3/+r1zU9DmvCwj8iFBIEANjgvpBkqpRyXSllW5Jbktx25gWllJuT/EZO/UXSbAMzAgAAsDjPdQAAQBIhwQ2t1pr/4Y++lhNz8/mVt7xYzTCn1HM2DQAAsMHUWk8meWeSTya5J8mHa613lVJ+uZTyxtOX/UqSsST/Vynly6WU2xY5DgAAgFXmuQ4AAFiwpekBaM4ffumRfPrrs/mFN7wo16sZ5mzqhgEANrxa6+1Jbj/rvfed8fVrVn0oAAAALpjnOgAAIGl4k+D/3969B1lal3cC/z4zwwByRy4qFyErchVvI3hJWVFzAUIco7hCdEWXWqq2NJtk1QRzWbIaU6jJEpMoBhFRY1RAK2EjCSFIvOwiCiI3YWQYEEZQQHBEWS7D/PaP845pmm44wJnz9jn9+VRN9Xnf887pp+s8/Tvn6X7691TV6VV1W1Vd1Wcci9H3192b//m/r84he+2YN794r77DYUGxkyAAAAAAAAAAAEyLvscNn5HksJ5jWHRaaznh81fkgQc35H1HHZwlxgwzk3HDAAAAAAAAAAAwNXptEmytfTnJnX3GsBiddcna/Nuq23PCYftlr5226jscFirjhgEAAAAAAAAAYOIt6zuAiXLzN5JPvabvKJ6QDS057N71OWLLylZfWZp8pe+IWHDW3zf4WH1vNAoAAAAAAAAAADxRC75JsKqOT3J8kuy55579BrPVTsmzj+k3hiegtZbzv/2D3HbvfXnVwU9LbbFZ3yGxUG23R7LFdn1HAQAAAAAAAAAAPEELvkmwtXZqklOTZMWKFa3XYHbcOzn8vb2G8ER89us35YQ7rsy7Vx6YbV60V9/hAAAAAAAAAAAAsImZJ7pIrL3rnvzJF67Ji37uyXn9oU/vOxwAAAAAAAAAAADGoNcmwar6dJKLkuxbVWur6rg+45lWrbWc8Lkr01rL+446OEuWVN8hAQAAAAAAAAAAMAa9jhturR3T5+dfLP7u6zflq6vvyHt+/aDsseOT+g4HAAAAAAAAAACAMTFueMrdfOc9ec8XrsnPP2On/MYhe/YdDgAAAAAAAAAAAGOkSXCKbdjQ8rtnX5ElVTnpNc9KlTHDAAAAAAAAAAAAi4kmwSn2qYu/m4vW/DB/+Kv7Z/cdjBkGAAAAAAAAAABYbDQJTqmbfnhP/vTca/PSZ+6c171gj77DAQAAAAAAAAAAoAeaBKfQhg0t7zj78ixbUjnp1cYMAwAAAAAAAAAALFaaBKfQJy66MRffcGf+6MgD8rTtt+w7HAAAAAAAAAAAAHqiSXDK3HjHT3PSP1+bX9h357x2xe59hwMAAAAAAAAAAECPNAlOkY1jhjdbuiQnvfpgY4YBAAAAAAAAAAAWOU2CU+Rj//fGfOPGu3Lirx2Yp2y3Rd/hAAAAAAAAAAAA0DNNglNize0/yfvPuzav2G+XvOZ5u/UdDgAAAAAAAAAAAAuAJsEp8OCGlnecfUU2X7Y0f/rqZxkzDAAAAAAAAAAAQJJkWd8B8MSd/tUbcul378rJr3t2dt3WmGEAAAAAAAAAAAAG7CQ44Vbf9pP82b+syi8dsGte9RxjhgEAAAAAAAAAAPh3mgQn2GDM8OXZcvnSvOfXDzJmGAAAAAAAAAAAgIcwbniCnfaVNbnsph/lA0c/J7tsY8wwAAAAAAAAAAAAD2UnwQl13Q/uzp+f/50cduBT8spnP63vcAAAAAAAAAAAAFiANAlOoPUPbsjbz7o8Wy1fmne/yphhAAAAAAAAAAAA5mbc8AQ69Strcvnadfnr33hudt5m877DAQAAAAAAAAAAYIGyk+CEWfX9u/MX51+XI571lBx5sDHDAAAAAAAAAAAAzE+T4AR5oBszvM0Wy/LulQf1HQ4AAAAAAAAAAAALnHHDE+RvvnR9rvzeupzy+uflyVsbMwwAAAAAAAAAAMAjs5PghLjm1h/nAxdclyMPfmoOf9ZT+w4HAAAAAAAAAACACaBJcAJsHDO83Zab5V3GDAMAAAAAAAAAADAk44YnwIcuvD5X3/LjfPgNz8+OWy3vOxwAAAAAAAAAAAAmhJ0EF7irb1mXv/ridVn5nKflsIOe0nc4AAAAAAAAAAAATBBNggvY/es35O1nXZEdtlqeP/61A/sOBwAAAAAAAAAAgAlj3PAC9tcXrs41t/44H3njiuxgzDAAAAAAAAAAAACPkZ0EF6irvrcuH7pwdV793N3ySwfs2nc4AAAAAAAAAAAATCBNggvQfesfzNvPujw7brU8JxozDAAAAAAAAAAAwONk3PAC9FcXrM613787p79pRbZ70mZ9hwMAAAAAAAAAAMCEspPgAnPF2h/llC9dn6Oev3tevp8xwwAAAAAAAAAAADx+mgQXkI1jhnfeevP80ZEH9B0OAAAAAAAAAAAAE8644QXkA/96Xb7zg5/kY29+Qbbb0phhAAAAAAAAAAAAnhg7CS4Q37r5R/nwl67P61bskZftu0vf4QAAAAAAAAAAADAFNAkuAPc+8GDedua3suu2W+QPjty/73AAAAAAAAAAAACYEsYNLwAn/+t3cv3tP80n/vMh2XYLY4YBAAAAAAAAAAAYDTsJ9uybN92Vj3x5TY45ZM+89Jk79x0OAAAAAAAAAAAAU0STYI/ufeDBvP2sy/PU7bbM7x+xX9/hAAAAAAAAAAAAMGWMG+7Rn//Lqqy5/af52+MOzTbGDAMAAAAAAAAAADBive4kWFWHVdWqqlpdVSf0Gcu4XXLjnTntqzfk9YfumZ/fZ6e+wwEAAAAAAAAAAGAK9dYkWFVLk3wwyeFJDkhyTFUd0Fc84/T/7n8w7zj7iuy2/ZZ55xH79x0OAAAAAAAAAAAAU6rPnQQPSbK6tbamtXZ/ks8kWdljPGPz/vNW5YY7fpr3HXVwtt7cxGcAAAAAAAAAAAA2jT471HZLcvOM47VJDu0plqFcfcu6/N7nrkhryYaWtNbSWtLSZh0nG7rbGz+21n52/ra778sbX/T0vPg/GDMMAAAAAAAAAADAptNnk2DNca497KKq45McnyR77rnnpo7pES1fuiS7bLNFllSSVJZUUpUsqcqSqqS7XUl3X2Vw+qHXPnnr5XnLy57R69cCAAAAAAAAAADA9OuzSXBtkj1mHO+e5JbZF7XWTk1yapKsWLHiYU2E47TPrtvk9De9oM8QAAAAAAAAAAAAYGhLevzc30iyT1XtXVXLkxyd5Jwe4wEAAAAAAAAAAIAUbyHtAAAL2klEQVSp0ttOgq219VX11iTnJVma5PTW2tV9xQMAAAAAAAAAAADTps9xw2mtnZvk3D5jAAAAAAAAAAAAgGnV57hhAAAAAAAAAAAAYBPSJAgAAAAAAAAAAABTSpMgAAAAAAAAAAAATClNggAAAAAAAAAAADClNAkCAAAAAAAAAADAlNIkCAAAAAAAAAAAAFNKkyAAAAAAAAAAAABMKU2CAAAAAAAAAAAAMKU0CQIAADCnqjqsqlZV1eqqOmGO+zevqs92919cVXuNP0oAAADmo64DAAASTYIAAADMoaqWJvlgksOTHJDkmKo6YNZlxyW5q7X2jCQnJ3nveKMEAABgPuo6AABgI02CAAAAzOWQJKtba2taa/cn+UySlbOuWZnk493ts5O8oqpqjDECAAAwP3UdAACQRJMgAAAAc9styc0zjtd25+a8prW2Psm6JE8eS3QAAAA8GnUdAACQJFnWdwCPxaWXXnpHVX237ziS7JTkjr6DYMGRF8xFXjAXecF85AZzWQh58fSePz/9mGvniPY4rklVHZ/k+O7wvqq66gnGBhsthDWS6SGfGBW5xCjJJ0Zp374DYOzUdUwCr3WMknxilOQToyKXGKXHXddNVJNga23nvmNIkqq6pLW2ou84WFjkBXORF8xFXjAfucFc5AU9WptkjxnHuye5ZZ5r1lbVsiTbJblz9gO11k5Ncmoipxkt+cQoySdGRS4xSvKJUaqqS/qOgbFT17HgySdGST4xSvKJUZFLjNITqeuMGwYAAGAu30iyT1XtXVXLkxyd5JxZ15yT5Nju9lFJvthae9iOEwAAAPRCXQcAACSZsJ0EAQAAGI/W2vqqemuS85IsTXJ6a+3qqnpXkktaa+ck+WiST1bV6gx2mji6v4gBAACYSV0HAABspEnw8Tm17wBYkOQFc5EXzEVeMB+5wVzkBb1prZ2b5NxZ5/7HjNv3JnntY3xYOc0oySdGST4xKnKJUZJPjJJ8WoTUdUwA+cQoySdGST4xKnKJUXrc+VR2DAcAAAAAAAAAAIDptKTvAAAAAAAAAAAAAIBNQ5PgY1BVh1XVqqpaXVUn9B0Pm1ZV7VFVF1bVNVV1dVX9Vnd+x6o6v6qu6z7u0J2vqvrLLj+uqKrnzXisY7vrr6uqY/v6mhidqlpaVZdV1T92x3tX1cXdc/zZqlrend+8O17d3b/XjMd4Z3d+VVX9Sj9fCaNUVdtX1dlVdW23drzImkFV/U73OnJVVX26qrawZiw+VXV6Vd1WVVfNODey9aGqnl9VV3b/5y+rqsb7FcLDPVr99EhrHsw2RD7996r6drduXlBVT+8jTha+R8ulGdcdVVWtqlaMMz4myzD5VFX/sVufrq6qvxt3jEyOIV7r9qzBzyov617vjugjTha+uerPWffPW3PCbOo6Rkldxyip7RgVdR2jpK5jVDZVXadJcEhVtTTJB5McnuSAJMdU1QH9RsUmtj7J21pr+yd5YZK3dM/5CUkuaK3tk+SC7jgZ5MY+3b/jk5ySDBoAkpyY5NAkhyQ5sbomACbabyW5Zsbxe5Oc3OXFXUmO684fl+Su1tozkpzcXZcul45OcmCSw5J8qFtnmGwfSPLPrbX9kjw7gxyxZixiVbVbkv+WZEVr7aAkSzP43rdmLD5nZPDczTTK9eGU7tqN/2/254KxGrJ+mnPNg9mGzKfLMni9PTjJ2UneN94omQTD/mynqrbJ4D3cxeONkEkyTD5V1T5J3pnkJa21A5P89tgDZSIMuT79YZIzW2vPzaA+/NB4o2SCnJFHrgnnrDlhNnUdo6SuY5TUdoyKuo5RUtcxYmdkE9R1mgSHd0iS1a21Na21+5N8JsnKnmNiE2qt3dpa+2Z3++4Mmn12y+B5/3h32ceTvKq7vTLJJ9rA15JsX1VPTfIrSc5vrd3ZWrsryfnxi/uJVlW7J/nVJKd1x5Xk5RkUrcnD82Jjvpyd5BXd9SuTfKa1dl9r7YYkqzNYZ5hQVbVtkpcm+WiStNbub639KNYMkmVJtqyqZUmelOTWWDMWndbal5PcOev0SNaH7r5tW2sXtdZakk/MeCzoyzD103xrHsz2qPnUWruwtXZPd/i1JLuPOUYmw7A/23l3Br+QvHecwTFxhsmn/5Lkg917t7TWbhtzjEyOYfKpJdm2u71dklvGGB8TZJ76c6b5ak6YTV3HKKnrGCW1HaOirmOU1HWMzKaq6zQJDm+3JDfPOF7bnWMR6LbIf24Gf2mya2vt1mTQSJhkl+6y+XJE7kyfv0jyu0k2dMdPTvKj1tr67njmc/yz57+7f113vbyYPj+X5PYkH+u2iD6tqraKNWNRa619L8mfJbkpg+bAdUkujTWDgVGtD7t1t2efhz4Ns27Nt+bBbI/1dfC4JP+0SSNiUj1qLlXVc5Ps0Vr7x3EGxkQaZm16ZpJnVtX/qaqvVZU/AGM+w+TTHyd5Q1WtTXJukt8cT2hMIT9jYFjqOkZJXccoqe0YFXUdo6SuY5weV12nSXB4c/3lUxt7FIxdVW2d5HNJfru19uNHunSOc+0RzjOBqurIJLe11i6deXqOS9uj3Ccvps+yJM9Lckq3RfRP8++jQ+ciNxaBbhTsyiR7J3lakq0y2P55NmsGMz3WPJAfLETD5KXcZVhD50pVvSHJiiTv36QRMakeMZeqakkGY/LeNraImGTDrE3LMhj78gtJjklyWlVtv4njYjINk0/HJDmjtbZ7kiOSfLJbt+Cx8j6cYanrGCV1HaOktmNU1HWMkrqOcXpc78Ml2/DWJtljxvHusfXn1KuqzTJoEPxUa+3z3ekfbNyms/u4cUvh+XJE7kyXlyR5ZVXdmMEWwS/PYGfB7btRoslDn+OfPf/d/dtlsC2svJg+a5Osba1d3B2fnUHToDVjcfvFJDe01m5vrT2Q5PNJXhxrBgOjWh/W5qHjV+QHC8Ew69Z8ax7MNtTrYFX9YpI/SPLK1tp9Y4qNyfJoubRNkoOS/FtX870wyTlVtWJsETJJhn2t+4fW2gOttRuSrMrgl0sw2zD5dFySM5OktXZRki2S7DSW6Jg2fsbAsNR1jJK6jlFS2zEq6jpGSV3HOD2uuk6T4PC+kWSfqtq7qpYnOTrJOT3HxCZUVZXko0muaa39rxl3nZPk2O72sUn+Ycb5N9bAC5Os60YHnpfkl6tqh25HqV/uzjGBWmvvbK3t3lrbK4N14IuttdcnuTDJUd1ls/NiY74c1V3fuvNHV9XmVbV3Bm8mvz6mL4NNoLX2/SQ3V9W+3alXJPl2rBmL3U1JXlhVT+peVzbmhTWDZETrQ3ff3VX1wi7P3jjjsaAvw9RP8615MNuj5lM3RuhvMvhF0m1zPAYkj5JLrbV1rbWdWmt7dTXf1zLIqUv6CZcFbpjXur9P8rIkqaqdMhhTtWasUTIphsmnmzKoKVNV+2fwy6Tbxxol02K+mhNmU9cxSuo6Rkltx6io6xgldR3j9LjqumWPdgEDrbX1VfXWDH45uzTJ6a21q3sOi03rJUn+U5Irq+pb3bnfT3JSkjOr6rgMFvHXdvedm8GWsKuT3JPkzUnSWruzqt6dwYtCkryrteYv6abP7yX5TFX9SZLLMmgwTffxk1W1OoO/oDw6SVprV1fVmRk0C61P8pbW2oPjD5sR+80kn+re+K3JYB1YEmvGotVau7iqzk7yzQy+1y9LcmqSL8SasahU1aczGEewU1WtTXJiRvue4r8mOSPJlkn+qfsHvZmvfqqqdyW5pLV2TuZZ82C2IfPp/Um2TnLWoF86N7XWXtlb0CxIQ+YSDGXIfNr4Rx7fTvJgkne01n7YX9QsVEPm09uSfKSqfieDEUJv0ojDXOapPzdLktbahzNPzQmzqesYJXUdo6S2Y1TUdYySuo5R2lR1Xck3AAAAAAAAAAAAmE7GDQMAAAAAAAAAAMCU0iQIAAAAAAAAAAAAU0qTIAAAAAAAAAAAAEwpTYIAAAAAAAAAAAAwpTQJAgAAAAAAAAAAwJTSJAgAAAAAAAAAAABTSpMgAAAAAAAAAAAATClNggAAAAAAAAAAADCl/j+qykII4+A/SgAAAABJRU5ErkJggg==\n",
      "text/plain": [
       "<Figure size 3240x1080 with 6 Axes>"
      ]
     },
     "metadata": {
      "needs_background": "light"
     },
     "output_type": "display_data"
    }
   ],
   "source": [
    "fig, ax = plt.subplots(2, 3, figsize = (45,15))\n",
    "sns.lineplot(x = df_sample.index, y = df_sample['Current_Amp'], ax = ax[0][0])\n",
    "sns.lineplot(x = df_sample.index, y = df_sample['Cycle'].astype(int), ax = ax[0][0])\n",
    "#sns.scatterplot(x = idx3[0:20], y = df_sample['Current_Amp'].iloc[idx3[0:20]], ax = ax[0][0])\n",
    "sns.lineplot(x = df_sample.index, y = df_sample['Voltage_Volt'], ax = ax[0][1])\n",
    "sns.lineplot(x = df_sample.index, y = df_sample['Cycle'].astype(int), ax = ax[0][1])\n",
    "sns.lineplot(x = df_sample.index, y = df_sample['Charge_Ah'], ax = ax[0][2])\n",
    "sns.lineplot(x = df_sample.index, y = df_sample['Cycle'].astype(int), ax = ax[0][2])\n",
    "sns.lineplot(x = df_sample.index, y = df_sample['Discharge_Ah'], ax = ax[1][0])\n",
    "sns.lineplot(x = df_sample.index, y = df_sample['Cycle'].astype(int), ax = ax[1][0])"
   ]
  },
  {
   "cell_type": "markdown",
   "metadata": {},
   "source": []
  },
  {
   "cell_type": "code",
   "execution_count": 35,
   "metadata": {},
   "outputs": [
    {
     "data": {
      "text/plain": [
       "<matplotlib.axes._subplots.AxesSubplot at 0x7fb364cfa390>"
      ]
     },
     "execution_count": 35,
     "metadata": {},
     "output_type": "execute_result"
    }
   ],
   "source": [
    "# PLot current and voltage together\n",
    "sns.lineplot(x = df_sample.index, y = df_sample['Current_Amp'], ax = ax[0][0])\n",
    "sns.lineplot(x = df_sample.index, y = df_sample['Cycle'].astype(int), ax = ax[0][0])\n",
    "#sns.scatterplot(x = idx3[0:20], y = df_sample['Current_Amp'].iloc[idx3[0:20]], ax = ax[0][0])\n",
    "sns.lineplot(x = df_sample.index, y = df_sample['Voltage_Volt'], ax = ax[0][1])"
   ]
  },
  {
   "cell_type": "code",
   "execution_count": 36,
   "metadata": {},
   "outputs": [],
   "source": [
    "df_grouped = df_pl12_indexed.groupby(['Cycle']).count()"
   ]
  },
  {
   "cell_type": "code",
   "execution_count": 37,
   "metadata": {},
   "outputs": [
    {
     "data": {
      "text/html": [
       "<div>\n",
       "<style scoped>\n",
       "    .dataframe tbody tr th:only-of-type {\n",
       "        vertical-align: middle;\n",
       "    }\n",
       "\n",
       "    .dataframe tbody tr th {\n",
       "        vertical-align: top;\n",
       "    }\n",
       "\n",
       "    .dataframe thead th {\n",
       "        text-align: right;\n",
       "    }\n",
       "</style>\n",
       "<table border=\"1\" class=\"dataframe\">\n",
       "  <thead>\n",
       "    <tr style=\"text-align: right;\">\n",
       "      <th></th>\n",
       "      <th>Time_sec</th>\n",
       "      <th>Date_Time</th>\n",
       "      <th>Step</th>\n",
       "      <th>Current_Amp</th>\n",
       "      <th>Voltage_Volt</th>\n",
       "      <th>Charge_Ah</th>\n",
       "      <th>Discharge_Ah</th>\n",
       "      <th>Date_Time_new</th>\n",
       "    </tr>\n",
       "    <tr>\n",
       "      <th>Cycle</th>\n",
       "      <th></th>\n",
       "      <th></th>\n",
       "      <th></th>\n",
       "      <th></th>\n",
       "      <th></th>\n",
       "      <th></th>\n",
       "      <th></th>\n",
       "      <th></th>\n",
       "    </tr>\n",
       "  </thead>\n",
       "  <tbody>\n",
       "    <tr>\n",
       "      <th>1</th>\n",
       "      <td>2768</td>\n",
       "      <td>2768</td>\n",
       "      <td>2768</td>\n",
       "      <td>2768</td>\n",
       "      <td>2768</td>\n",
       "      <td>2768</td>\n",
       "      <td>2768</td>\n",
       "      <td>2768</td>\n",
       "    </tr>\n",
       "    <tr>\n",
       "      <th>2</th>\n",
       "      <td>1290</td>\n",
       "      <td>1290</td>\n",
       "      <td>1290</td>\n",
       "      <td>1290</td>\n",
       "      <td>1290</td>\n",
       "      <td>1290</td>\n",
       "      <td>1290</td>\n",
       "      <td>1290</td>\n",
       "    </tr>\n",
       "    <tr>\n",
       "      <th>3</th>\n",
       "      <td>1264</td>\n",
       "      <td>1264</td>\n",
       "      <td>1264</td>\n",
       "      <td>1264</td>\n",
       "      <td>1264</td>\n",
       "      <td>1264</td>\n",
       "      <td>1264</td>\n",
       "      <td>1264</td>\n",
       "    </tr>\n",
       "    <tr>\n",
       "      <th>4</th>\n",
       "      <td>1253</td>\n",
       "      <td>1253</td>\n",
       "      <td>1253</td>\n",
       "      <td>1253</td>\n",
       "      <td>1253</td>\n",
       "      <td>1253</td>\n",
       "      <td>1253</td>\n",
       "      <td>1253</td>\n",
       "    </tr>\n",
       "    <tr>\n",
       "      <th>5</th>\n",
       "      <td>1253</td>\n",
       "      <td>1253</td>\n",
       "      <td>1253</td>\n",
       "      <td>1253</td>\n",
       "      <td>1253</td>\n",
       "      <td>1253</td>\n",
       "      <td>1253</td>\n",
       "      <td>1253</td>\n",
       "    </tr>\n",
       "    <tr>\n",
       "      <th>6</th>\n",
       "      <td>1249</td>\n",
       "      <td>1249</td>\n",
       "      <td>1249</td>\n",
       "      <td>1249</td>\n",
       "      <td>1249</td>\n",
       "      <td>1249</td>\n",
       "      <td>1249</td>\n",
       "      <td>1249</td>\n",
       "    </tr>\n",
       "    <tr>\n",
       "      <th>7</th>\n",
       "      <td>1239</td>\n",
       "      <td>1239</td>\n",
       "      <td>1239</td>\n",
       "      <td>1239</td>\n",
       "      <td>1239</td>\n",
       "      <td>1239</td>\n",
       "      <td>1239</td>\n",
       "      <td>1239</td>\n",
       "    </tr>\n",
       "    <tr>\n",
       "      <th>8</th>\n",
       "      <td>1240</td>\n",
       "      <td>1240</td>\n",
       "      <td>1240</td>\n",
       "      <td>1240</td>\n",
       "      <td>1240</td>\n",
       "      <td>1240</td>\n",
       "      <td>1240</td>\n",
       "      <td>1240</td>\n",
       "    </tr>\n",
       "    <tr>\n",
       "      <th>9</th>\n",
       "      <td>1242</td>\n",
       "      <td>1242</td>\n",
       "      <td>1242</td>\n",
       "      <td>1242</td>\n",
       "      <td>1242</td>\n",
       "      <td>1242</td>\n",
       "      <td>1242</td>\n",
       "      <td>1242</td>\n",
       "    </tr>\n",
       "    <tr>\n",
       "      <th>10</th>\n",
       "      <td>1235</td>\n",
       "      <td>1235</td>\n",
       "      <td>1235</td>\n",
       "      <td>1235</td>\n",
       "      <td>1235</td>\n",
       "      <td>1235</td>\n",
       "      <td>1235</td>\n",
       "      <td>1235</td>\n",
       "    </tr>\n",
       "    <tr>\n",
       "      <th>11</th>\n",
       "      <td>1236</td>\n",
       "      <td>1236</td>\n",
       "      <td>1236</td>\n",
       "      <td>1236</td>\n",
       "      <td>1236</td>\n",
       "      <td>1236</td>\n",
       "      <td>1236</td>\n",
       "      <td>1236</td>\n",
       "    </tr>\n",
       "    <tr>\n",
       "      <th>12</th>\n",
       "      <td>1233</td>\n",
       "      <td>1233</td>\n",
       "      <td>1233</td>\n",
       "      <td>1233</td>\n",
       "      <td>1233</td>\n",
       "      <td>1233</td>\n",
       "      <td>1233</td>\n",
       "      <td>1233</td>\n",
       "    </tr>\n",
       "    <tr>\n",
       "      <th>13</th>\n",
       "      <td>1233</td>\n",
       "      <td>1233</td>\n",
       "      <td>1233</td>\n",
       "      <td>1233</td>\n",
       "      <td>1233</td>\n",
       "      <td>1233</td>\n",
       "      <td>1233</td>\n",
       "      <td>1233</td>\n",
       "    </tr>\n",
       "    <tr>\n",
       "      <th>14</th>\n",
       "      <td>1236</td>\n",
       "      <td>1236</td>\n",
       "      <td>1236</td>\n",
       "      <td>1236</td>\n",
       "      <td>1236</td>\n",
       "      <td>1236</td>\n",
       "      <td>1236</td>\n",
       "      <td>1236</td>\n",
       "    </tr>\n",
       "    <tr>\n",
       "      <th>15</th>\n",
       "      <td>1234</td>\n",
       "      <td>1234</td>\n",
       "      <td>1234</td>\n",
       "      <td>1234</td>\n",
       "      <td>1234</td>\n",
       "      <td>1234</td>\n",
       "      <td>1234</td>\n",
       "      <td>1234</td>\n",
       "    </tr>\n",
       "    <tr>\n",
       "      <th>16</th>\n",
       "      <td>1236</td>\n",
       "      <td>1236</td>\n",
       "      <td>1236</td>\n",
       "      <td>1236</td>\n",
       "      <td>1236</td>\n",
       "      <td>1236</td>\n",
       "      <td>1236</td>\n",
       "      <td>1236</td>\n",
       "    </tr>\n",
       "    <tr>\n",
       "      <th>17</th>\n",
       "      <td>1234</td>\n",
       "      <td>1234</td>\n",
       "      <td>1234</td>\n",
       "      <td>1234</td>\n",
       "      <td>1234</td>\n",
       "      <td>1234</td>\n",
       "      <td>1234</td>\n",
       "      <td>1234</td>\n",
       "    </tr>\n",
       "    <tr>\n",
       "      <th>18</th>\n",
       "      <td>1238</td>\n",
       "      <td>1238</td>\n",
       "      <td>1238</td>\n",
       "      <td>1238</td>\n",
       "      <td>1238</td>\n",
       "      <td>1238</td>\n",
       "      <td>1238</td>\n",
       "      <td>1238</td>\n",
       "    </tr>\n",
       "    <tr>\n",
       "      <th>19</th>\n",
       "      <td>1238</td>\n",
       "      <td>1238</td>\n",
       "      <td>1238</td>\n",
       "      <td>1238</td>\n",
       "      <td>1238</td>\n",
       "      <td>1238</td>\n",
       "      <td>1238</td>\n",
       "      <td>1238</td>\n",
       "    </tr>\n",
       "    <tr>\n",
       "      <th>20</th>\n",
       "      <td>1236</td>\n",
       "      <td>1236</td>\n",
       "      <td>1236</td>\n",
       "      <td>1236</td>\n",
       "      <td>1236</td>\n",
       "      <td>1236</td>\n",
       "      <td>1236</td>\n",
       "      <td>1236</td>\n",
       "    </tr>\n",
       "  </tbody>\n",
       "</table>\n",
       "</div>"
      ],
      "text/plain": [
       "       Time_sec  Date_Time  Step  Current_Amp  Voltage_Volt  Charge_Ah  \\\n",
       "Cycle                                                                    \n",
       "1          2768       2768  2768         2768          2768       2768   \n",
       "2          1290       1290  1290         1290          1290       1290   \n",
       "3          1264       1264  1264         1264          1264       1264   \n",
       "4          1253       1253  1253         1253          1253       1253   \n",
       "5          1253       1253  1253         1253          1253       1253   \n",
       "6          1249       1249  1249         1249          1249       1249   \n",
       "7          1239       1239  1239         1239          1239       1239   \n",
       "8          1240       1240  1240         1240          1240       1240   \n",
       "9          1242       1242  1242         1242          1242       1242   \n",
       "10         1235       1235  1235         1235          1235       1235   \n",
       "11         1236       1236  1236         1236          1236       1236   \n",
       "12         1233       1233  1233         1233          1233       1233   \n",
       "13         1233       1233  1233         1233          1233       1233   \n",
       "14         1236       1236  1236         1236          1236       1236   \n",
       "15         1234       1234  1234         1234          1234       1234   \n",
       "16         1236       1236  1236         1236          1236       1236   \n",
       "17         1234       1234  1234         1234          1234       1234   \n",
       "18         1238       1238  1238         1238          1238       1238   \n",
       "19         1238       1238  1238         1238          1238       1238   \n",
       "20         1236       1236  1236         1236          1236       1236   \n",
       "\n",
       "       Discharge_Ah  Date_Time_new  \n",
       "Cycle                               \n",
       "1              2768           2768  \n",
       "2              1290           1290  \n",
       "3              1264           1264  \n",
       "4              1253           1253  \n",
       "5              1253           1253  \n",
       "6              1249           1249  \n",
       "7              1239           1239  \n",
       "8              1240           1240  \n",
       "9              1242           1242  \n",
       "10             1235           1235  \n",
       "11             1236           1236  \n",
       "12             1233           1233  \n",
       "13             1233           1233  \n",
       "14             1236           1236  \n",
       "15             1234           1234  \n",
       "16             1236           1236  \n",
       "17             1234           1234  \n",
       "18             1238           1238  \n",
       "19             1238           1238  \n",
       "20             1236           1236  "
      ]
     },
     "execution_count": 37,
     "metadata": {},
     "output_type": "execute_result"
    }
   ],
   "source": [
    "df_grouped.head(20)"
   ]
  },
  {
   "cell_type": "code",
   "execution_count": 38,
   "metadata": {},
   "outputs": [],
   "source": [
    "cycle_start_indices = df_grouped['Time_sec'].cumsum()"
   ]
  },
  {
   "cell_type": "code",
   "execution_count": 39,
   "metadata": {},
   "outputs": [
    {
     "data": {
      "text/plain": [
       "2768"
      ]
     },
     "execution_count": 39,
     "metadata": {},
     "output_type": "execute_result"
    }
   ],
   "source": [
    "cycle_start_indices.iloc[0]"
   ]
  },
  {
   "cell_type": "code",
   "execution_count": 40,
   "metadata": {},
   "outputs": [
    {
     "data": {
      "text/plain": [
       "47"
      ]
     },
     "execution_count": 40,
     "metadata": {},
     "output_type": "execute_result"
    }
   ],
   "source": [
    "df_pl12_indexed['Cycle'].iloc[cycle_start_indices.iloc[45]]"
   ]
  },
  {
   "cell_type": "code",
   "execution_count": 41,
   "metadata": {},
   "outputs": [
    {
     "name": "stderr",
     "output_type": "stream",
     "text": [
      "/home/ubuntu_cp/anaconda3/envs/keras2/lib/python3.6/site-packages/pandas/core/indexing.py:190: SettingWithCopyWarning: \n",
      "A value is trying to be set on a copy of a slice from a DataFrame\n",
      "\n",
      "See the caveats in the documentation: http://pandas.pydata.org/pandas-docs/stable/indexing.html#indexing-view-versus-copy\n",
      "  self._setitem_with_indexer(indexer, value)\n"
     ]
    }
   ],
   "source": [
    "df_pl12_indexed['Charge_cycle_Ah'] = df_pl12_indexed['Charge_Ah'] \n",
    "for i in range(1, len(cycle_start_indices)):\n",
    "    a = cycle_start_indices.iloc[i-1]\n",
    "    b = cycle_start_indices.iloc[i]\n",
    "    df_pl12_indexed['Charge_cycle_Ah'].iloc[a:b] =  df_pl12_indexed['Charge_Ah'].iloc[a:b] - max(df_pl12_indexed['Charge_Ah'].iloc[0:a]) "
   ]
  },
  {
   "cell_type": "code",
   "execution_count": 42,
   "metadata": {},
   "outputs": [
    {
     "data": {
      "text/html": [
       "<div>\n",
       "<style scoped>\n",
       "    .dataframe tbody tr th:only-of-type {\n",
       "        vertical-align: middle;\n",
       "    }\n",
       "\n",
       "    .dataframe tbody tr th {\n",
       "        vertical-align: top;\n",
       "    }\n",
       "\n",
       "    .dataframe thead th {\n",
       "        text-align: right;\n",
       "    }\n",
       "</style>\n",
       "<table border=\"1\" class=\"dataframe\">\n",
       "  <thead>\n",
       "    <tr style=\"text-align: right;\">\n",
       "      <th></th>\n",
       "      <th>Time_sec</th>\n",
       "      <th>Date_Time</th>\n",
       "      <th>Step</th>\n",
       "      <th>Cycle</th>\n",
       "      <th>Current_Amp</th>\n",
       "      <th>Voltage_Volt</th>\n",
       "      <th>Charge_Ah</th>\n",
       "      <th>Discharge_Ah</th>\n",
       "      <th>Date_Time_new</th>\n",
       "      <th>Charge_cycle_Ah</th>\n",
       "    </tr>\n",
       "  </thead>\n",
       "  <tbody>\n",
       "    <tr>\n",
       "      <th>0</th>\n",
       "      <td>10.000357</td>\n",
       "      <td>735819.421979</td>\n",
       "      <td>1</td>\n",
       "      <td>1</td>\n",
       "      <td>0.0</td>\n",
       "      <td>4.190699</td>\n",
       "      <td>0.0</td>\n",
       "      <td>0.0</td>\n",
       "      <td>2014-08-08 10:07:39.000032</td>\n",
       "      <td>0.0</td>\n",
       "    </tr>\n",
       "    <tr>\n",
       "      <th>1</th>\n",
       "      <td>20.000433</td>\n",
       "      <td>735819.422095</td>\n",
       "      <td>1</td>\n",
       "      <td>1</td>\n",
       "      <td>0.0</td>\n",
       "      <td>4.190699</td>\n",
       "      <td>0.0</td>\n",
       "      <td>0.0</td>\n",
       "      <td>2014-08-08 10:07:48.999967</td>\n",
       "      <td>0.0</td>\n",
       "    </tr>\n",
       "    <tr>\n",
       "      <th>2</th>\n",
       "      <td>30.016045</td>\n",
       "      <td>735819.422211</td>\n",
       "      <td>1</td>\n",
       "      <td>1</td>\n",
       "      <td>0.0</td>\n",
       "      <td>4.190861</td>\n",
       "      <td>0.0</td>\n",
       "      <td>0.0</td>\n",
       "      <td>2014-08-08 10:07:58.999984</td>\n",
       "      <td>0.0</td>\n",
       "    </tr>\n",
       "    <tr>\n",
       "      <th>3</th>\n",
       "      <td>40.031507</td>\n",
       "      <td>735819.422326</td>\n",
       "      <td>1</td>\n",
       "      <td>1</td>\n",
       "      <td>0.0</td>\n",
       "      <td>4.190537</td>\n",
       "      <td>0.0</td>\n",
       "      <td>0.0</td>\n",
       "      <td>2014-08-08 10:08:09.000020</td>\n",
       "      <td>0.0</td>\n",
       "    </tr>\n",
       "    <tr>\n",
       "      <th>4</th>\n",
       "      <td>50.047247</td>\n",
       "      <td>735819.422454</td>\n",
       "      <td>1</td>\n",
       "      <td>1</td>\n",
       "      <td>0.0</td>\n",
       "      <td>4.190861</td>\n",
       "      <td>0.0</td>\n",
       "      <td>0.0</td>\n",
       "      <td>2014-08-08 10:08:20.000031</td>\n",
       "      <td>0.0</td>\n",
       "    </tr>\n",
       "  </tbody>\n",
       "</table>\n",
       "</div>"
      ],
      "text/plain": [
       "    Time_sec      Date_Time Step Cycle  Current_Amp  Voltage_Volt  Charge_Ah  \\\n",
       "0  10.000357  735819.421979    1     1          0.0      4.190699        0.0   \n",
       "1  20.000433  735819.422095    1     1          0.0      4.190699        0.0   \n",
       "2  30.016045  735819.422211    1     1          0.0      4.190861        0.0   \n",
       "3  40.031507  735819.422326    1     1          0.0      4.190537        0.0   \n",
       "4  50.047247  735819.422454    1     1          0.0      4.190861        0.0   \n",
       "\n",
       "   Discharge_Ah              Date_Time_new  Charge_cycle_Ah  \n",
       "0           0.0 2014-08-08 10:07:39.000032              0.0  \n",
       "1           0.0 2014-08-08 10:07:48.999967              0.0  \n",
       "2           0.0 2014-08-08 10:07:58.999984              0.0  \n",
       "3           0.0 2014-08-08 10:08:09.000020              0.0  \n",
       "4           0.0 2014-08-08 10:08:20.000031              0.0  "
      ]
     },
     "execution_count": 42,
     "metadata": {},
     "output_type": "execute_result"
    }
   ],
   "source": [
    "df_pl12_indexed.head()"
   ]
  },
  {
   "cell_type": "code",
   "execution_count": 43,
   "metadata": {},
   "outputs": [],
   "source": [
    "#plt.plot(df_pl12_indexed['Charge_cycle_Ah'])"
   ]
  },
  {
   "cell_type": "code",
   "execution_count": 44,
   "metadata": {},
   "outputs": [],
   "source": [
    "df_pl12_indexed['Discharge_cycle_Ah'] = df_pl12_indexed['Discharge_Ah'] \n",
    "for i in range(1, len(cycle_start_indices)):\n",
    "    a = cycle_start_indices.iloc[i-1]\n",
    "    b = cycle_start_indices.iloc[i]\n",
    "    df_pl12_indexed['Discharge_cycle_Ah'].iloc[a:b] =  df_pl12_indexed['Discharge_Ah'].iloc[a:b] - max(df_pl12_indexed['Discharge_Ah'].iloc[0:a]) "
   ]
  },
  {
   "cell_type": "code",
   "execution_count": 45,
   "metadata": {},
   "outputs": [],
   "source": [
    "#plt.plot(df_pl12_indexed['Discharge_cycle_Ah'])\n",
    "#plt.plot(df_pl12_indexed['Cycle'].iloc[0:5000])\n",
    "#plt.plot(df_pl12_indexed['Current_Amp'].iloc[0:5000])"
   ]
  },
  {
   "cell_type": "code",
   "execution_count": 46,
   "metadata": {},
   "outputs": [],
   "source": [
    "# Get plots of maximum charge and discharge capacity per cycle \n",
    "max_charge_capacity_per_cycle = df_pl12_indexed.groupby(['Cycle'])['Charge_cycle_Ah'].max()\n",
    "max_discharge_capacity_per_cycle = df_pl12_indexed.groupby(['Cycle'])['Discharge_cycle_Ah'].max()"
   ]
  },
  {
   "cell_type": "code",
   "execution_count": 47,
   "metadata": {},
   "outputs": [],
   "source": [
    "# Get the index of these maximum charge capacity records\n",
    "cycle_charge_max_index = []\n",
    "for (cycle, group) in df_pl12_indexed.groupby('Cycle'):\n",
    "    charge_list = np.array(group['Charge_cycle_Ah'])\n",
    "    cycle_charge_max_index.append(np.argmax(charge_list))"
   ]
  },
  {
   "cell_type": "code",
   "execution_count": 48,
   "metadata": {},
   "outputs": [],
   "source": [
    "# Cycle with no current \n",
    "df_101  = df_pl12_indexed.loc[df_pl12_indexed['Cycle']==101]"
   ]
  },
  {
   "cell_type": "code",
   "execution_count": 49,
   "metadata": {},
   "outputs": [
    {
     "name": "stdout",
     "output_type": "stream",
     "text": [
      "<class 'pandas.core.frame.DataFrame'>\n",
      "Int64Index: 2 entries, 126664 to 126665\n",
      "Data columns (total 11 columns):\n",
      "Time_sec              2 non-null float64\n",
      "Date_Time             2 non-null float64\n",
      "Step                  2 non-null object\n",
      "Cycle                 2 non-null object\n",
      "Current_Amp           2 non-null float64\n",
      "Voltage_Volt          2 non-null float64\n",
      "Charge_Ah             2 non-null float64\n",
      "Discharge_Ah          2 non-null float64\n",
      "Date_Time_new         2 non-null datetime64[ns]\n",
      "Charge_cycle_Ah       2 non-null float64\n",
      "Discharge_cycle_Ah    2 non-null float64\n",
      "dtypes: datetime64[ns](1), float64(8), object(2)\n",
      "memory usage: 192.0+ bytes\n"
     ]
    }
   ],
   "source": [
    "df_101.info()"
   ]
  },
  {
   "cell_type": "code",
   "execution_count": 50,
   "metadata": {},
   "outputs": [
    {
     "data": {
      "text/plain": [
       "0.0"
      ]
     },
     "execution_count": 50,
     "metadata": {},
     "output_type": "execute_result"
    }
   ],
   "source": [
    "df_101['Charge_cycle_Ah'].max()"
   ]
  },
  {
   "cell_type": "code",
   "execution_count": 51,
   "metadata": {},
   "outputs": [],
   "source": [
    "#plt.plot(df_101['Voltage_Volt'])"
   ]
  },
  {
   "cell_type": "code",
   "execution_count": 52,
   "metadata": {},
   "outputs": [
    {
     "data": {
      "text/plain": [
       "1017"
      ]
     },
     "execution_count": 52,
     "metadata": {},
     "output_type": "execute_result"
    }
   ],
   "source": [
    "len(cycle_charge_max_index)"
   ]
  },
  {
   "cell_type": "code",
   "execution_count": 53,
   "metadata": {},
   "outputs": [],
   "source": [
    "#plt.plot(max_charge_capacity_per_cycle[90:110])\n",
    "#plt.plot(max_discharge_capacity_per_cycle)"
   ]
  },
  {
   "cell_type": "code",
   "execution_count": 54,
   "metadata": {},
   "outputs": [],
   "source": [
    "# Cycle with maximum capacity \n",
    "#df_102  = df_pl12_indexed.loc[df_pl12_indexed['Cycle']==102]"
   ]
  },
  {
   "cell_type": "code",
   "execution_count": 55,
   "metadata": {},
   "outputs": [],
   "source": [
    "#df_102['Charge_cycle_Ah'].max()"
   ]
  },
  {
   "cell_type": "code",
   "execution_count": 56,
   "metadata": {},
   "outputs": [
    {
     "ename": "NameError",
     "evalue": "name 'df_102' is not defined",
     "output_type": "error",
     "traceback": [
      "\u001b[0;31m---------------------------------------------------------------------------\u001b[0m",
      "\u001b[0;31mNameError\u001b[0m                                 Traceback (most recent call last)",
      "\u001b[0;32m<ipython-input-56-1430dc582bf4>\u001b[0m in \u001b[0;36m<module>\u001b[0;34m\u001b[0m\n\u001b[0;32m----> 1\u001b[0;31m \u001b[0mplt\u001b[0m\u001b[0;34m.\u001b[0m\u001b[0mplot\u001b[0m\u001b[0;34m(\u001b[0m\u001b[0mdf_102\u001b[0m\u001b[0;34m[\u001b[0m\u001b[0;34m'Current_Amp'\u001b[0m\u001b[0;34m]\u001b[0m\u001b[0;34m)\u001b[0m\u001b[0;34m\u001b[0m\u001b[0;34m\u001b[0m\u001b[0m\n\u001b[0m\u001b[1;32m      2\u001b[0m \u001b[0mplt\u001b[0m\u001b[0;34m.\u001b[0m\u001b[0mplot\u001b[0m\u001b[0;34m(\u001b[0m\u001b[0mdf_102\u001b[0m\u001b[0;34m[\u001b[0m\u001b[0;34m'Charge_cycle_Ah'\u001b[0m\u001b[0;34m]\u001b[0m\u001b[0;34m)\u001b[0m\u001b[0;34m\u001b[0m\u001b[0;34m\u001b[0m\u001b[0m\n\u001b[1;32m      3\u001b[0m \u001b[0mplt\u001b[0m\u001b[0;34m.\u001b[0m\u001b[0mplot\u001b[0m\u001b[0;34m(\u001b[0m\u001b[0mdf_102\u001b[0m\u001b[0;34m[\u001b[0m\u001b[0;34m'Discharge_cycle_Ah'\u001b[0m\u001b[0;34m]\u001b[0m\u001b[0;34m)\u001b[0m\u001b[0;34m\u001b[0m\u001b[0;34m\u001b[0m\u001b[0m\n",
      "\u001b[0;31mNameError\u001b[0m: name 'df_102' is not defined"
     ]
    }
   ],
   "source": []
  },
  {
   "cell_type": "code",
   "execution_count": null,
   "metadata": {},
   "outputs": [],
   "source": []
  },
  {
   "cell_type": "code",
   "execution_count": 57,
   "metadata": {},
   "outputs": [
    {
     "data": {
      "text/plain": [
       "0.0"
      ]
     },
     "execution_count": 57,
     "metadata": {},
     "output_type": "execute_result"
    }
   ],
   "source": [
    "min(max_charge_capacity_per_cycle)"
   ]
  },
  {
   "cell_type": "code",
   "execution_count": null,
   "metadata": {},
   "outputs": [],
   "source": []
  },
  {
   "cell_type": "code",
   "execution_count": 58,
   "metadata": {},
   "outputs": [],
   "source": [
    "# This is the data column we can use for prediction. This is not totally accurate, as this still has some points that go negative, due to incorrect discharge_Ah values every few cycles. \n",
    "# But the machine learning algorithm should consider these as outliers and hopefully get over it. We can come back and correct this. \n",
    "df_pl12_indexed['Capacity_cycle_Ah'] = df_pl12_indexed['Charge_cycle_Ah'] - df_pl12_indexed['Discharge_cycle_Ah']"
   ]
  },
  {
   "cell_type": "code",
   "execution_count": 59,
   "metadata": {},
   "outputs": [],
   "source": [
    "#plt.plot(df_pl12_indexed['Capacity_cycle_Ah'])\n"
   ]
  },
  {
   "cell_type": "code",
   "execution_count": 60,
   "metadata": {},
   "outputs": [],
   "source": [
    "from BattDeg import PL_samples_file_reader"
   ]
  },
  {
   "cell_type": "code",
   "execution_count": 61,
   "metadata": {},
   "outputs": [
    {
     "name": "stderr",
     "output_type": "stream",
     "text": [
      "/home/ubuntu_cp/anaconda3/envs/keras2/lib/python3.6/site-packages/pandas/core/indexing.py:190: SettingWithCopyWarning: \n",
      "A value is trying to be set on a copy of a slice from a DataFrame\n",
      "\n",
      "See the caveats in the documentation: http://pandas.pydata.org/pandas-docs/stable/indexing.html#indexing-view-versus-copy\n",
      "  self._setitem_with_indexer(indexer, value)\n"
     ]
    }
   ],
   "source": [
    "dff_pl12 = PL_samples_file_reader(\"/home/ubuntu_cp/uwdirect/BattDeg/data/PL 12,14\", \"PL12(3).csv\", [1, 2, 3])"
   ]
  },
  {
   "cell_type": "code",
   "execution_count": 62,
   "metadata": {},
   "outputs": [
    {
     "data": {
      "text/html": [
       "<div>\n",
       "<style scoped>\n",
       "    .dataframe tbody tr th:only-of-type {\n",
       "        vertical-align: middle;\n",
       "    }\n",
       "\n",
       "    .dataframe tbody tr th {\n",
       "        vertical-align: top;\n",
       "    }\n",
       "\n",
       "    .dataframe thead th {\n",
       "        text-align: right;\n",
       "    }\n",
       "</style>\n",
       "<table border=\"1\" class=\"dataframe\">\n",
       "  <thead>\n",
       "    <tr style=\"text-align: right;\">\n",
       "      <th></th>\n",
       "      <th>Time_sec</th>\n",
       "      <th>Date_Time</th>\n",
       "      <th>Step</th>\n",
       "      <th>Cycle</th>\n",
       "      <th>Current_Amp</th>\n",
       "      <th>Voltage_Volt</th>\n",
       "      <th>Charge_Ah</th>\n",
       "      <th>Discharge_Ah</th>\n",
       "      <th>Date_Time_new</th>\n",
       "      <th>Charge_cycle_Ah</th>\n",
       "      <th>Discharge_cycle_Ah</th>\n",
       "      <th>Capacity_cycle_Ah</th>\n",
       "    </tr>\n",
       "  </thead>\n",
       "  <tbody>\n",
       "    <tr>\n",
       "      <th>0</th>\n",
       "      <td>10.000357</td>\n",
       "      <td>735819.421979</td>\n",
       "      <td>1</td>\n",
       "      <td>1</td>\n",
       "      <td>0.0</td>\n",
       "      <td>4.190699</td>\n",
       "      <td>0.0</td>\n",
       "      <td>0.0</td>\n",
       "      <td>2014-08-08 10:07:39.000032</td>\n",
       "      <td>0.0</td>\n",
       "      <td>0.0</td>\n",
       "      <td>0.0</td>\n",
       "    </tr>\n",
       "    <tr>\n",
       "      <th>1</th>\n",
       "      <td>20.000433</td>\n",
       "      <td>735819.422095</td>\n",
       "      <td>1</td>\n",
       "      <td>1</td>\n",
       "      <td>0.0</td>\n",
       "      <td>4.190699</td>\n",
       "      <td>0.0</td>\n",
       "      <td>0.0</td>\n",
       "      <td>2014-08-08 10:07:48.999967</td>\n",
       "      <td>0.0</td>\n",
       "      <td>0.0</td>\n",
       "      <td>0.0</td>\n",
       "    </tr>\n",
       "    <tr>\n",
       "      <th>2</th>\n",
       "      <td>30.016045</td>\n",
       "      <td>735819.422211</td>\n",
       "      <td>1</td>\n",
       "      <td>1</td>\n",
       "      <td>0.0</td>\n",
       "      <td>4.190861</td>\n",
       "      <td>0.0</td>\n",
       "      <td>0.0</td>\n",
       "      <td>2014-08-08 10:07:58.999984</td>\n",
       "      <td>0.0</td>\n",
       "      <td>0.0</td>\n",
       "      <td>0.0</td>\n",
       "    </tr>\n",
       "    <tr>\n",
       "      <th>3</th>\n",
       "      <td>40.031507</td>\n",
       "      <td>735819.422326</td>\n",
       "      <td>1</td>\n",
       "      <td>1</td>\n",
       "      <td>0.0</td>\n",
       "      <td>4.190537</td>\n",
       "      <td>0.0</td>\n",
       "      <td>0.0</td>\n",
       "      <td>2014-08-08 10:08:09.000020</td>\n",
       "      <td>0.0</td>\n",
       "      <td>0.0</td>\n",
       "      <td>0.0</td>\n",
       "    </tr>\n",
       "    <tr>\n",
       "      <th>4</th>\n",
       "      <td>50.047247</td>\n",
       "      <td>735819.422454</td>\n",
       "      <td>1</td>\n",
       "      <td>1</td>\n",
       "      <td>0.0</td>\n",
       "      <td>4.190861</td>\n",
       "      <td>0.0</td>\n",
       "      <td>0.0</td>\n",
       "      <td>2014-08-08 10:08:20.000031</td>\n",
       "      <td>0.0</td>\n",
       "      <td>0.0</td>\n",
       "      <td>0.0</td>\n",
       "    </tr>\n",
       "  </tbody>\n",
       "</table>\n",
       "</div>"
      ],
      "text/plain": [
       "    Time_sec      Date_Time Step Cycle  Current_Amp  Voltage_Volt  Charge_Ah  \\\n",
       "0  10.000357  735819.421979    1     1          0.0      4.190699        0.0   \n",
       "1  20.000433  735819.422095    1     1          0.0      4.190699        0.0   \n",
       "2  30.016045  735819.422211    1     1          0.0      4.190861        0.0   \n",
       "3  40.031507  735819.422326    1     1          0.0      4.190537        0.0   \n",
       "4  50.047247  735819.422454    1     1          0.0      4.190861        0.0   \n",
       "\n",
       "   Discharge_Ah              Date_Time_new  Charge_cycle_Ah  \\\n",
       "0           0.0 2014-08-08 10:07:39.000032              0.0   \n",
       "1           0.0 2014-08-08 10:07:48.999967              0.0   \n",
       "2           0.0 2014-08-08 10:07:58.999984              0.0   \n",
       "3           0.0 2014-08-08 10:08:09.000020              0.0   \n",
       "4           0.0 2014-08-08 10:08:20.000031              0.0   \n",
       "\n",
       "   Discharge_cycle_Ah  Capacity_cycle_Ah  \n",
       "0                 0.0                0.0  \n",
       "1                 0.0                0.0  \n",
       "2                 0.0                0.0  \n",
       "3                 0.0                0.0  \n",
       "4                 0.0                0.0  "
      ]
     },
     "execution_count": 62,
     "metadata": {},
     "output_type": "execute_result"
    }
   ],
   "source": [
    "dff_pl12.head()"
   ]
  },
  {
   "cell_type": "code",
   "execution_count": 63,
   "metadata": {},
   "outputs": [
    {
     "data": {
      "text/plain": [
       "True"
      ]
     },
     "execution_count": 63,
     "metadata": {},
     "output_type": "execute_result"
    }
   ],
   "source": [
    "dff_pl12.equals(df_pl12_indexed)"
   ]
  },
  {
   "cell_type": "code",
   "execution_count": 64,
   "metadata": {},
   "outputs": [
    {
     "data": {
      "text/html": [
       "<div>\n",
       "<style scoped>\n",
       "    .dataframe tbody tr th:only-of-type {\n",
       "        vertical-align: middle;\n",
       "    }\n",
       "\n",
       "    .dataframe tbody tr th {\n",
       "        vertical-align: top;\n",
       "    }\n",
       "\n",
       "    .dataframe thead th {\n",
       "        text-align: right;\n",
       "    }\n",
       "</style>\n",
       "<table border=\"1\" class=\"dataframe\">\n",
       "  <thead>\n",
       "    <tr style=\"text-align: right;\">\n",
       "      <th></th>\n",
       "      <th>Time_sec</th>\n",
       "      <th>Date_Time</th>\n",
       "      <th>Step</th>\n",
       "      <th>Cycle</th>\n",
       "      <th>Current_Amp</th>\n",
       "      <th>Voltage_Volt</th>\n",
       "      <th>Charge_Ah</th>\n",
       "      <th>Discharge_Ah</th>\n",
       "      <th>Date_Time_new</th>\n",
       "      <th>Charge_cycle_Ah</th>\n",
       "      <th>Discharge_cycle_Ah</th>\n",
       "      <th>Capacity_cycle_Ah</th>\n",
       "    </tr>\n",
       "  </thead>\n",
       "  <tbody>\n",
       "    <tr>\n",
       "      <th>1784284</th>\n",
       "      <td>1.535516e+07</td>\n",
       "      <td>736177.947546</td>\n",
       "      <td>20</td>\n",
       "      <td>1017</td>\n",
       "      <td>0.0</td>\n",
       "      <td>4.193922</td>\n",
       "      <td>1065.513122</td>\n",
       "      <td>1055.442273</td>\n",
       "      <td>2015-08-01 22:44:27.999969</td>\n",
       "      <td>0.966498</td>\n",
       "      <td>4.202320e-09</td>\n",
       "      <td>0.966498</td>\n",
       "    </tr>\n",
       "    <tr>\n",
       "      <th>1784285</th>\n",
       "      <td>1.535517e+07</td>\n",
       "      <td>736177.947662</td>\n",
       "      <td>20</td>\n",
       "      <td>1017</td>\n",
       "      <td>0.0</td>\n",
       "      <td>4.194084</td>\n",
       "      <td>1065.513122</td>\n",
       "      <td>1055.442273</td>\n",
       "      <td>2015-08-01 22:44:37.999995</td>\n",
       "      <td>0.966498</td>\n",
       "      <td>4.202320e-09</td>\n",
       "      <td>0.966498</td>\n",
       "    </tr>\n",
       "    <tr>\n",
       "      <th>1784286</th>\n",
       "      <td>1.535518e+07</td>\n",
       "      <td>736177.947778</td>\n",
       "      <td>20</td>\n",
       "      <td>1017</td>\n",
       "      <td>0.0</td>\n",
       "      <td>4.194084</td>\n",
       "      <td>1065.513122</td>\n",
       "      <td>1055.442273</td>\n",
       "      <td>2015-08-01 22:44:48.000022</td>\n",
       "      <td>0.966498</td>\n",
       "      <td>4.202320e-09</td>\n",
       "      <td>0.966498</td>\n",
       "    </tr>\n",
       "    <tr>\n",
       "      <th>1784287</th>\n",
       "      <td>1.535519e+07</td>\n",
       "      <td>736177.947894</td>\n",
       "      <td>20</td>\n",
       "      <td>1017</td>\n",
       "      <td>0.0</td>\n",
       "      <td>4.194084</td>\n",
       "      <td>1065.513122</td>\n",
       "      <td>1055.442273</td>\n",
       "      <td>2015-08-01 22:44:57.999957</td>\n",
       "      <td>0.966498</td>\n",
       "      <td>4.202320e-09</td>\n",
       "      <td>0.966498</td>\n",
       "    </tr>\n",
       "    <tr>\n",
       "      <th>1784288</th>\n",
       "      <td>1.535520e+07</td>\n",
       "      <td>736177.947975</td>\n",
       "      <td>20</td>\n",
       "      <td>1017</td>\n",
       "      <td>0.0</td>\n",
       "      <td>4.194246</td>\n",
       "      <td>1065.513122</td>\n",
       "      <td>1055.442273</td>\n",
       "      <td>2015-08-01 22:45:05.000000</td>\n",
       "      <td>0.966498</td>\n",
       "      <td>4.202320e-09</td>\n",
       "      <td>0.966498</td>\n",
       "    </tr>\n",
       "  </tbody>\n",
       "</table>\n",
       "</div>"
      ],
      "text/plain": [
       "             Time_sec      Date_Time Step Cycle  Current_Amp  Voltage_Volt  \\\n",
       "1784284  1.535516e+07  736177.947546   20  1017          0.0      4.193922   \n",
       "1784285  1.535517e+07  736177.947662   20  1017          0.0      4.194084   \n",
       "1784286  1.535518e+07  736177.947778   20  1017          0.0      4.194084   \n",
       "1784287  1.535519e+07  736177.947894   20  1017          0.0      4.194084   \n",
       "1784288  1.535520e+07  736177.947975   20  1017          0.0      4.194246   \n",
       "\n",
       "           Charge_Ah  Discharge_Ah              Date_Time_new  \\\n",
       "1784284  1065.513122   1055.442273 2015-08-01 22:44:27.999969   \n",
       "1784285  1065.513122   1055.442273 2015-08-01 22:44:37.999995   \n",
       "1784286  1065.513122   1055.442273 2015-08-01 22:44:48.000022   \n",
       "1784287  1065.513122   1055.442273 2015-08-01 22:44:57.999957   \n",
       "1784288  1065.513122   1055.442273 2015-08-01 22:45:05.000000   \n",
       "\n",
       "         Charge_cycle_Ah  Discharge_cycle_Ah  Capacity_cycle_Ah  \n",
       "1784284         0.966498        4.202320e-09           0.966498  \n",
       "1784285         0.966498        4.202320e-09           0.966498  \n",
       "1784286         0.966498        4.202320e-09           0.966498  \n",
       "1784287         0.966498        4.202320e-09           0.966498  \n",
       "1784288         0.966498        4.202320e-09           0.966498  "
      ]
     },
     "execution_count": 64,
     "metadata": {},
     "output_type": "execute_result"
    }
   ],
   "source": [
    "dff_pl12.tail()"
   ]
  },
  {
   "cell_type": "code",
   "execution_count": 65,
   "metadata": {},
   "outputs": [
    {
     "data": {
      "text/html": [
       "<div>\n",
       "<style scoped>\n",
       "    .dataframe tbody tr th:only-of-type {\n",
       "        vertical-align: middle;\n",
       "    }\n",
       "\n",
       "    .dataframe tbody tr th {\n",
       "        vertical-align: top;\n",
       "    }\n",
       "\n",
       "    .dataframe thead th {\n",
       "        text-align: right;\n",
       "    }\n",
       "</style>\n",
       "<table border=\"1\" class=\"dataframe\">\n",
       "  <thead>\n",
       "    <tr style=\"text-align: right;\">\n",
       "      <th></th>\n",
       "      <th>Time_sec</th>\n",
       "      <th>Date_Time</th>\n",
       "      <th>Step</th>\n",
       "      <th>Cycle</th>\n",
       "      <th>Current_Amp</th>\n",
       "      <th>Voltage_Volt</th>\n",
       "      <th>Charge_Ah</th>\n",
       "      <th>Discharge_Ah</th>\n",
       "      <th>Date_Time_new</th>\n",
       "      <th>Charge_cycle_Ah</th>\n",
       "      <th>Discharge_cycle_Ah</th>\n",
       "      <th>Capacity_cycle_Ah</th>\n",
       "    </tr>\n",
       "  </thead>\n",
       "  <tbody>\n",
       "    <tr>\n",
       "      <th>1784284</th>\n",
       "      <td>1.535516e+07</td>\n",
       "      <td>736177.947546</td>\n",
       "      <td>20</td>\n",
       "      <td>1017</td>\n",
       "      <td>0.0</td>\n",
       "      <td>4.193922</td>\n",
       "      <td>1065.513122</td>\n",
       "      <td>1055.442273</td>\n",
       "      <td>2015-08-01 22:44:27.999969</td>\n",
       "      <td>0.966498</td>\n",
       "      <td>4.202320e-09</td>\n",
       "      <td>0.966498</td>\n",
       "    </tr>\n",
       "    <tr>\n",
       "      <th>1784285</th>\n",
       "      <td>1.535517e+07</td>\n",
       "      <td>736177.947662</td>\n",
       "      <td>20</td>\n",
       "      <td>1017</td>\n",
       "      <td>0.0</td>\n",
       "      <td>4.194084</td>\n",
       "      <td>1065.513122</td>\n",
       "      <td>1055.442273</td>\n",
       "      <td>2015-08-01 22:44:37.999995</td>\n",
       "      <td>0.966498</td>\n",
       "      <td>4.202320e-09</td>\n",
       "      <td>0.966498</td>\n",
       "    </tr>\n",
       "    <tr>\n",
       "      <th>1784286</th>\n",
       "      <td>1.535518e+07</td>\n",
       "      <td>736177.947778</td>\n",
       "      <td>20</td>\n",
       "      <td>1017</td>\n",
       "      <td>0.0</td>\n",
       "      <td>4.194084</td>\n",
       "      <td>1065.513122</td>\n",
       "      <td>1055.442273</td>\n",
       "      <td>2015-08-01 22:44:48.000022</td>\n",
       "      <td>0.966498</td>\n",
       "      <td>4.202320e-09</td>\n",
       "      <td>0.966498</td>\n",
       "    </tr>\n",
       "    <tr>\n",
       "      <th>1784287</th>\n",
       "      <td>1.535519e+07</td>\n",
       "      <td>736177.947894</td>\n",
       "      <td>20</td>\n",
       "      <td>1017</td>\n",
       "      <td>0.0</td>\n",
       "      <td>4.194084</td>\n",
       "      <td>1065.513122</td>\n",
       "      <td>1055.442273</td>\n",
       "      <td>2015-08-01 22:44:57.999957</td>\n",
       "      <td>0.966498</td>\n",
       "      <td>4.202320e-09</td>\n",
       "      <td>0.966498</td>\n",
       "    </tr>\n",
       "    <tr>\n",
       "      <th>1784288</th>\n",
       "      <td>1.535520e+07</td>\n",
       "      <td>736177.947975</td>\n",
       "      <td>20</td>\n",
       "      <td>1017</td>\n",
       "      <td>0.0</td>\n",
       "      <td>4.194246</td>\n",
       "      <td>1065.513122</td>\n",
       "      <td>1055.442273</td>\n",
       "      <td>2015-08-01 22:45:05.000000</td>\n",
       "      <td>0.966498</td>\n",
       "      <td>4.202320e-09</td>\n",
       "      <td>0.966498</td>\n",
       "    </tr>\n",
       "  </tbody>\n",
       "</table>\n",
       "</div>"
      ],
      "text/plain": [
       "             Time_sec      Date_Time Step Cycle  Current_Amp  Voltage_Volt  \\\n",
       "1784284  1.535516e+07  736177.947546   20  1017          0.0      4.193922   \n",
       "1784285  1.535517e+07  736177.947662   20  1017          0.0      4.194084   \n",
       "1784286  1.535518e+07  736177.947778   20  1017          0.0      4.194084   \n",
       "1784287  1.535519e+07  736177.947894   20  1017          0.0      4.194084   \n",
       "1784288  1.535520e+07  736177.947975   20  1017          0.0      4.194246   \n",
       "\n",
       "           Charge_Ah  Discharge_Ah              Date_Time_new  \\\n",
       "1784284  1065.513122   1055.442273 2015-08-01 22:44:27.999969   \n",
       "1784285  1065.513122   1055.442273 2015-08-01 22:44:37.999995   \n",
       "1784286  1065.513122   1055.442273 2015-08-01 22:44:48.000022   \n",
       "1784287  1065.513122   1055.442273 2015-08-01 22:44:57.999957   \n",
       "1784288  1065.513122   1055.442273 2015-08-01 22:45:05.000000   \n",
       "\n",
       "         Charge_cycle_Ah  Discharge_cycle_Ah  Capacity_cycle_Ah  \n",
       "1784284         0.966498        4.202320e-09           0.966498  \n",
       "1784285         0.966498        4.202320e-09           0.966498  \n",
       "1784286         0.966498        4.202320e-09           0.966498  \n",
       "1784287         0.966498        4.202320e-09           0.966498  \n",
       "1784288         0.966498        4.202320e-09           0.966498  "
      ]
     },
     "execution_count": 65,
     "metadata": {},
     "output_type": "execute_result"
    }
   ],
   "source": [
    "df_pl12_indexed.tail()"
   ]
  },
  {
   "cell_type": "code",
   "execution_count": 66,
   "metadata": {},
   "outputs": [],
   "source": [
    "dff_pl14 = PL_samples_file_reader(\"/home/ubuntu_cp/uwdirect/BattDeg/data/PL 12,14\", \"PL14(3).csv\", [1, 2, 3])"
   ]
  },
  {
   "cell_type": "code",
   "execution_count": 67,
   "metadata": {},
   "outputs": [
    {
     "data": {
      "text/html": [
       "<div>\n",
       "<style scoped>\n",
       "    .dataframe tbody tr th:only-of-type {\n",
       "        vertical-align: middle;\n",
       "    }\n",
       "\n",
       "    .dataframe tbody tr th {\n",
       "        vertical-align: top;\n",
       "    }\n",
       "\n",
       "    .dataframe thead th {\n",
       "        text-align: right;\n",
       "    }\n",
       "</style>\n",
       "<table border=\"1\" class=\"dataframe\">\n",
       "  <thead>\n",
       "    <tr style=\"text-align: right;\">\n",
       "      <th></th>\n",
       "      <th>Time_sec</th>\n",
       "      <th>Date_Time</th>\n",
       "      <th>Step</th>\n",
       "      <th>Cycle</th>\n",
       "      <th>Current_Amp</th>\n",
       "      <th>Voltage_Volt</th>\n",
       "      <th>Charge_Ah</th>\n",
       "      <th>Discharge_Ah</th>\n",
       "      <th>Date_Time_new</th>\n",
       "      <th>Charge_cycle_Ah</th>\n",
       "      <th>Discharge_cycle_Ah</th>\n",
       "      <th>Capacity_cycle_Ah</th>\n",
       "    </tr>\n",
       "  </thead>\n",
       "  <tbody>\n",
       "    <tr>\n",
       "      <th>0</th>\n",
       "      <td>10.000594</td>\n",
       "      <td>735822.606319</td>\n",
       "      <td>1</td>\n",
       "      <td>1</td>\n",
       "      <td>0.0</td>\n",
       "      <td>4.191423</td>\n",
       "      <td>0.0</td>\n",
       "      <td>0.0</td>\n",
       "      <td>2014-08-11 14:33:05.999963</td>\n",
       "      <td>0.0</td>\n",
       "      <td>0.0</td>\n",
       "      <td>0.0</td>\n",
       "    </tr>\n",
       "    <tr>\n",
       "      <th>1</th>\n",
       "      <td>20.016295</td>\n",
       "      <td>735822.606435</td>\n",
       "      <td>1</td>\n",
       "      <td>1</td>\n",
       "      <td>0.0</td>\n",
       "      <td>4.191747</td>\n",
       "      <td>0.0</td>\n",
       "      <td>0.0</td>\n",
       "      <td>2014-08-11 14:33:15.999980</td>\n",
       "      <td>0.0</td>\n",
       "      <td>0.0</td>\n",
       "      <td>0.0</td>\n",
       "    </tr>\n",
       "    <tr>\n",
       "      <th>2</th>\n",
       "      <td>30.031872</td>\n",
       "      <td>735822.606551</td>\n",
       "      <td>1</td>\n",
       "      <td>1</td>\n",
       "      <td>0.0</td>\n",
       "      <td>4.191585</td>\n",
       "      <td>0.0</td>\n",
       "      <td>0.0</td>\n",
       "      <td>2014-08-11 14:33:26.000006</td>\n",
       "      <td>0.0</td>\n",
       "      <td>0.0</td>\n",
       "      <td>0.0</td>\n",
       "    </tr>\n",
       "    <tr>\n",
       "      <th>3</th>\n",
       "      <td>40.047492</td>\n",
       "      <td>735822.606667</td>\n",
       "      <td>1</td>\n",
       "      <td>1</td>\n",
       "      <td>0.0</td>\n",
       "      <td>4.191747</td>\n",
       "      <td>0.0</td>\n",
       "      <td>0.0</td>\n",
       "      <td>2014-08-11 14:33:36.000032</td>\n",
       "      <td>0.0</td>\n",
       "      <td>0.0</td>\n",
       "      <td>0.0</td>\n",
       "    </tr>\n",
       "    <tr>\n",
       "      <th>4</th>\n",
       "      <td>50.062998</td>\n",
       "      <td>735822.606782</td>\n",
       "      <td>1</td>\n",
       "      <td>1</td>\n",
       "      <td>0.0</td>\n",
       "      <td>4.191585</td>\n",
       "      <td>0.0</td>\n",
       "      <td>0.0</td>\n",
       "      <td>2014-08-11 14:33:45.999968</td>\n",
       "      <td>0.0</td>\n",
       "      <td>0.0</td>\n",
       "      <td>0.0</td>\n",
       "    </tr>\n",
       "  </tbody>\n",
       "</table>\n",
       "</div>"
      ],
      "text/plain": [
       "    Time_sec      Date_Time Step Cycle  Current_Amp  Voltage_Volt  Charge_Ah  \\\n",
       "0  10.000594  735822.606319    1     1          0.0      4.191423        0.0   \n",
       "1  20.016295  735822.606435    1     1          0.0      4.191747        0.0   \n",
       "2  30.031872  735822.606551    1     1          0.0      4.191585        0.0   \n",
       "3  40.047492  735822.606667    1     1          0.0      4.191747        0.0   \n",
       "4  50.062998  735822.606782    1     1          0.0      4.191585        0.0   \n",
       "\n",
       "   Discharge_Ah              Date_Time_new  Charge_cycle_Ah  \\\n",
       "0           0.0 2014-08-11 14:33:05.999963              0.0   \n",
       "1           0.0 2014-08-11 14:33:15.999980              0.0   \n",
       "2           0.0 2014-08-11 14:33:26.000006              0.0   \n",
       "3           0.0 2014-08-11 14:33:36.000032              0.0   \n",
       "4           0.0 2014-08-11 14:33:45.999968              0.0   \n",
       "\n",
       "   Discharge_cycle_Ah  Capacity_cycle_Ah  \n",
       "0                 0.0                0.0  \n",
       "1                 0.0                0.0  \n",
       "2                 0.0                0.0  \n",
       "3                 0.0                0.0  \n",
       "4                 0.0                0.0  "
      ]
     },
     "execution_count": 67,
     "metadata": {},
     "output_type": "execute_result"
    }
   ],
   "source": [
    "dff_pl14.head()"
   ]
  },
  {
   "cell_type": "code",
   "execution_count": 68,
   "metadata": {},
   "outputs": [
    {
     "data": {
      "text/html": [
       "<div>\n",
       "<style scoped>\n",
       "    .dataframe tbody tr th:only-of-type {\n",
       "        vertical-align: middle;\n",
       "    }\n",
       "\n",
       "    .dataframe tbody tr th {\n",
       "        vertical-align: top;\n",
       "    }\n",
       "\n",
       "    .dataframe thead th {\n",
       "        text-align: right;\n",
       "    }\n",
       "</style>\n",
       "<table border=\"1\" class=\"dataframe\">\n",
       "  <thead>\n",
       "    <tr style=\"text-align: right;\">\n",
       "      <th></th>\n",
       "      <th>Time_sec</th>\n",
       "      <th>Date_Time</th>\n",
       "      <th>Step</th>\n",
       "      <th>Cycle</th>\n",
       "      <th>Current_Amp</th>\n",
       "      <th>Voltage_Volt</th>\n",
       "      <th>Charge_Ah</th>\n",
       "      <th>Discharge_Ah</th>\n",
       "      <th>Date_Time_new</th>\n",
       "      <th>Charge_cycle_Ah</th>\n",
       "      <th>Discharge_cycle_Ah</th>\n",
       "      <th>Capacity_cycle_Ah</th>\n",
       "    </tr>\n",
       "  </thead>\n",
       "  <tbody>\n",
       "    <tr>\n",
       "      <th>1561680</th>\n",
       "      <td>1.438393e+07</td>\n",
       "      <td>736161.514028</td>\n",
       "      <td>20</td>\n",
       "      <td>1024</td>\n",
       "      <td>0.0</td>\n",
       "      <td>4.190345</td>\n",
       "      <td>1037.136832</td>\n",
       "      <td>1042.622224</td>\n",
       "      <td>2015-07-16 12:20:12.000014</td>\n",
       "      <td>0.961596</td>\n",
       "      <td>3.864898e-09</td>\n",
       "      <td>0.961596</td>\n",
       "    </tr>\n",
       "    <tr>\n",
       "      <th>1561681</th>\n",
       "      <td>1.438394e+07</td>\n",
       "      <td>736161.514144</td>\n",
       "      <td>20</td>\n",
       "      <td>1024</td>\n",
       "      <td>0.0</td>\n",
       "      <td>4.190345</td>\n",
       "      <td>1037.136832</td>\n",
       "      <td>1042.622224</td>\n",
       "      <td>2015-07-16 12:20:22.000051</td>\n",
       "      <td>0.961596</td>\n",
       "      <td>3.864898e-09</td>\n",
       "      <td>0.961596</td>\n",
       "    </tr>\n",
       "    <tr>\n",
       "      <th>1561682</th>\n",
       "      <td>1.438395e+07</td>\n",
       "      <td>736161.514259</td>\n",
       "      <td>20</td>\n",
       "      <td>1024</td>\n",
       "      <td>0.0</td>\n",
       "      <td>4.190345</td>\n",
       "      <td>1037.136832</td>\n",
       "      <td>1042.622224</td>\n",
       "      <td>2015-07-16 12:20:31.999986</td>\n",
       "      <td>0.961596</td>\n",
       "      <td>3.864898e-09</td>\n",
       "      <td>0.961596</td>\n",
       "    </tr>\n",
       "    <tr>\n",
       "      <th>1561683</th>\n",
       "      <td>1.438396e+07</td>\n",
       "      <td>736161.514375</td>\n",
       "      <td>20</td>\n",
       "      <td>1024</td>\n",
       "      <td>0.0</td>\n",
       "      <td>4.190345</td>\n",
       "      <td>1037.136832</td>\n",
       "      <td>1042.622224</td>\n",
       "      <td>2015-07-16 12:20:42.000002</td>\n",
       "      <td>0.961596</td>\n",
       "      <td>3.864898e-09</td>\n",
       "      <td>0.961596</td>\n",
       "    </tr>\n",
       "    <tr>\n",
       "      <th>1561684</th>\n",
       "      <td>1.438397e+07</td>\n",
       "      <td>736161.514468</td>\n",
       "      <td>20</td>\n",
       "      <td>1024</td>\n",
       "      <td>0.0</td>\n",
       "      <td>4.190345</td>\n",
       "      <td>1037.136832</td>\n",
       "      <td>1042.622224</td>\n",
       "      <td>2015-07-16 12:20:50.000029</td>\n",
       "      <td>0.961596</td>\n",
       "      <td>3.864898e-09</td>\n",
       "      <td>0.961596</td>\n",
       "    </tr>\n",
       "  </tbody>\n",
       "</table>\n",
       "</div>"
      ],
      "text/plain": [
       "             Time_sec      Date_Time Step Cycle  Current_Amp  Voltage_Volt  \\\n",
       "1561680  1.438393e+07  736161.514028   20  1024          0.0      4.190345   \n",
       "1561681  1.438394e+07  736161.514144   20  1024          0.0      4.190345   \n",
       "1561682  1.438395e+07  736161.514259   20  1024          0.0      4.190345   \n",
       "1561683  1.438396e+07  736161.514375   20  1024          0.0      4.190345   \n",
       "1561684  1.438397e+07  736161.514468   20  1024          0.0      4.190345   \n",
       "\n",
       "           Charge_Ah  Discharge_Ah              Date_Time_new  \\\n",
       "1561680  1037.136832   1042.622224 2015-07-16 12:20:12.000014   \n",
       "1561681  1037.136832   1042.622224 2015-07-16 12:20:22.000051   \n",
       "1561682  1037.136832   1042.622224 2015-07-16 12:20:31.999986   \n",
       "1561683  1037.136832   1042.622224 2015-07-16 12:20:42.000002   \n",
       "1561684  1037.136832   1042.622224 2015-07-16 12:20:50.000029   \n",
       "\n",
       "         Charge_cycle_Ah  Discharge_cycle_Ah  Capacity_cycle_Ah  \n",
       "1561680         0.961596        3.864898e-09           0.961596  \n",
       "1561681         0.961596        3.864898e-09           0.961596  \n",
       "1561682         0.961596        3.864898e-09           0.961596  \n",
       "1561683         0.961596        3.864898e-09           0.961596  \n",
       "1561684         0.961596        3.864898e-09           0.961596  "
      ]
     },
     "execution_count": 68,
     "metadata": {},
     "output_type": "execute_result"
    }
   ],
   "source": [
    "dff_pl14.tail()"
   ]
  },
  {
   "cell_type": "code",
   "execution_count": null,
   "metadata": {},
   "outputs": [],
   "source": []
  }
 ],
 "metadata": {
  "kernelspec": {
   "display_name": "Python 3",
   "language": "python",
   "name": "python3"
  },
  "language_info": {
   "codemirror_mode": {
    "name": "ipython",
    "version": 3
   },
   "file_extension": ".py",
   "mimetype": "text/x-python",
   "name": "python",
   "nbconvert_exporter": "python",
   "pygments_lexer": "ipython3",
   "version": "3.6.8"
  }
 },
 "nbformat": 4,
 "nbformat_minor": 2
}
