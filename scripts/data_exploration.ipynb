{
 "cells": [
  {
   "cell_type": "markdown",
   "metadata": {},
   "source": [
    "## This file does some initial data exploration"
   ]
  },
  {
   "cell_type": "code",
   "execution_count": 1,
   "metadata": {},
   "outputs": [],
   "source": [
    "# Will delete everything in memory- be cautious\n",
    "#%reset"
   ]
  },
  {
   "cell_type": "code",
   "execution_count": 1,
   "metadata": {},
   "outputs": [],
   "source": [
    "import pandas as pd\n",
    "import numpy as np\n",
    "import datetime\n",
    "import os\n",
    "import re\n",
    "from os import listdir\n",
    "from os.path import isfile, join\n",
    "import matplotlib.pyplot as plt\n",
    "import seaborn as sns"
   ]
  },
  {
   "cell_type": "code",
   "execution_count": 2,
   "metadata": {},
   "outputs": [],
   "source": [
    "data_dir = '../data/'"
   ]
  },
  {
   "cell_type": "code",
   "execution_count": 3,
   "metadata": {},
   "outputs": [],
   "source": [
    "pl_12_14_dir = data_dir + 'PL 12,14'\n",
    "pl_17_18_dir = data_dir + 'PL 17,18'\n",
    "pl_19_24_dir = data_dir + 'PL 19,24'\n",
    "pl_21_23_dir = data_dir + 'Pl 21,23'"
   ]
  },
  {
   "cell_type": "code",
   "execution_count": null,
   "metadata": {},
   "outputs": [],
   "source": []
  },
  {
   "cell_type": "code",
   "execution_count": 4,
   "metadata": {},
   "outputs": [],
   "source": [
    "pl_12_14_4 = pd.read_csv(pl_12_14_dir + '/PL12(4).csv')"
   ]
  },
  {
   "cell_type": "code",
   "execution_count": 8,
   "metadata": {},
   "outputs": [],
   "source": [
    "# get the list of files in the directory\n",
    "onlyfiles = [f for f in listdir(pl_12_14_dir) if isfile(join(pl_12_14_dir, f))]"
   ]
  },
  {
   "cell_type": "code",
   "execution_count": 9,
   "metadata": {},
   "outputs": [],
   "source": [
    "# Empty dictionary to hold all the dataframe for various files\n",
    "dict_pl12 = {}\n",
    "for i in range(len(onlyfiles)):\n",
    "    if 'PL12' in onlyfiles[i]:\n",
    "        # Extract the filenumber from the name\n",
    "        file_number = re.search('PL12\\((.+?)\\).csv', onlyfiles[i]).group(1)\n",
    "        # Give a value of dataframe to each key\n",
    "        dict_pl12[int(file_number)] = pd.read_csv(pl_12_14_dir + \"/\" + onlyfiles[i])"
   ]
  },
  {
   "cell_type": "code",
   "execution_count": 10,
   "metadata": {},
   "outputs": [],
   "source": [
    "dict_pl12_ordered = {}\n",
    "# Sort the dictionary based on keys\n",
    "for key in sorted(dict_pl12.keys()):\n",
    "    dict_pl12_ordered[key] = dict_pl12[key]"
   ]
  },
  {
   "cell_type": "code",
   "execution_count": 11,
   "metadata": {},
   "outputs": [
    {
     "data": {
      "text/plain": [
       "17"
      ]
     },
     "execution_count": 11,
     "metadata": {},
     "output_type": "execute_result"
    }
   ],
   "source": [
    "len(dict_pl12_ordered.keys())"
   ]
  },
  {
   "cell_type": "code",
   "execution_count": 12,
   "metadata": {},
   "outputs": [],
   "source": [
    "wanted_keys = np.arange(4, len(dict_pl12_ordered.keys())+1)"
   ]
  },
  {
   "cell_type": "code",
   "execution_count": 13,
   "metadata": {},
   "outputs": [
    {
     "data": {
      "text/plain": [
       "array([ 4,  5,  6,  7,  8,  9, 10, 11, 12, 13, 14, 15, 16, 17])"
      ]
     },
     "execution_count": 13,
     "metadata": {},
     "output_type": "execute_result"
    }
   ],
   "source": [
    "wanted_keys"
   ]
  },
  {
   "cell_type": "code",
   "execution_count": 14,
   "metadata": {},
   "outputs": [],
   "source": [
    "# Remove the first three dataframes for characterization\n",
    "dict_pl12_ord_cycling_data = {k : dict_pl12_ordered[k] for k in wanted_keys}"
   ]
  },
  {
   "cell_type": "code",
   "execution_count": 15,
   "metadata": {},
   "outputs": [],
   "source": [
    "# Concatenate the dataframes to create the total dataframe\n",
    "#df_pl12 = pd.concat(dict_pl12_ord_cycling_data.values())\n",
    "df_pl12 = None\n",
    "for k in wanted_keys:\n",
    "    if df_pl12 is None:\n",
    "        df_next = dict_pl12_ord_cycling_data[k]\n",
    "        df_pl12 = pd.DataFrame(data=None, columns=df_next.columns)\n",
    "        # df_next['Cycle'] = df_next['Cycle'] + max(df_pl12['Cycle'])\n",
    "        df_pl12 = pd.concat([df_pl12, df_next])\n",
    "    else:\n",
    "        df_next = dict_pl12_ord_cycling_data[k]\n",
    "        df_next['Cycle'] = df_next['Cycle'] + max(df_pl12['Cycle'])\n",
    "        df_pl12 = pd.concat([df_pl12, df_next])"
   ]
  },
  {
   "cell_type": "code",
   "execution_count": 16,
   "metadata": {},
   "outputs": [
    {
     "data": {
      "text/plain": [
       "1017"
      ]
     },
     "execution_count": 16,
     "metadata": {},
     "output_type": "execute_result"
    }
   ],
   "source": [
    "max(df_pl12['Cycle'])"
   ]
  },
  {
   "cell_type": "code",
   "execution_count": 17,
   "metadata": {},
   "outputs": [
    {
     "data": {
      "text/html": [
       "<div>\n",
       "<style scoped>\n",
       "    .dataframe tbody tr th:only-of-type {\n",
       "        vertical-align: middle;\n",
       "    }\n",
       "\n",
       "    .dataframe tbody tr th {\n",
       "        vertical-align: top;\n",
       "    }\n",
       "\n",
       "    .dataframe thead th {\n",
       "        text-align: right;\n",
       "    }\n",
       "</style>\n",
       "<table border=\"1\" class=\"dataframe\">\n",
       "  <thead>\n",
       "    <tr style=\"text-align: right;\">\n",
       "      <th></th>\n",
       "      <th>Time_sec</th>\n",
       "      <th>Date_Time</th>\n",
       "      <th>Step</th>\n",
       "      <th>Cycle</th>\n",
       "      <th>Current_Amp</th>\n",
       "      <th>Voltage_Volt</th>\n",
       "      <th>Charge_Ah</th>\n",
       "      <th>Discharge_Ah</th>\n",
       "    </tr>\n",
       "  </thead>\n",
       "  <tbody>\n",
       "    <tr>\n",
       "      <th>0</th>\n",
       "      <td>10.000357</td>\n",
       "      <td>735819.421979</td>\n",
       "      <td>1</td>\n",
       "      <td>1</td>\n",
       "      <td>0.0</td>\n",
       "      <td>4.190699</td>\n",
       "      <td>0.0</td>\n",
       "      <td>0.0</td>\n",
       "    </tr>\n",
       "    <tr>\n",
       "      <th>1</th>\n",
       "      <td>20.000433</td>\n",
       "      <td>735819.422095</td>\n",
       "      <td>1</td>\n",
       "      <td>1</td>\n",
       "      <td>0.0</td>\n",
       "      <td>4.190699</td>\n",
       "      <td>0.0</td>\n",
       "      <td>0.0</td>\n",
       "    </tr>\n",
       "    <tr>\n",
       "      <th>2</th>\n",
       "      <td>30.016045</td>\n",
       "      <td>735819.422211</td>\n",
       "      <td>1</td>\n",
       "      <td>1</td>\n",
       "      <td>0.0</td>\n",
       "      <td>4.190861</td>\n",
       "      <td>0.0</td>\n",
       "      <td>0.0</td>\n",
       "    </tr>\n",
       "    <tr>\n",
       "      <th>3</th>\n",
       "      <td>40.031507</td>\n",
       "      <td>735819.422326</td>\n",
       "      <td>1</td>\n",
       "      <td>1</td>\n",
       "      <td>0.0</td>\n",
       "      <td>4.190537</td>\n",
       "      <td>0.0</td>\n",
       "      <td>0.0</td>\n",
       "    </tr>\n",
       "    <tr>\n",
       "      <th>4</th>\n",
       "      <td>50.047247</td>\n",
       "      <td>735819.422454</td>\n",
       "      <td>1</td>\n",
       "      <td>1</td>\n",
       "      <td>0.0</td>\n",
       "      <td>4.190861</td>\n",
       "      <td>0.0</td>\n",
       "      <td>0.0</td>\n",
       "    </tr>\n",
       "  </tbody>\n",
       "</table>\n",
       "</div>"
      ],
      "text/plain": [
       "    Time_sec      Date_Time Step Cycle  Current_Amp  Voltage_Volt  Charge_Ah  \\\n",
       "0  10.000357  735819.421979    1     1          0.0      4.190699        0.0   \n",
       "1  20.000433  735819.422095    1     1          0.0      4.190699        0.0   \n",
       "2  30.016045  735819.422211    1     1          0.0      4.190861        0.0   \n",
       "3  40.031507  735819.422326    1     1          0.0      4.190537        0.0   \n",
       "4  50.047247  735819.422454    1     1          0.0      4.190861        0.0   \n",
       "\n",
       "   Discharge_Ah  \n",
       "0           0.0  \n",
       "1           0.0  \n",
       "2           0.0  \n",
       "3           0.0  \n",
       "4           0.0  "
      ]
     },
     "execution_count": 17,
     "metadata": {},
     "output_type": "execute_result"
    }
   ],
   "source": [
    "df_pl12.head()"
   ]
  },
  {
   "cell_type": "code",
   "execution_count": 18,
   "metadata": {},
   "outputs": [],
   "source": [
    "# Reset the index and drop the old index\n",
    "df_pl12_indexed = df_pl12.reset_index(drop=True)"
   ]
  },
  {
   "cell_type": "code",
   "execution_count": 19,
   "metadata": {},
   "outputs": [
    {
     "data": {
      "text/plain": [
       "[<matplotlib.lines.Line2D at 0x7fd1b2fe6898>]"
      ]
     },
     "execution_count": 19,
     "metadata": {},
     "output_type": "execute_result"
    },
    {
     "data": {
      "image/png": "[encoded data removed]",
      "text/plain": [
       "<Figure size 432x288 with 1 Axes>"
      ]
     },
     "metadata": {
      "needs_background": "light"
     },
     "output_type": "display_data"
    }
   ],
   "source": [
    "plt.plot(df_pl12_indexed['Cycle'])"
   ]
  },
  {
   "cell_type": "code",
   "execution_count": 20,
   "metadata": {},
   "outputs": [],
   "source": [
    "# Convert the Date_Time from matlab datenum to human readable Date_Time\n",
    "df_pl12['Date_Time_new'] = df_pl12['Date_Time'].apply(lambda x: datetime.datetime.fromordinal(int(x)) + datetime.timedelta(days=x%1) - datetime.timedelta(days = 366)  )"
   ]
  },
  {
   "cell_type": "code",
   "execution_count": 21,
   "metadata": {},
   "outputs": [
    {
     "data": {
      "text/html": [
       "<div>\n",
       "<style scoped>\n",
       "    .dataframe tbody tr th:only-of-type {\n",
       "        vertical-align: middle;\n",
       "    }\n",
       "\n",
       "    .dataframe tbody tr th {\n",
       "        vertical-align: top;\n",
       "    }\n",
       "\n",
       "    .dataframe thead th {\n",
       "        text-align: right;\n",
       "    }\n",
       "</style>\n",
       "<table border=\"1\" class=\"dataframe\">\n",
       "  <thead>\n",
       "    <tr style=\"text-align: right;\">\n",
       "      <th></th>\n",
       "      <th>Time_sec</th>\n",
       "      <th>Date_Time</th>\n",
       "      <th>Step</th>\n",
       "      <th>Cycle</th>\n",
       "      <th>Current_Amp</th>\n",
       "      <th>Voltage_Volt</th>\n",
       "      <th>Charge_Ah</th>\n",
       "      <th>Discharge_Ah</th>\n",
       "      <th>Date_Time_new</th>\n",
       "    </tr>\n",
       "  </thead>\n",
       "  <tbody>\n",
       "    <tr>\n",
       "      <th>0</th>\n",
       "      <td>10.000357</td>\n",
       "      <td>735819.421979</td>\n",
       "      <td>1</td>\n",
       "      <td>1</td>\n",
       "      <td>0.0</td>\n",
       "      <td>4.190699</td>\n",
       "      <td>0.0</td>\n",
       "      <td>0.0</td>\n",
       "      <td>2014-08-08 10:07:39.000032</td>\n",
       "    </tr>\n",
       "    <tr>\n",
       "      <th>1</th>\n",
       "      <td>20.000433</td>\n",
       "      <td>735819.422095</td>\n",
       "      <td>1</td>\n",
       "      <td>1</td>\n",
       "      <td>0.0</td>\n",
       "      <td>4.190699</td>\n",
       "      <td>0.0</td>\n",
       "      <td>0.0</td>\n",
       "      <td>2014-08-08 10:07:48.999967</td>\n",
       "    </tr>\n",
       "    <tr>\n",
       "      <th>2</th>\n",
       "      <td>30.016045</td>\n",
       "      <td>735819.422211</td>\n",
       "      <td>1</td>\n",
       "      <td>1</td>\n",
       "      <td>0.0</td>\n",
       "      <td>4.190861</td>\n",
       "      <td>0.0</td>\n",
       "      <td>0.0</td>\n",
       "      <td>2014-08-08 10:07:58.999984</td>\n",
       "    </tr>\n",
       "    <tr>\n",
       "      <th>3</th>\n",
       "      <td>40.031507</td>\n",
       "      <td>735819.422326</td>\n",
       "      <td>1</td>\n",
       "      <td>1</td>\n",
       "      <td>0.0</td>\n",
       "      <td>4.190537</td>\n",
       "      <td>0.0</td>\n",
       "      <td>0.0</td>\n",
       "      <td>2014-08-08 10:08:09.000020</td>\n",
       "    </tr>\n",
       "    <tr>\n",
       "      <th>4</th>\n",
       "      <td>50.047247</td>\n",
       "      <td>735819.422454</td>\n",
       "      <td>1</td>\n",
       "      <td>1</td>\n",
       "      <td>0.0</td>\n",
       "      <td>4.190861</td>\n",
       "      <td>0.0</td>\n",
       "      <td>0.0</td>\n",
       "      <td>2014-08-08 10:08:20.000031</td>\n",
       "    </tr>\n",
       "  </tbody>\n",
       "</table>\n",
       "</div>"
      ],
      "text/plain": [
       "    Time_sec      Date_Time Step Cycle  Current_Amp  Voltage_Volt  Charge_Ah  \\\n",
       "0  10.000357  735819.421979    1     1          0.0      4.190699        0.0   \n",
       "1  20.000433  735819.422095    1     1          0.0      4.190699        0.0   \n",
       "2  30.016045  735819.422211    1     1          0.0      4.190861        0.0   \n",
       "3  40.031507  735819.422326    1     1          0.0      4.190537        0.0   \n",
       "4  50.047247  735819.422454    1     1          0.0      4.190861        0.0   \n",
       "\n",
       "   Discharge_Ah              Date_Time_new  \n",
       "0           0.0 2014-08-08 10:07:39.000032  \n",
       "1           0.0 2014-08-08 10:07:48.999967  \n",
       "2           0.0 2014-08-08 10:07:58.999984  \n",
       "3           0.0 2014-08-08 10:08:09.000020  \n",
       "4           0.0 2014-08-08 10:08:20.000031  "
      ]
     },
     "execution_count": 21,
     "metadata": {},
     "output_type": "execute_result"
    }
   ],
   "source": [
    "df_pl12.head()"
   ]
  },
  {
   "cell_type": "code",
   "execution_count": 22,
   "metadata": {},
   "outputs": [],
   "source": [
    "# Reset the index and drop the old index\n",
    "df_pl12_indexed = df_pl12.reset_index(drop=True)"
   ]
  },
  {
   "cell_type": "code",
   "execution_count": 23,
   "metadata": {},
   "outputs": [
    {
     "data": {
      "text/html": [
       "<div>\n",
       "<style scoped>\n",
       "    .dataframe tbody tr th:only-of-type {\n",
       "        vertical-align: middle;\n",
       "    }\n",
       "\n",
       "    .dataframe tbody tr th {\n",
       "        vertical-align: top;\n",
       "    }\n",
       "\n",
       "    .dataframe thead th {\n",
       "        text-align: right;\n",
       "    }\n",
       "</style>\n",
       "<table border=\"1\" class=\"dataframe\">\n",
       "  <thead>\n",
       "    <tr style=\"text-align: right;\">\n",
       "      <th></th>\n",
       "      <th>Time_sec</th>\n",
       "      <th>Date_Time</th>\n",
       "      <th>Step</th>\n",
       "      <th>Cycle</th>\n",
       "      <th>Current_Amp</th>\n",
       "      <th>Voltage_Volt</th>\n",
       "      <th>Charge_Ah</th>\n",
       "      <th>Discharge_Ah</th>\n",
       "      <th>Date_Time_new</th>\n",
       "    </tr>\n",
       "  </thead>\n",
       "  <tbody>\n",
       "    <tr>\n",
       "      <th>1784284</th>\n",
       "      <td>114281.743536</td>\n",
       "      <td>736177.947546</td>\n",
       "      <td>20</td>\n",
       "      <td>1017</td>\n",
       "      <td>0.0</td>\n",
       "      <td>4.193922</td>\n",
       "      <td>5.043826</td>\n",
       "      <td>4.909113</td>\n",
       "      <td>2015-08-01 22:44:27.999969</td>\n",
       "    </tr>\n",
       "    <tr>\n",
       "      <th>1784285</th>\n",
       "      <td>114291.759208</td>\n",
       "      <td>736177.947662</td>\n",
       "      <td>20</td>\n",
       "      <td>1017</td>\n",
       "      <td>0.0</td>\n",
       "      <td>4.194084</td>\n",
       "      <td>5.043826</td>\n",
       "      <td>4.909113</td>\n",
       "      <td>2015-08-01 22:44:37.999995</td>\n",
       "    </tr>\n",
       "    <tr>\n",
       "      <th>1784286</th>\n",
       "      <td>114301.774772</td>\n",
       "      <td>736177.947778</td>\n",
       "      <td>20</td>\n",
       "      <td>1017</td>\n",
       "      <td>0.0</td>\n",
       "      <td>4.194084</td>\n",
       "      <td>5.043826</td>\n",
       "      <td>4.909113</td>\n",
       "      <td>2015-08-01 22:44:48.000022</td>\n",
       "    </tr>\n",
       "    <tr>\n",
       "      <th>1784287</th>\n",
       "      <td>114311.790321</td>\n",
       "      <td>736177.947894</td>\n",
       "      <td>20</td>\n",
       "      <td>1017</td>\n",
       "      <td>0.0</td>\n",
       "      <td>4.194084</td>\n",
       "      <td>5.043826</td>\n",
       "      <td>4.909113</td>\n",
       "      <td>2015-08-01 22:44:57.999957</td>\n",
       "    </tr>\n",
       "    <tr>\n",
       "      <th>1784288</th>\n",
       "      <td>114319.180876</td>\n",
       "      <td>736177.947975</td>\n",
       "      <td>20</td>\n",
       "      <td>1017</td>\n",
       "      <td>0.0</td>\n",
       "      <td>4.194246</td>\n",
       "      <td>5.043826</td>\n",
       "      <td>4.909113</td>\n",
       "      <td>2015-08-01 22:45:05.000000</td>\n",
       "    </tr>\n",
       "  </tbody>\n",
       "</table>\n",
       "</div>"
      ],
      "text/plain": [
       "              Time_sec      Date_Time Step Cycle  Current_Amp  Voltage_Volt  \\\n",
       "1784284  114281.743536  736177.947546   20  1017          0.0      4.193922   \n",
       "1784285  114291.759208  736177.947662   20  1017          0.0      4.194084   \n",
       "1784286  114301.774772  736177.947778   20  1017          0.0      4.194084   \n",
       "1784287  114311.790321  736177.947894   20  1017          0.0      4.194084   \n",
       "1784288  114319.180876  736177.947975   20  1017          0.0      4.194246   \n",
       "\n",
       "         Charge_Ah  Discharge_Ah              Date_Time_new  \n",
       "1784284   5.043826      4.909113 2015-08-01 22:44:27.999969  \n",
       "1784285   5.043826      4.909113 2015-08-01 22:44:37.999995  \n",
       "1784286   5.043826      4.909113 2015-08-01 22:44:48.000022  \n",
       "1784287   5.043826      4.909113 2015-08-01 22:44:57.999957  \n",
       "1784288   5.043826      4.909113 2015-08-01 22:45:05.000000  "
      ]
     },
     "execution_count": 23,
     "metadata": {},
     "output_type": "execute_result"
    }
   ],
   "source": [
    "df_pl12_indexed.tail()"
   ]
  },
  {
   "cell_type": "code",
   "execution_count": 24,
   "metadata": {},
   "outputs": [
    {
     "name": "stderr",
     "output_type": "stream",
     "text": [
      "/home/chintan/anaconda3/envs/keras2/lib/python3.6/site-packages/pandas/plotting/_converter.py:129: FutureWarning: Using an implicitly registered datetime converter for a matplotlib plotting method. The converter was registered by pandas on import. Future versions of pandas will require you to explicitly register matplotlib converters.\n",
      "\n",
      "To register the converters:\n",
      "\t>>> from pandas.plotting import register_matplotlib_converters\n",
      "\t>>> register_matplotlib_converters()\n",
      "  warnings.warn(msg, FutureWarning)\n"
     ]
    },
    {
     "data": {
      "text/plain": [
       "[<matplotlib.lines.Line2D at 0x7fd1b2f3ecf8>]"
      ]
     },
     "execution_count": 24,
     "metadata": {},
     "output_type": "execute_result"
    },
    {
     "data": {
      "image/png": "[encoded data removed]",
      "text/plain": [
       "<Figure size 432x288 with 1 Axes>"
      ]
     },
     "metadata": {
      "needs_background": "light"
     },
     "output_type": "display_data"
    }
   ],
   "source": [
    "# Draw the plot of time column to make sure that things are arranged in the right order\n",
    "plt.plot(df_pl12_indexed['Date_Time_new'])"
   ]
  },
  {
   "cell_type": "code",
   "execution_count": 25,
   "metadata": {},
   "outputs": [
    {
     "data": {
      "text/plain": [
       "Time_sec                float64\n",
       "Date_Time               float64\n",
       "Step                     object\n",
       "Cycle                    object\n",
       "Current_Amp             float64\n",
       "Voltage_Volt            float64\n",
       "Charge_Ah               float64\n",
       "Discharge_Ah            float64\n",
       "Date_Time_new    datetime64[ns]\n",
       "dtype: object"
      ]
     },
     "execution_count": 25,
     "metadata": {},
     "output_type": "execute_result"
    }
   ],
   "source": [
    "df_pl12_indexed.dtypes"
   ]
  },
  {
   "cell_type": "code",
   "execution_count": 26,
   "metadata": {},
   "outputs": [
    {
     "data": {
      "text/html": [
       "<div>\n",
       "<style scoped>\n",
       "    .dataframe tbody tr th:only-of-type {\n",
       "        vertical-align: middle;\n",
       "    }\n",
       "\n",
       "    .dataframe tbody tr th {\n",
       "        vertical-align: top;\n",
       "    }\n",
       "\n",
       "    .dataframe thead th {\n",
       "        text-align: right;\n",
       "    }\n",
       "</style>\n",
       "<table border=\"1\" class=\"dataframe\">\n",
       "  <thead>\n",
       "    <tr style=\"text-align: right;\">\n",
       "      <th></th>\n",
       "      <th>Time_sec</th>\n",
       "      <th>Date_Time</th>\n",
       "      <th>Current_Amp</th>\n",
       "      <th>Voltage_Volt</th>\n",
       "      <th>Charge_Ah</th>\n",
       "      <th>Discharge_Ah</th>\n",
       "    </tr>\n",
       "  </thead>\n",
       "  <tbody>\n",
       "    <tr>\n",
       "      <th>count</th>\n",
       "      <td>1.784289e+06</td>\n",
       "      <td>1.784289e+06</td>\n",
       "      <td>1.784289e+06</td>\n",
       "      <td>1.784289e+06</td>\n",
       "      <td>1.784289e+06</td>\n",
       "      <td>1.784289e+06</td>\n",
       "    </tr>\n",
       "    <tr>\n",
       "      <th>mean</th>\n",
       "      <td>6.323828e+05</td>\n",
       "      <td>7.360089e+05</td>\n",
       "      <td>1.195501e-03</td>\n",
       "      <td>4.037383e+00</td>\n",
       "      <td>4.636149e+01</td>\n",
       "      <td>4.605898e+01</td>\n",
       "    </tr>\n",
       "    <tr>\n",
       "      <th>std</th>\n",
       "      <td>4.368162e+05</td>\n",
       "      <td>1.182741e+02</td>\n",
       "      <td>8.788249e-01</td>\n",
       "      <td>2.697020e-01</td>\n",
       "      <td>2.928402e+01</td>\n",
       "      <td>2.899050e+01</td>\n",
       "    </tr>\n",
       "    <tr>\n",
       "      <th>min</th>\n",
       "      <td>8.150746e-02</td>\n",
       "      <td>7.358194e+05</td>\n",
       "      <td>-3.001397e+00</td>\n",
       "      <td>2.748463e+00</td>\n",
       "      <td>0.000000e+00</td>\n",
       "      <td>0.000000e+00</td>\n",
       "    </tr>\n",
       "    <tr>\n",
       "      <th>25%</th>\n",
       "      <td>2.808941e+05</td>\n",
       "      <td>7.358946e+05</td>\n",
       "      <td>0.000000e+00</td>\n",
       "      <td>3.925225e+00</td>\n",
       "      <td>2.151326e+01</td>\n",
       "      <td>2.159430e+01</td>\n",
       "    </tr>\n",
       "    <tr>\n",
       "      <th>50%</th>\n",
       "      <td>5.779855e+05</td>\n",
       "      <td>7.360427e+05</td>\n",
       "      <td>2.905629e-02</td>\n",
       "      <td>4.198621e+00</td>\n",
       "      <td>4.405522e+01</td>\n",
       "      <td>4.376242e+01</td>\n",
       "    </tr>\n",
       "    <tr>\n",
       "      <th>75%</th>\n",
       "      <td>9.062571e+05</td>\n",
       "      <td>7.361167e+05</td>\n",
       "      <td>4.229183e-01</td>\n",
       "      <td>4.200404e+00</td>\n",
       "      <td>6.977152e+01</td>\n",
       "      <td>6.898514e+01</td>\n",
       "    </tr>\n",
       "    <tr>\n",
       "      <th>max</th>\n",
       "      <td>2.139564e+06</td>\n",
       "      <td>7.361779e+05</td>\n",
       "      <td>2.085116e+00</td>\n",
       "      <td>4.247663e+00</td>\n",
       "      <td>1.150644e+02</td>\n",
       "      <td>1.158191e+02</td>\n",
       "    </tr>\n",
       "  </tbody>\n",
       "</table>\n",
       "</div>"
      ],
      "text/plain": [
       "           Time_sec     Date_Time   Current_Amp  Voltage_Volt     Charge_Ah  \\\n",
       "count  1.784289e+06  1.784289e+06  1.784289e+06  1.784289e+06  1.784289e+06   \n",
       "mean   6.323828e+05  7.360089e+05  1.195501e-03  4.037383e+00  4.636149e+01   \n",
       "std    4.368162e+05  1.182741e+02  8.788249e-01  2.697020e-01  2.928402e+01   \n",
       "min    8.150746e-02  7.358194e+05 -3.001397e+00  2.748463e+00  0.000000e+00   \n",
       "25%    2.808941e+05  7.358946e+05  0.000000e+00  3.925225e+00  2.151326e+01   \n",
       "50%    5.779855e+05  7.360427e+05  2.905629e-02  4.198621e+00  4.405522e+01   \n",
       "75%    9.062571e+05  7.361167e+05  4.229183e-01  4.200404e+00  6.977152e+01   \n",
       "max    2.139564e+06  7.361779e+05  2.085116e+00  4.247663e+00  1.150644e+02   \n",
       "\n",
       "       Discharge_Ah  \n",
       "count  1.784289e+06  \n",
       "mean   4.605898e+01  \n",
       "std    2.899050e+01  \n",
       "min    0.000000e+00  \n",
       "25%    2.159430e+01  \n",
       "50%    4.376242e+01  \n",
       "75%    6.898514e+01  \n",
       "max    1.158191e+02  "
      ]
     },
     "execution_count": 26,
     "metadata": {},
     "output_type": "execute_result"
    }
   ],
   "source": [
    "# Describe the dataframe \n",
    "df_pl12_indexed.describe()"
   ]
  },
  {
   "cell_type": "code",
   "execution_count": 27,
   "metadata": {},
   "outputs": [],
   "source": [
    "df_sample = df_pl12_indexed.iloc[0:10000, :]"
   ]
  },
  {
   "cell_type": "code",
   "execution_count": 28,
   "metadata": {},
   "outputs": [
    {
     "data": {
      "text/html": [
       "<div>\n",
       "<style scoped>\n",
       "    .dataframe tbody tr th:only-of-type {\n",
       "        vertical-align: middle;\n",
       "    }\n",
       "\n",
       "    .dataframe tbody tr th {\n",
       "        vertical-align: top;\n",
       "    }\n",
       "\n",
       "    .dataframe thead th {\n",
       "        text-align: right;\n",
       "    }\n",
       "</style>\n",
       "<table border=\"1\" class=\"dataframe\">\n",
       "  <thead>\n",
       "    <tr style=\"text-align: right;\">\n",
       "      <th></th>\n",
       "      <th>Time_sec</th>\n",
       "      <th>Date_Time</th>\n",
       "      <th>Step</th>\n",
       "      <th>Cycle</th>\n",
       "      <th>Current_Amp</th>\n",
       "      <th>Voltage_Volt</th>\n",
       "      <th>Charge_Ah</th>\n",
       "      <th>Discharge_Ah</th>\n",
       "      <th>Date_Time_new</th>\n",
       "    </tr>\n",
       "  </thead>\n",
       "  <tbody>\n",
       "    <tr>\n",
       "      <th>0</th>\n",
       "      <td>10.000357</td>\n",
       "      <td>735819.421979</td>\n",
       "      <td>1</td>\n",
       "      <td>1</td>\n",
       "      <td>0.0</td>\n",
       "      <td>4.190699</td>\n",
       "      <td>0.0</td>\n",
       "      <td>0.0</td>\n",
       "      <td>2014-08-08 10:07:39.000032</td>\n",
       "    </tr>\n",
       "    <tr>\n",
       "      <th>1</th>\n",
       "      <td>20.000433</td>\n",
       "      <td>735819.422095</td>\n",
       "      <td>1</td>\n",
       "      <td>1</td>\n",
       "      <td>0.0</td>\n",
       "      <td>4.190699</td>\n",
       "      <td>0.0</td>\n",
       "      <td>0.0</td>\n",
       "      <td>2014-08-08 10:07:48.999967</td>\n",
       "    </tr>\n",
       "    <tr>\n",
       "      <th>2</th>\n",
       "      <td>30.016045</td>\n",
       "      <td>735819.422211</td>\n",
       "      <td>1</td>\n",
       "      <td>1</td>\n",
       "      <td>0.0</td>\n",
       "      <td>4.190861</td>\n",
       "      <td>0.0</td>\n",
       "      <td>0.0</td>\n",
       "      <td>2014-08-08 10:07:58.999984</td>\n",
       "    </tr>\n",
       "    <tr>\n",
       "      <th>3</th>\n",
       "      <td>40.031507</td>\n",
       "      <td>735819.422326</td>\n",
       "      <td>1</td>\n",
       "      <td>1</td>\n",
       "      <td>0.0</td>\n",
       "      <td>4.190537</td>\n",
       "      <td>0.0</td>\n",
       "      <td>0.0</td>\n",
       "      <td>2014-08-08 10:08:09.000020</td>\n",
       "    </tr>\n",
       "    <tr>\n",
       "      <th>4</th>\n",
       "      <td>50.047247</td>\n",
       "      <td>735819.422454</td>\n",
       "      <td>1</td>\n",
       "      <td>1</td>\n",
       "      <td>0.0</td>\n",
       "      <td>4.190861</td>\n",
       "      <td>0.0</td>\n",
       "      <td>0.0</td>\n",
       "      <td>2014-08-08 10:08:20.000031</td>\n",
       "    </tr>\n",
       "  </tbody>\n",
       "</table>\n",
       "</div>"
      ],
      "text/plain": [
       "    Time_sec      Date_Time Step Cycle  Current_Amp  Voltage_Volt  Charge_Ah  \\\n",
       "0  10.000357  735819.421979    1     1          0.0      4.190699        0.0   \n",
       "1  20.000433  735819.422095    1     1          0.0      4.190699        0.0   \n",
       "2  30.016045  735819.422211    1     1          0.0      4.190861        0.0   \n",
       "3  40.031507  735819.422326    1     1          0.0      4.190537        0.0   \n",
       "4  50.047247  735819.422454    1     1          0.0      4.190861        0.0   \n",
       "\n",
       "   Discharge_Ah              Date_Time_new  \n",
       "0           0.0 2014-08-08 10:07:39.000032  \n",
       "1           0.0 2014-08-08 10:07:48.999967  \n",
       "2           0.0 2014-08-08 10:07:58.999984  \n",
       "3           0.0 2014-08-08 10:08:09.000020  \n",
       "4           0.0 2014-08-08 10:08:20.000031  "
      ]
     },
     "execution_count": 28,
     "metadata": {},
     "output_type": "execute_result"
    }
   ],
   "source": [
    "df_sample.head()"
   ]
  },
  {
   "cell_type": "code",
   "execution_count": 29,
   "metadata": {},
   "outputs": [
    {
     "data": {
      "text/plain": [
       "<matplotlib.axes._subplots.AxesSubplot at 0x7fd1b2e32780>"
      ]
     },
     "execution_count": 29,
     "metadata": {},
     "output_type": "execute_result"
    },
    {
     "data": {
      "image/png": "[encoded data removed]",
      "text/plain": [
       "<Figure size 3240x1080 with 6 Axes>"
      ]
     },
     "metadata": {
      "needs_background": "light"
     },
     "output_type": "display_data"
    }
   ],
   "source": [
    "fig, ax = plt.subplots(2, 3, figsize = (45,15))\n",
    "sns.lineplot(x = df_sample.index, y = df_sample['Current_Amp'], ax = ax[0][0])\n",
    "sns.lineplot(x = df_sample.index, y = df_sample['Cycle'].astype(int), ax = ax[0][0])\n",
    "#sns.scatterplot(x = idx3[0:20], y = df_sample['Current_Amp'].iloc[idx3[0:20]], ax = ax[0][0])\n",
    "sns.lineplot(x = df_sample.index, y = df_sample['Voltage_Volt'], ax = ax[0][1])\n",
    "sns.lineplot(x = df_sample.index, y = df_sample['Cycle'].astype(int), ax = ax[0][1])\n",
    "sns.lineplot(x = df_sample.index, y = df_sample['Charge_Ah'], ax = ax[0][2])\n",
    "sns.lineplot(x = df_sample.index, y = df_sample['Cycle'].astype(int), ax = ax[0][2])\n",
    "sns.lineplot(x = df_sample.index, y = df_sample['Discharge_Ah'], ax = ax[1][0])\n",
    "sns.lineplot(x = df_sample.index, y = df_sample['Cycle'].astype(int), ax = ax[1][0])"
   ]
  },
  {
   "cell_type": "markdown",
   "metadata": {},
   "source": []
  },
  {
   "cell_type": "code",
   "execution_count": 33,
   "metadata": {},
   "outputs": [],
   "source": [
    "df_grouped = df_pl12_indexed.groupby(['Cycle']).count()"
   ]
  },
  {
   "cell_type": "code",
   "execution_count": 37,
   "metadata": {},
   "outputs": [
    {
     "data": {
      "text/html": [
       "<div>\n",
       "<style scoped>\n",
       "    .dataframe tbody tr th:only-of-type {\n",
       "        vertical-align: middle;\n",
       "    }\n",
       "\n",
       "    .dataframe tbody tr th {\n",
       "        vertical-align: top;\n",
       "    }\n",
       "\n",
       "    .dataframe thead th {\n",
       "        text-align: right;\n",
       "    }\n",
       "</style>\n",
       "<table border=\"1\" class=\"dataframe\">\n",
       "  <thead>\n",
       "    <tr style=\"text-align: right;\">\n",
       "      <th></th>\n",
       "      <th>Time_sec</th>\n",
       "      <th>Date_Time</th>\n",
       "      <th>Step</th>\n",
       "      <th>Current_Amp</th>\n",
       "      <th>Voltage_Volt</th>\n",
       "      <th>Charge_Ah</th>\n",
       "      <th>Discharge_Ah</th>\n",
       "      <th>Date_Time_new</th>\n",
       "    </tr>\n",
       "    <tr>\n",
       "      <th>Cycle</th>\n",
       "      <th></th>\n",
       "      <th></th>\n",
       "      <th></th>\n",
       "      <th></th>\n",
       "      <th></th>\n",
       "      <th></th>\n",
       "      <th></th>\n",
       "      <th></th>\n",
       "    </tr>\n",
       "  </thead>\n",
       "  <tbody>\n",
       "    <tr>\n",
       "      <th>1</th>\n",
       "      <td>2768</td>\n",
       "      <td>2768</td>\n",
       "      <td>2768</td>\n",
       "      <td>2768</td>\n",
       "      <td>2768</td>\n",
       "      <td>2768</td>\n",
       "      <td>2768</td>\n",
       "      <td>2768</td>\n",
       "    </tr>\n",
       "    <tr>\n",
       "      <th>2</th>\n",
       "      <td>1290</td>\n",
       "      <td>1290</td>\n",
       "      <td>1290</td>\n",
       "      <td>1290</td>\n",
       "      <td>1290</td>\n",
       "      <td>1290</td>\n",
       "      <td>1290</td>\n",
       "      <td>1290</td>\n",
       "    </tr>\n",
       "    <tr>\n",
       "      <th>3</th>\n",
       "      <td>1264</td>\n",
       "      <td>1264</td>\n",
       "      <td>1264</td>\n",
       "      <td>1264</td>\n",
       "      <td>1264</td>\n",
       "      <td>1264</td>\n",
       "      <td>1264</td>\n",
       "      <td>1264</td>\n",
       "    </tr>\n",
       "    <tr>\n",
       "      <th>4</th>\n",
       "      <td>1253</td>\n",
       "      <td>1253</td>\n",
       "      <td>1253</td>\n",
       "      <td>1253</td>\n",
       "      <td>1253</td>\n",
       "      <td>1253</td>\n",
       "      <td>1253</td>\n",
       "      <td>1253</td>\n",
       "    </tr>\n",
       "    <tr>\n",
       "      <th>5</th>\n",
       "      <td>1253</td>\n",
       "      <td>1253</td>\n",
       "      <td>1253</td>\n",
       "      <td>1253</td>\n",
       "      <td>1253</td>\n",
       "      <td>1253</td>\n",
       "      <td>1253</td>\n",
       "      <td>1253</td>\n",
       "    </tr>\n",
       "    <tr>\n",
       "      <th>6</th>\n",
       "      <td>1249</td>\n",
       "      <td>1249</td>\n",
       "      <td>1249</td>\n",
       "      <td>1249</td>\n",
       "      <td>1249</td>\n",
       "      <td>1249</td>\n",
       "      <td>1249</td>\n",
       "      <td>1249</td>\n",
       "    </tr>\n",
       "    <tr>\n",
       "      <th>7</th>\n",
       "      <td>1239</td>\n",
       "      <td>1239</td>\n",
       "      <td>1239</td>\n",
       "      <td>1239</td>\n",
       "      <td>1239</td>\n",
       "      <td>1239</td>\n",
       "      <td>1239</td>\n",
       "      <td>1239</td>\n",
       "    </tr>\n",
       "    <tr>\n",
       "      <th>8</th>\n",
       "      <td>1240</td>\n",
       "      <td>1240</td>\n",
       "      <td>1240</td>\n",
       "      <td>1240</td>\n",
       "      <td>1240</td>\n",
       "      <td>1240</td>\n",
       "      <td>1240</td>\n",
       "      <td>1240</td>\n",
       "    </tr>\n",
       "    <tr>\n",
       "      <th>9</th>\n",
       "      <td>1242</td>\n",
       "      <td>1242</td>\n",
       "      <td>1242</td>\n",
       "      <td>1242</td>\n",
       "      <td>1242</td>\n",
       "      <td>1242</td>\n",
       "      <td>1242</td>\n",
       "      <td>1242</td>\n",
       "    </tr>\n",
       "    <tr>\n",
       "      <th>10</th>\n",
       "      <td>1235</td>\n",
       "      <td>1235</td>\n",
       "      <td>1235</td>\n",
       "      <td>1235</td>\n",
       "      <td>1235</td>\n",
       "      <td>1235</td>\n",
       "      <td>1235</td>\n",
       "      <td>1235</td>\n",
       "    </tr>\n",
       "    <tr>\n",
       "      <th>11</th>\n",
       "      <td>1236</td>\n",
       "      <td>1236</td>\n",
       "      <td>1236</td>\n",
       "      <td>1236</td>\n",
       "      <td>1236</td>\n",
       "      <td>1236</td>\n",
       "      <td>1236</td>\n",
       "      <td>1236</td>\n",
       "    </tr>\n",
       "    <tr>\n",
       "      <th>12</th>\n",
       "      <td>1233</td>\n",
       "      <td>1233</td>\n",
       "      <td>1233</td>\n",
       "      <td>1233</td>\n",
       "      <td>1233</td>\n",
       "      <td>1233</td>\n",
       "      <td>1233</td>\n",
       "      <td>1233</td>\n",
       "    </tr>\n",
       "    <tr>\n",
       "      <th>13</th>\n",
       "      <td>1233</td>\n",
       "      <td>1233</td>\n",
       "      <td>1233</td>\n",
       "      <td>1233</td>\n",
       "      <td>1233</td>\n",
       "      <td>1233</td>\n",
       "      <td>1233</td>\n",
       "      <td>1233</td>\n",
       "    </tr>\n",
       "    <tr>\n",
       "      <th>14</th>\n",
       "      <td>1236</td>\n",
       "      <td>1236</td>\n",
       "      <td>1236</td>\n",
       "      <td>1236</td>\n",
       "      <td>1236</td>\n",
       "      <td>1236</td>\n",
       "      <td>1236</td>\n",
       "      <td>1236</td>\n",
       "    </tr>\n",
       "    <tr>\n",
       "      <th>15</th>\n",
       "      <td>1234</td>\n",
       "      <td>1234</td>\n",
       "      <td>1234</td>\n",
       "      <td>1234</td>\n",
       "      <td>1234</td>\n",
       "      <td>1234</td>\n",
       "      <td>1234</td>\n",
       "      <td>1234</td>\n",
       "    </tr>\n",
       "    <tr>\n",
       "      <th>16</th>\n",
       "      <td>1236</td>\n",
       "      <td>1236</td>\n",
       "      <td>1236</td>\n",
       "      <td>1236</td>\n",
       "      <td>1236</td>\n",
       "      <td>1236</td>\n",
       "      <td>1236</td>\n",
       "      <td>1236</td>\n",
       "    </tr>\n",
       "    <tr>\n",
       "      <th>17</th>\n",
       "      <td>1234</td>\n",
       "      <td>1234</td>\n",
       "      <td>1234</td>\n",
       "      <td>1234</td>\n",
       "      <td>1234</td>\n",
       "      <td>1234</td>\n",
       "      <td>1234</td>\n",
       "      <td>1234</td>\n",
       "    </tr>\n",
       "    <tr>\n",
       "      <th>18</th>\n",
       "      <td>1238</td>\n",
       "      <td>1238</td>\n",
       "      <td>1238</td>\n",
       "      <td>1238</td>\n",
       "      <td>1238</td>\n",
       "      <td>1238</td>\n",
       "      <td>1238</td>\n",
       "      <td>1238</td>\n",
       "    </tr>\n",
       "    <tr>\n",
       "      <th>19</th>\n",
       "      <td>1238</td>\n",
       "      <td>1238</td>\n",
       "      <td>1238</td>\n",
       "      <td>1238</td>\n",
       "      <td>1238</td>\n",
       "      <td>1238</td>\n",
       "      <td>1238</td>\n",
       "      <td>1238</td>\n",
       "    </tr>\n",
       "    <tr>\n",
       "      <th>20</th>\n",
       "      <td>1236</td>\n",
       "      <td>1236</td>\n",
       "      <td>1236</td>\n",
       "      <td>1236</td>\n",
       "      <td>1236</td>\n",
       "      <td>1236</td>\n",
       "      <td>1236</td>\n",
       "      <td>1236</td>\n",
       "    </tr>\n",
       "  </tbody>\n",
       "</table>\n",
       "</div>"
      ],
      "text/plain": [
       "       Time_sec  Date_Time  Step  Current_Amp  Voltage_Volt  Charge_Ah  \\\n",
       "Cycle                                                                    \n",
       "1          2768       2768  2768         2768          2768       2768   \n",
       "2          1290       1290  1290         1290          1290       1290   \n",
       "3          1264       1264  1264         1264          1264       1264   \n",
       "4          1253       1253  1253         1253          1253       1253   \n",
       "5          1253       1253  1253         1253          1253       1253   \n",
       "6          1249       1249  1249         1249          1249       1249   \n",
       "7          1239       1239  1239         1239          1239       1239   \n",
       "8          1240       1240  1240         1240          1240       1240   \n",
       "9          1242       1242  1242         1242          1242       1242   \n",
       "10         1235       1235  1235         1235          1235       1235   \n",
       "11         1236       1236  1236         1236          1236       1236   \n",
       "12         1233       1233  1233         1233          1233       1233   \n",
       "13         1233       1233  1233         1233          1233       1233   \n",
       "14         1236       1236  1236         1236          1236       1236   \n",
       "15         1234       1234  1234         1234          1234       1234   \n",
       "16         1236       1236  1236         1236          1236       1236   \n",
       "17         1234       1234  1234         1234          1234       1234   \n",
       "18         1238       1238  1238         1238          1238       1238   \n",
       "19         1238       1238  1238         1238          1238       1238   \n",
       "20         1236       1236  1236         1236          1236       1236   \n",
       "\n",
       "       Discharge_Ah  Date_Time_new  \n",
       "Cycle                               \n",
       "1              2768           2768  \n",
       "2              1290           1290  \n",
       "3              1264           1264  \n",
       "4              1253           1253  \n",
       "5              1253           1253  \n",
       "6              1249           1249  \n",
       "7              1239           1239  \n",
       "8              1240           1240  \n",
       "9              1242           1242  \n",
       "10             1235           1235  \n",
       "11             1236           1236  \n",
       "12             1233           1233  \n",
       "13             1233           1233  \n",
       "14             1236           1236  \n",
       "15             1234           1234  \n",
       "16             1236           1236  \n",
       "17             1234           1234  \n",
       "18             1238           1238  \n",
       "19             1238           1238  \n",
       "20             1236           1236  "
      ]
     },
     "execution_count": 37,
     "metadata": {},
     "output_type": "execute_result"
    }
   ],
   "source": [
    "df_grouped.head(20)"
   ]
  },
  {
   "cell_type": "code",
   "execution_count": 40,
   "metadata": {},
   "outputs": [],
   "source": [
    "cycle_start_indices = df_grouped['Time_sec'].cumsum()"
   ]
  },
  {
   "cell_type": "code",
   "execution_count": 49,
   "metadata": {},
   "outputs": [
    {
     "data": {
      "text/plain": [
       "2768"
      ]
     },
     "execution_count": 49,
     "metadata": {},
     "output_type": "execute_result"
    }
   ],
   "source": [
    "cycle_start_indices.iloc[0]"
   ]
  },
  {
   "cell_type": "code",
   "execution_count": 59,
   "metadata": {},
   "outputs": [
    {
     "data": {
      "text/plain": [
       "47"
      ]
     },
     "execution_count": 59,
     "metadata": {},
     "output_type": "execute_result"
    }
   ],
   "source": [
    "df_pl12_indexed['Cycle'].iloc[cycle_start_indices.iloc[45]]"
   ]
  },
  {
   "cell_type": "code",
   "execution_count": 63,
   "metadata": {},
   "outputs": [
    {
     "name": "stderr",
     "output_type": "stream",
     "text": [
      "/home/chintan/anaconda3/envs/keras2/lib/python3.6/site-packages/pandas/core/indexing.py:190: SettingWithCopyWarning: \n",
      "A value is trying to be set on a copy of a slice from a DataFrame\n",
      "\n",
      "See the caveats in the documentation: http://pandas.pydata.org/pandas-docs/stable/indexing.html#indexing-view-versus-copy\n",
      "  self._setitem_with_indexer(indexer, value)\n"
     ]
    }
   ],
   "source": [
    "df_pl12_indexed['Charge_cycle_Ah'] = df_pl12_indexed['Charge_Ah'] \n",
    "for i in range(1, len(cycle_start_indices)):\n",
    "    df_pl12_indexed['Charge_cycle_Ah'].iloc[cycle_start_indices.iloc[i-1]:cycle_start_indices.iloc[i]] =  df_pl12_indexed['Charge_Ah'].iloc[cycle_start_indices.iloc[i-1]:cycle_start_indices.iloc[i]] - max(df_pl12_indexed['Charge_Ah'].iloc[0:cycle_start_indices.iloc[i-1]]) "
   ]
  },
  {
   "cell_type": "code",
   "execution_count": 64,
   "metadata": {},
   "outputs": [
    {
     "data": {
      "text/html": [
       "<div>\n",
       "<style scoped>\n",
       "    .dataframe tbody tr th:only-of-type {\n",
       "        vertical-align: middle;\n",
       "    }\n",
       "\n",
       "    .dataframe tbody tr th {\n",
       "        vertical-align: top;\n",
       "    }\n",
       "\n",
       "    .dataframe thead th {\n",
       "        text-align: right;\n",
       "    }\n",
       "</style>\n",
       "<table border=\"1\" class=\"dataframe\">\n",
       "  <thead>\n",
       "    <tr style=\"text-align: right;\">\n",
       "      <th></th>\n",
       "      <th>Time_sec</th>\n",
       "      <th>Date_Time</th>\n",
       "      <th>Step</th>\n",
       "      <th>Cycle</th>\n",
       "      <th>Current_Amp</th>\n",
       "      <th>Voltage_Volt</th>\n",
       "      <th>Charge_Ah</th>\n",
       "      <th>Discharge_Ah</th>\n",
       "      <th>Date_Time_new</th>\n",
       "      <th>Charge_cycle_Ah</th>\n",
       "    </tr>\n",
       "  </thead>\n",
       "  <tbody>\n",
       "    <tr>\n",
       "      <th>0</th>\n",
       "      <td>10.000357</td>\n",
       "      <td>735819.421979</td>\n",
       "      <td>1</td>\n",
       "      <td>1</td>\n",
       "      <td>0.0</td>\n",
       "      <td>4.190699</td>\n",
       "      <td>0.0</td>\n",
       "      <td>0.0</td>\n",
       "      <td>2014-08-08 10:07:39.000032</td>\n",
       "      <td>0.0</td>\n",
       "    </tr>\n",
       "    <tr>\n",
       "      <th>1</th>\n",
       "      <td>20.000433</td>\n",
       "      <td>735819.422095</td>\n",
       "      <td>1</td>\n",
       "      <td>1</td>\n",
       "      <td>0.0</td>\n",
       "      <td>4.190699</td>\n",
       "      <td>0.0</td>\n",
       "      <td>0.0</td>\n",
       "      <td>2014-08-08 10:07:48.999967</td>\n",
       "      <td>0.0</td>\n",
       "    </tr>\n",
       "    <tr>\n",
       "      <th>2</th>\n",
       "      <td>30.016045</td>\n",
       "      <td>735819.422211</td>\n",
       "      <td>1</td>\n",
       "      <td>1</td>\n",
       "      <td>0.0</td>\n",
       "      <td>4.190861</td>\n",
       "      <td>0.0</td>\n",
       "      <td>0.0</td>\n",
       "      <td>2014-08-08 10:07:58.999984</td>\n",
       "      <td>0.0</td>\n",
       "    </tr>\n",
       "    <tr>\n",
       "      <th>3</th>\n",
       "      <td>40.031507</td>\n",
       "      <td>735819.422326</td>\n",
       "      <td>1</td>\n",
       "      <td>1</td>\n",
       "      <td>0.0</td>\n",
       "      <td>4.190537</td>\n",
       "      <td>0.0</td>\n",
       "      <td>0.0</td>\n",
       "      <td>2014-08-08 10:08:09.000020</td>\n",
       "      <td>0.0</td>\n",
       "    </tr>\n",
       "    <tr>\n",
       "      <th>4</th>\n",
       "      <td>50.047247</td>\n",
       "      <td>735819.422454</td>\n",
       "      <td>1</td>\n",
       "      <td>1</td>\n",
       "      <td>0.0</td>\n",
       "      <td>4.190861</td>\n",
       "      <td>0.0</td>\n",
       "      <td>0.0</td>\n",
       "      <td>2014-08-08 10:08:20.000031</td>\n",
       "      <td>0.0</td>\n",
       "    </tr>\n",
       "  </tbody>\n",
       "</table>\n",
       "</div>"
      ],
      "text/plain": [
       "    Time_sec      Date_Time Step Cycle  Current_Amp  Voltage_Volt  Charge_Ah  \\\n",
       "0  10.000357  735819.421979    1     1          0.0      4.190699        0.0   \n",
       "1  20.000433  735819.422095    1     1          0.0      4.190699        0.0   \n",
       "2  30.016045  735819.422211    1     1          0.0      4.190861        0.0   \n",
       "3  40.031507  735819.422326    1     1          0.0      4.190537        0.0   \n",
       "4  50.047247  735819.422454    1     1          0.0      4.190861        0.0   \n",
       "\n",
       "   Discharge_Ah              Date_Time_new  Charge_cycle_Ah  \n",
       "0           0.0 2014-08-08 10:07:39.000032              0.0  \n",
       "1           0.0 2014-08-08 10:07:48.999967              0.0  \n",
       "2           0.0 2014-08-08 10:07:58.999984              0.0  \n",
       "3           0.0 2014-08-08 10:08:09.000020              0.0  \n",
       "4           0.0 2014-08-08 10:08:20.000031              0.0  "
      ]
     },
     "execution_count": 64,
     "metadata": {},
     "output_type": "execute_result"
    }
   ],
   "source": [
    "df_pl12_indexed.head()"
   ]
  },
  {
   "cell_type": "code",
   "execution_count": 68,
   "metadata": {},
   "outputs": [
    {
     "data": {
      "text/plain": [
       "[<matplotlib.lines.Line2D at 0x7fd186d8bac8>]"
      ]
     },
     "execution_count": 68,
     "metadata": {},
     "output_type": "execute_result"
    },
    {
     "data": {
      "image/png": "[encoded data removed]",
      "text/plain": [
       "<Figure size 432x288 with 1 Axes>"
      ]
     },
     "metadata": {
      "needs_background": "light"
     },
     "output_type": "display_data"
    }
   ],
   "source": [
    "plt.plot(df_pl12_indexed['Charge_cycle_Ah'].iloc[1:1000000])"
   ]
  },
  {
   "cell_type": "code",
   "execution_count": null,
   "metadata": {},
   "outputs": [],
   "source": []
  }
 ],
 "metadata": {
  "kernelspec": {
   "display_name": "Python 3",
   "language": "python",
   "name": "python3"
  },
  "language_info": {
   "codemirror_mode": {
    "name": "ipython",
    "version": 3
   },
   "file_extension": ".py",
   "mimetype": "text/x-python",
   "name": "python",
   "nbconvert_exporter": "python",
   "pygments_lexer": "ipython3",
   "version": "3.6.8"
  }
 },
 "nbformat": 4,
 "nbformat_minor": 2
}
