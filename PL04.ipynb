{
 "cells": [
  {
   "cell_type": "code",
   "execution_count": 1,
   "metadata": {},
   "outputs": [],
   "source": [
    "import numpy as np\n",
    "import pandas as pd\n",
    "import re\n",
    "import os \n",
    "import glob\n",
    "import matplotlib.pyplot as plt\n",
    "import xlrd"
   ]
  },
  {
   "cell_type": "code",
   "execution_count": 5,
   "metadata": {},
   "outputs": [
    {
     "name": "stdout",
     "output_type": "stream",
     "text": [
      "/Users/guge/Downloads/PL 4,5/PL04\n"
     ]
    }
   ],
   "source": [
    "print (os.getcwd())"
   ]
  },
  {
   "cell_type": "code",
   "execution_count": 6,
   "metadata": {},
   "outputs": [
    {
     "data": {
      "text/plain": [
       "['PL0401.csv',\n",
       " 'PL0402.csv',\n",
       " 'PL0403.csv',\n",
       " 'PL0404.csv',\n",
       " 'PL0405.csv',\n",
       " 'PL0406.csv',\n",
       " 'PL0407.csv',\n",
       " 'PL0408.csv',\n",
       " 'PL0409.csv',\n",
       " 'PL0410.csv',\n",
       " 'PL0411.csv',\n",
       " 'PL0412.csv',\n",
       " 'PL0413.csv',\n",
       " 'PL0414.csv',\n",
       " 'PL0415.csv',\n",
       " 'PL0416.csv',\n",
       " 'PL0417.csv',\n",
       " 'PL0418.csv',\n",
       " 'PL0419.csv',\n",
       " 'PL0420.csv',\n",
       " 'PL0421.csv',\n",
       " 'PL0422.csv']"
      ]
     },
     "execution_count": 6,
     "metadata": {},
     "output_type": "execute_result"
    }
   ],
   "source": [
    "path = '/Users/guge/Downloads/PL 4,5/PL04'\n",
    "files = os.listdir(path)\n",
    "files_csv = list(filter(lambda x: x[-4:]=='.csv' , files))\n",
    "files_csv.sort()\n",
    "files_csv"
   ]
  },
  {
   "cell_type": "code",
   "execution_count": 8,
   "metadata": {},
   "outputs": [],
   "source": [
    "PL04 = []  \n",
    "for filename in files_csv:\n",
    "    df = pd.read_csv(filename)\n",
    "    PL04.append(df)"
   ]
  },
  {
   "cell_type": "code",
   "execution_count": null,
   "metadata": {},
   "outputs": [],
   "source": []
  },
  {
   "cell_type": "code",
   "execution_count": 10,
   "metadata": {},
   "outputs": [],
   "source": [
    "for df in PL04:\n",
    "    df['Time_sec'] = df['Time_sec']/60\n",
    "    df.rename(columns={'Time_sec':'Time_min'},inplace = True)\n",
    "    df['Data_point'] = df.index"
   ]
  },
  {
   "cell_type": "code",
   "execution_count": 35,
   "metadata": {},
   "outputs": [
    {
     "name": "stderr",
     "output_type": "stream",
     "text": [
      "/miniconda3/lib/python3.7/site-packages/ipykernel_launcher.py:8: SettingWithCopyWarning: \n",
      "A value is trying to be set on a copy of a slice from a DataFrame\n",
      "\n",
      "See the caveats in the documentation: http://pandas.pydata.org/pandas-docs/stable/indexing.html#indexing-view-versus-copy\n",
      "  \n",
      "/miniconda3/lib/python3.7/site-packages/ipykernel_launcher.py:9: SettingWithCopyWarning: \n",
      "A value is trying to be set on a copy of a slice from a DataFrame\n",
      "\n",
      "See the caveats in the documentation: http://pandas.pydata.org/pandas-docs/stable/indexing.html#indexing-view-versus-copy\n",
      "  if __name__ == '__main__':\n",
      "/miniconda3/lib/python3.7/site-packages/ipykernel_launcher.py:11: SettingWithCopyWarning: \n",
      "A value is trying to be set on a copy of a slice from a DataFrame\n",
      "\n",
      "See the caveats in the documentation: http://pandas.pydata.org/pandas-docs/stable/indexing.html#indexing-view-versus-copy\n",
      "  # This is added back by InteractiveShellApp.init_path()\n",
      "/miniconda3/lib/python3.7/site-packages/ipykernel_launcher.py:12: SettingWithCopyWarning: \n",
      "A value is trying to be set on a copy of a slice from a DataFrame\n",
      "\n",
      "See the caveats in the documentation: http://pandas.pydata.org/pandas-docs/stable/indexing.html#indexing-view-versus-copy\n",
      "  if sys.path[0] == '':\n"
     ]
    }
   ],
   "source": [
    "for df in PL04:\n",
    "    group = df.groupby(['Cycle']).count()\n",
    "    group['Cumu_count'] = group['Data_point'].cumsum()\n",
    "    cycle = []\n",
    "    cycle = group['Cumu_count']\n",
    "    df['Charge'] = \"\"\n",
    "    df['Discharge'] = \"\"\n",
    "    df['Discharge'][0:cycle[1]] = df['Discharge_Ah'][0:cycle[1]]\n",
    "    df['Charge'][0:cycle[1]] = df['Charge_Ah'][0:cycle[1]]\n",
    "    for i in range(1,len(cycle)):\n",
    "        df['Charge'][cycle[i]:cycle[i+1]] = df['Charge_Ah'][cycle[i]:cycle[i+1]]-df['Charge_Ah'][cycle[i]]\n",
    "        df['Discharge'][cycle[i]:cycle[i+1]] = df['Discharge_Ah'][cycle[i]:cycle[i+1]]-df['Discharge_Ah'][cycle[i]]\n",
    "        "
   ]
  },
  {
   "cell_type": "code",
   "execution_count": 51,
   "metadata": {},
   "outputs": [],
   "source": [
    "max_charge_every_cycle = []\n",
    "max_discharge_every_cycle = []\n",
    "for df in PL04:\n",
    "    group = df.groupby(['Cycle']).count()\n",
    "    group['Cumu_count'] = group['Data_point'].cumsum()\n",
    "    cycle = []\n",
    "    cycle = group['Cumu_count']\n",
    "    for i in range(1,len(cycle)):\n",
    "        max_charge_every_cycle.append(max(df['Charge'][cycle[i]:cycle[i+1]]))\n",
    "        max_discharge_every_cycle.append(max(df['Discharge'][cycle[i]:cycle[i+1]]))   \n",
    "            "
   ]
  },
  {
   "cell_type": "code",
   "execution_count": 60,
   "metadata": {},
   "outputs": [],
   "source": [
    "def filter_list(l):\n",
    "    list_without_L =  [item for item in l if item<1.0] \n",
    "    list_degradation = [item for item in list_without_L if item >0.265]\n",
    "    return list_degradation"
   ]
  },
  {
   "cell_type": "code",
   "execution_count": 61,
   "metadata": {},
   "outputs": [],
   "source": [
    "a = filter_list(max_charge_every_cycle)"
   ]
  },
  {
   "cell_type": "code",
   "execution_count": 54,
   "metadata": {},
   "outputs": [],
   "source": [
    "def filter_list2(l):\n",
    "    list_without_L =  [item for item in l if item<0.3] \n",
    "    list_degradation = [item for item in list_without_L if item >0.26]\n",
    "    return list_degradation"
   ]
  },
  {
   "cell_type": "code",
   "execution_count": 55,
   "metadata": {},
   "outputs": [],
   "source": [
    "b = filter_list2(max_discharge_every_cycle)"
   ]
  },
  {
   "cell_type": "code",
   "execution_count": 62,
   "metadata": {},
   "outputs": [
    {
     "data": {
      "text/plain": [
       "Text(0, 0.5, 'Charge_capacity')"
      ]
     },
     "execution_count": 62,
     "metadata": {},
     "output_type": "execute_result"
    },
    {
     "data": {
      "image/png": "[encoded data removed]",
      "text/plain": [
       "<Figure size 432x288 with 1 Axes>"
      ]
     },
     "metadata": {
      "needs_background": "light"
     },
     "output_type": "display_data"
    }
   ],
   "source": [
    "plt.plot(range(0,len(a)),a)\n",
    "plt.xlabel('cycle')\n",
    "plt.ylabel('Charge_capacity')"
   ]
  },
  {
   "cell_type": "code",
   "execution_count": 57,
   "metadata": {},
   "outputs": [
    {
     "data": {
      "text/plain": [
       "Text(0, 0.5, 'Discharge_capacity')"
      ]
     },
     "execution_count": 57,
     "metadata": {},
     "output_type": "execute_result"
    },
    {
     "data": {
      "image/png": "[encoded data removed]",
      "text/plain": [
       "<Figure size 432x288 with 1 Axes>"
      ]
     },
     "metadata": {
      "needs_background": "light"
     },
     "output_type": "display_data"
    }
   ],
   "source": [
    "plt.plot(range(0,len(b)),b)\n",
    "plt.xlabel('cycle')\n",
    "plt.ylabel('Discharge_capacity')"
   ]
  },
  {
   "cell_type": "code",
   "execution_count": null,
   "metadata": {},
   "outputs": [],
   "source": []
  }
 ],
 "metadata": {
  "kernelspec": {
   "display_name": "Python 3",
   "language": "python",
   "name": "python3"
  },
  "language_info": {
   "codemirror_mode": {
    "name": "ipython",
    "version": 3
   },
   "file_extension": ".py",
   "mimetype": "text/x-python",
   "name": "python",
   "nbconvert_exporter": "python",
   "pygments_lexer": "ipython3",
   "version": "3.7.1"
  }
 },
 "nbformat": 4,
 "nbformat_minor": 2
}
